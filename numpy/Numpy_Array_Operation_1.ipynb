{
  "nbformat": 4,
  "nbformat_minor": 0,
  "metadata": {
    "colab": {
      "name": "Numpy Array Operation 1",
      "provenance": [],
      "collapsed_sections": [],
      "authorship_tag": "ABX9TyNWBgopLBepxVSkhWFdm82t",
      "include_colab_link": true
    },
    "kernelspec": {
      "name": "python3",
      "display_name": "Python 3"
    }
  },
  "cells": [
    {
      "cell_type": "markdown",
      "metadata": {
        "id": "view-in-github",
        "colab_type": "text"
      },
      "source": [
        "<a href=\"https://colab.research.google.com/github/Ar-Anik/Machine_Learning/blob/main/Numpy_Array_Operation_1.ipynb\" target=\"_parent\"><img src=\"https://colab.research.google.com/assets/colab-badge.svg\" alt=\"Open In Colab\"/></a>"
      ]
    },
    {
      "cell_type": "code",
      "metadata": {
        "colab": {
          "base_uri": "https://localhost:8080/"
        },
        "id": "f8uj7Ksu3qsS",
        "outputId": "56b17158-c1dc-4709-9592-493a50737d6b"
      },
      "source": [
        "import numpy\n",
        "\n",
        "# 1 Dimensional Array\n",
        "a = numpy.array([1, 2, 3, 4, 5, 6])\n",
        "\n",
        "a"
      ],
      "execution_count": 2,
      "outputs": [
        {
          "output_type": "execute_result",
          "data": {
            "text/plain": [
              "array([1, 2, 3, 4, 5, 6])"
            ]
          },
          "metadata": {
            "tags": []
          },
          "execution_count": 2
        }
      ]
    },
    {
      "cell_type": "code",
      "metadata": {
        "colab": {
          "base_uri": "https://localhost:8080/"
        },
        "id": "nfmOQfCm4U94",
        "outputId": "9308096f-304d-4db8-81e7-f30fde963975"
      },
      "source": [
        "print(a)"
      ],
      "execution_count": null,
      "outputs": [
        {
          "output_type": "stream",
          "text": [
            "[1 2 3 4 5 6]\n"
          ],
          "name": "stdout"
        }
      ]
    },
    {
      "cell_type": "code",
      "metadata": {
        "colab": {
          "base_uri": "https://localhost:8080/"
        },
        "id": "UkCpfzjL4ee7",
        "outputId": "7f80be44-e9d3-44c5-f086-1d2fc31ef615"
      },
      "source": [
        "# 2 Dimensional Array\n",
        "\n",
        "b = numpy.array([[1, 2, 3],\n",
        "                 [4, 5, 6],\n",
        "                 [7, 8, 9]])\n",
        "\n",
        "b"
      ],
      "execution_count": null,
      "outputs": [
        {
          "output_type": "execute_result",
          "data": {
            "text/plain": [
              "array([[1, 2, 3],\n",
              "       [4, 5, 6],\n",
              "       [7, 8, 9]])"
            ]
          },
          "metadata": {
            "tags": []
          },
          "execution_count": 6
        }
      ]
    },
    {
      "cell_type": "code",
      "metadata": {
        "colab": {
          "base_uri": "https://localhost:8080/"
        },
        "id": "-K9FTRoE4zsv",
        "outputId": "0ead4317-a131-430b-97ea-fb5ad734189e"
      },
      "source": [
        "print(b)"
      ],
      "execution_count": null,
      "outputs": [
        {
          "output_type": "stream",
          "text": [
            "[[1 2 3]\n",
            " [4 5 6]\n",
            " [7 8 9]]\n"
          ],
          "name": "stdout"
        }
      ]
    },
    {
      "cell_type": "code",
      "metadata": {
        "colab": {
          "base_uri": "https://localhost:8080/"
        },
        "id": "fTq8TDX943av",
        "outputId": "44bd3222-d33e-41d4-fe6b-4ed6c2086068"
      },
      "source": [
        "# a array Dimension \n",
        "\n",
        "print(a.ndim)"
      ],
      "execution_count": null,
      "outputs": [
        {
          "output_type": "stream",
          "text": [
            "1\n"
          ],
          "name": "stdout"
        }
      ]
    },
    {
      "cell_type": "code",
      "metadata": {
        "colab": {
          "base_uri": "https://localhost:8080/"
        },
        "id": "LtL8VxNQ5COv",
        "outputId": "5dac84a6-41c1-42ec-f3b1-e39620f47679"
      },
      "source": [
        "# b array Dimension\n",
        "\n",
        "print(b.ndim)"
      ],
      "execution_count": null,
      "outputs": [
        {
          "output_type": "stream",
          "text": [
            "2\n"
          ],
          "name": "stdout"
        }
      ]
    },
    {
      "cell_type": "code",
      "metadata": {
        "colab": {
          "base_uri": "https://localhost:8080/"
        },
        "id": "UEjw6pfI5HQo",
        "outputId": "68b0cb10-ddc6-49b4-8993-f4388e925913"
      },
      "source": [
        "# a Array Element Size\n",
        "\n",
        "a.itemsize"
      ],
      "execution_count": null,
      "outputs": [
        {
          "output_type": "execute_result",
          "data": {
            "text/plain": [
              "8"
            ]
          },
          "metadata": {
            "tags": []
          },
          "execution_count": 11
        }
      ]
    },
    {
      "cell_type": "code",
      "metadata": {
        "colab": {
          "base_uri": "https://localhost:8080/"
        },
        "id": "zs9DeEw05Ofb",
        "outputId": "90f97f19-f90b-4a27-aa55-8fca722b39fc"
      },
      "source": [
        "# b Array Element Size\n",
        "\n",
        "b.itemsize"
      ],
      "execution_count": null,
      "outputs": [
        {
          "output_type": "execute_result",
          "data": {
            "text/plain": [
              "8"
            ]
          },
          "metadata": {
            "tags": []
          },
          "execution_count": 12
        }
      ]
    },
    {
      "cell_type": "code",
      "metadata": {
        "colab": {
          "base_uri": "https://localhost:8080/"
        },
        "id": "X6B35_j75fRX",
        "outputId": "02a05a19-3ad2-42e8-b4bb-3aa0a7d0603d"
      },
      "source": [
        "# a Array Data Type\n",
        "\n",
        "a.dtype"
      ],
      "execution_count": null,
      "outputs": [
        {
          "output_type": "execute_result",
          "data": {
            "text/plain": [
              "dtype('int64')"
            ]
          },
          "metadata": {
            "tags": []
          },
          "execution_count": 13
        }
      ]
    },
    {
      "cell_type": "code",
      "metadata": {
        "colab": {
          "base_uri": "https://localhost:8080/"
        },
        "id": "R6aNv_5m5m_n",
        "outputId": "50c014d7-cd16-4677-baee-3e817d235246"
      },
      "source": [
        "# b Array Data Type\n",
        "\n",
        "b.dtype"
      ],
      "execution_count": null,
      "outputs": [
        {
          "output_type": "execute_result",
          "data": {
            "text/plain": [
              "dtype('int64')"
            ]
          },
          "metadata": {
            "tags": []
          },
          "execution_count": 14
        }
      ]
    },
    {
      "cell_type": "code",
      "metadata": {
        "colab": {
          "base_uri": "https://localhost:8080/"
        },
        "id": "o5IPeVIL5vsf",
        "outputId": "ced680cc-9e46-483e-fce3-a87e17891c81"
      },
      "source": [
        "# Array Data Type Change by \"dtype\" keyword\n",
        "\n",
        "c = numpy.array([1, 2, 3, 4, 5], dtype = numpy.float64)   #convert integer to float\n",
        "\n",
        "c"
      ],
      "execution_count": null,
      "outputs": [
        {
          "output_type": "execute_result",
          "data": {
            "text/plain": [
              "array([1., 2., 3., 4., 5.])"
            ]
          },
          "metadata": {
            "tags": []
          },
          "execution_count": 15
        }
      ]
    },
    {
      "cell_type": "code",
      "metadata": {
        "colab": {
          "base_uri": "https://localhost:8080/"
        },
        "id": "OBrouBnh6TtG",
        "outputId": "992b83c7-0844-4ea1-afc6-a656dea7f8d7"
      },
      "source": [
        "# c Array Data Type\n",
        "\n",
        "c.dtype"
      ],
      "execution_count": null,
      "outputs": [
        {
          "output_type": "execute_result",
          "data": {
            "text/plain": [
              "dtype('float64')"
            ]
          },
          "metadata": {
            "tags": []
          },
          "execution_count": 16
        }
      ]
    },
    {
      "cell_type": "code",
      "metadata": {
        "colab": {
          "base_uri": "https://localhost:8080/"
        },
        "id": "t0L9_ovI6Tzm",
        "outputId": "394857f4-9b8b-4bd3-8d90-d0d219a37aa3"
      },
      "source": [
        "d = numpy.array([[1, 2, 3, 4], [5, 6, 7, 8]], dtype = numpy.float64)    # conver interger to float\n",
        "\n",
        "d"
      ],
      "execution_count": null,
      "outputs": [
        {
          "output_type": "execute_result",
          "data": {
            "text/plain": [
              "array([[1., 2., 3., 4.],\n",
              "       [5., 6., 7., 8.]])"
            ]
          },
          "metadata": {
            "tags": []
          },
          "execution_count": 17
        }
      ]
    },
    {
      "cell_type": "code",
      "metadata": {
        "colab": {
          "base_uri": "https://localhost:8080/"
        },
        "id": "zLQl9UJo9WXz",
        "outputId": "d8446a9e-d3f9-4fcf-eff8-2a523072298e"
      },
      "source": [
        "# convert integer to complex number\n",
        "\n",
        "a = numpy.array([1, 2, 3], dtype=complex)\n",
        "\n",
        "print(a)"
      ],
      "execution_count": null,
      "outputs": [
        {
          "output_type": "stream",
          "text": [
            "[1.+0.j 2.+0.j 3.+0.j]\n"
          ],
          "name": "stdout"
        }
      ]
    },
    {
      "cell_type": "code",
      "metadata": {
        "colab": {
          "base_uri": "https://localhost:8080/"
        },
        "id": "ZrUewDdn9tp9",
        "outputId": "336bfef8-372d-4873-df1e-8438657b0cd1"
      },
      "source": [
        "b = numpy.array([[1, 2], [3, 4], [5, 6]], dtype = complex)\n",
        "\n",
        "print(b)"
      ],
      "execution_count": null,
      "outputs": [
        {
          "output_type": "stream",
          "text": [
            "[[1.+0.j 2.+0.j]\n",
            " [3.+0.j 4.+0.j]\n",
            " [5.+0.j 6.+0.j]]\n"
          ],
          "name": "stdout"
        }
      ]
    },
    {
      "cell_type": "code",
      "metadata": {
        "colab": {
          "base_uri": "https://localhost:8080/"
        },
        "id": "bWYKD-N0-U0I",
        "outputId": "fe02323c-a060-4784-c39f-822508cde25c"
      },
      "source": [
        "print(\"Data Type of Array a : \", a.dtype, '\\n\\n', \"Data Type of Array b\", b.dtype)"
      ],
      "execution_count": null,
      "outputs": [
        {
          "output_type": "stream",
          "text": [
            "Data Type of Array a :  complex128 \n",
            "\n",
            " Data Type of Array b complex128\n"
          ],
          "name": "stdout"
        }
      ]
    },
    {
      "cell_type": "code",
      "metadata": {
        "colab": {
          "base_uri": "https://localhost:8080/"
        },
        "id": "BEmkUU3g-vJm",
        "outputId": "9be77588-79ca-4724-db13-804892953c35"
      },
      "source": [
        "# Size of Array\n",
        "\n",
        "a = numpy.array([[1, 2],\n",
        "                 [3, 4],\n",
        "                 [5, 6] \n",
        "                ])\n",
        "\n",
        "a.size"
      ],
      "execution_count": null,
      "outputs": [
        {
          "output_type": "execute_result",
          "data": {
            "text/plain": [
              "6"
            ]
          },
          "metadata": {
            "tags": []
          },
          "execution_count": 22
        }
      ]
    },
    {
      "cell_type": "code",
      "metadata": {
        "colab": {
          "base_uri": "https://localhost:8080/"
        },
        "id": "eb_Pzxre_BgP",
        "outputId": "bb78c064-8419-4ac7-f9a9-e926593fa5dd"
      },
      "source": [
        "# Array Shape Means row and column\n",
        "\n",
        "a.shape"
      ],
      "execution_count": null,
      "outputs": [
        {
          "output_type": "execute_result",
          "data": {
            "text/plain": [
              "(3, 2)"
            ]
          },
          "metadata": {
            "tags": []
          },
          "execution_count": 23
        }
      ]
    },
    {
      "cell_type": "code",
      "metadata": {
        "colab": {
          "base_uri": "https://localhost:8080/"
        },
        "id": "wSgR5fit8uxn",
        "outputId": "cf5f943c-df06-4393-da4e-989f1856ea51"
      },
      "source": [
        "# Declare a array and fill it all element by zero\n",
        "\n",
        "x = numpy.zeros((4, 4))\n",
        "\n",
        "print(x)"
      ],
      "execution_count": 4,
      "outputs": [
        {
          "output_type": "stream",
          "text": [
            "[[0. 0. 0. 0.]\n",
            " [0. 0. 0. 0.]\n",
            " [0. 0. 0. 0.]\n",
            " [0. 0. 0. 0.]]\n"
          ],
          "name": "stdout"
        }
      ]
    },
    {
      "cell_type": "code",
      "metadata": {
        "colab": {
          "base_uri": "https://localhost:8080/"
        },
        "id": "-FkGpiVB9Gs1",
        "outputId": "f7bd5859-22ca-445f-ee5a-83a686e20471"
      },
      "source": [
        "# Declare a array and fill it all element by one\n",
        "\n",
        "y = numpy.ones((5, 4))\n",
        "\n",
        "print(y)"
      ],
      "execution_count": 5,
      "outputs": [
        {
          "output_type": "stream",
          "text": [
            "[[1. 1. 1. 1.]\n",
            " [1. 1. 1. 1.]\n",
            " [1. 1. 1. 1.]\n",
            " [1. 1. 1. 1.]\n",
            " [1. 1. 1. 1.]]\n"
          ],
          "name": "stdout"
        }
      ]
    },
    {
      "cell_type": "code",
      "metadata": {
        "colab": {
          "base_uri": "https://localhost:8080/"
        },
        "id": "NI9G21KO9TR8",
        "outputId": "a3c622a6-e315-4ed1-cb4a-ea18ffedd1de"
      },
      "source": [
        "# arange() function work like range() function\n",
        "\n",
        "x = numpy.arange(10)\n",
        "\n",
        "print(x)"
      ],
      "execution_count": 6,
      "outputs": [
        {
          "output_type": "stream",
          "text": [
            "[0 1 2 3 4 5 6 7 8 9]\n"
          ],
          "name": "stdout"
        }
      ]
    },
    {
      "cell_type": "code",
      "metadata": {
        "colab": {
          "base_uri": "https://localhost:8080/"
        },
        "id": "bWpE0VJ89ixb",
        "outputId": "2bfa99bd-d71f-4671-98f7-919d16cb5051"
      },
      "source": [
        "a = numpy.arange(1, 10)\n",
        "\n",
        "print(a)"
      ],
      "execution_count": 7,
      "outputs": [
        {
          "output_type": "stream",
          "text": [
            "[1 2 3 4 5 6 7 8 9]\n"
          ],
          "name": "stdout"
        }
      ]
    },
    {
      "cell_type": "code",
      "metadata": {
        "colab": {
          "base_uri": "https://localhost:8080/"
        },
        "id": "n1rEC6mS9oFi",
        "outputId": "2bfa8898-6d8c-48c4-856f-229db9f68405"
      },
      "source": [
        "y = numpy.arange(2, 21, 2)\n",
        "\n",
        "print(y)"
      ],
      "execution_count": 10,
      "outputs": [
        {
          "output_type": "stream",
          "text": [
            "[ 2  4  6  8 10 12 14 16 18 20]\n"
          ],
          "name": "stdout"
        }
      ]
    },
    {
      "cell_type": "code",
      "metadata": {
        "colab": {
          "base_uri": "https://localhost:8080/"
        },
        "id": "LT2sSlBm9t5n",
        "outputId": "551da88b-5929-4df8-c490-d6076f4c942b"
      },
      "source": [
        "# linspace() function generate number between start and end number\n",
        "\n",
        "arr = numpy.linspace(1, 2, 10)\n",
        "\n",
        "print(arr)"
      ],
      "execution_count": 13,
      "outputs": [
        {
          "output_type": "stream",
          "text": [
            "[1.         1.11111111 1.22222222 1.33333333 1.44444444 1.55555556\n",
            " 1.66666667 1.77777778 1.88888889 2.        ]\n"
          ],
          "name": "stdout"
        }
      ]
    },
    {
      "cell_type": "code",
      "metadata": {
        "colab": {
          "base_uri": "https://localhost:8080/"
        },
        "id": "hbvTi3AW-pjL",
        "outputId": "3a89f3d6-f516-47d1-eee8-7a1269789c83"
      },
      "source": [
        "n = numpy.linspace(1, 2, 20)\n",
        "\n",
        "print(n)"
      ],
      "execution_count": 14,
      "outputs": [
        {
          "output_type": "stream",
          "text": [
            "[1.         1.05263158 1.10526316 1.15789474 1.21052632 1.26315789\n",
            " 1.31578947 1.36842105 1.42105263 1.47368421 1.52631579 1.57894737\n",
            " 1.63157895 1.68421053 1.73684211 1.78947368 1.84210526 1.89473684\n",
            " 1.94736842 2.        ]\n"
          ],
          "name": "stdout"
        }
      ]
    },
    {
      "cell_type": "code",
      "metadata": {
        "colab": {
          "base_uri": "https://localhost:8080/"
        },
        "id": "f4pDAmdk-3a7",
        "outputId": "f7a63537-f8df-462d-ace1-14658c58bd9e"
      },
      "source": [
        "# reshape() function set the exist array new dimension\n",
        "\n",
        "a = numpy.array([[1, 2],\n",
        "                 [3, 4],\n",
        "                 [5, 6],\n",
        "                 [7, 8]\n",
        "                 ])\n",
        "print(\"Array Row and Column : \", a.shape)"
      ],
      "execution_count": 15,
      "outputs": [
        {
          "output_type": "stream",
          "text": [
            "Array Row and Column :  (4, 2)\n"
          ],
          "name": "stdout"
        }
      ]
    },
    {
      "cell_type": "code",
      "metadata": {
        "colab": {
          "base_uri": "https://localhost:8080/"
        },
        "id": "kYXuYivl_UuJ",
        "outputId": "8b182584-af05-48a6-bf0f-bad11434fc83"
      },
      "source": [
        "a = a.reshape(2, 4)\n",
        "\n",
        "print(a)"
      ],
      "execution_count": 16,
      "outputs": [
        {
          "output_type": "stream",
          "text": [
            "[[1 2 3 4]\n",
            " [5 6 7 8]]\n"
          ],
          "name": "stdout"
        }
      ]
    },
    {
      "cell_type": "code",
      "metadata": {
        "colab": {
          "base_uri": "https://localhost:8080/"
        },
        "id": "0aZA2Qr-_dMv",
        "outputId": "d73e726c-6bc1-4e06-eb35-3cf72f4a7c7e"
      },
      "source": [
        "print(\"Array Row and Column after reshape : \", a.shape)"
      ],
      "execution_count": 17,
      "outputs": [
        {
          "output_type": "stream",
          "text": [
            "Array Row and Column after reshape :  (2, 4)\n"
          ],
          "name": "stdout"
        }
      ]
    },
    {
      "cell_type": "code",
      "metadata": {
        "colab": {
          "base_uri": "https://localhost:8080/"
        },
        "id": "xf1ThrY1_lOy",
        "outputId": "7da444d4-cbe9-4341-f7a5-9ab958d4f903"
      },
      "source": [
        "# N Dimension to 1 Dimension By ravel() function\n",
        "\n",
        "arr = numpy.array([[1, 2, 3],\n",
        "                   [4, 5, 6],\n",
        "                   [7, 8, 9]\n",
        "                   ])\n",
        "\n",
        "print(arr)"
      ],
      "execution_count": 18,
      "outputs": [
        {
          "output_type": "stream",
          "text": [
            "[[1 2 3]\n",
            " [4 5 6]\n",
            " [7 8 9]]\n"
          ],
          "name": "stdout"
        }
      ]
    },
    {
      "cell_type": "code",
      "metadata": {
        "colab": {
          "base_uri": "https://localhost:8080/"
        },
        "id": "idoSDy-iAG-C",
        "outputId": "cf3b6664-b708-474f-a7b3-b39d59176188"
      },
      "source": [
        "new_array = arr.ravel()\n",
        "\n",
        "print(new_array)"
      ],
      "execution_count": 21,
      "outputs": [
        {
          "output_type": "stream",
          "text": [
            "[1 2 3 4 5 6 7 8 9]\n"
          ],
          "name": "stdout"
        }
      ]
    },
    {
      "cell_type": "code",
      "metadata": {
        "colab": {
          "base_uri": "https://localhost:8080/"
        },
        "id": "mPtFo8P5AGcO",
        "outputId": "137ee8ac-32d6-48b7-9056-61209d54f2cc"
      },
      "source": [
        "# min() function found minimum value of a array\n",
        "\n",
        "a = numpy.array([[100, 2, 3],\n",
        "                 [4, -5, 6],\n",
        "                 [7, 8, 9]\n",
        "                 ])\n",
        "\n",
        "a.min()"
      ],
      "execution_count": 25,
      "outputs": [
        {
          "output_type": "execute_result",
          "data": {
            "text/plain": [
              "-5"
            ]
          },
          "metadata": {
            "tags": []
          },
          "execution_count": 25
        }
      ]
    },
    {
      "cell_type": "code",
      "metadata": {
        "colab": {
          "base_uri": "https://localhost:8080/"
        },
        "id": "Oe-euzBXApSW",
        "outputId": "748f370b-2ff1-4553-b549-59e7d813100d"
      },
      "source": [
        "# max() function found minimum value of a array\n",
        "\n",
        "a.max()"
      ],
      "execution_count": 26,
      "outputs": [
        {
          "output_type": "execute_result",
          "data": {
            "text/plain": [
              "100"
            ]
          },
          "metadata": {
            "tags": []
          },
          "execution_count": 26
        }
      ]
    },
    {
      "cell_type": "code",
      "metadata": {
        "colab": {
          "base_uri": "https://localhost:8080/"
        },
        "id": "w9ftlEKeB2MR",
        "outputId": "75d964ce-bbe3-489d-9349-82837f463d8e"
      },
      "source": [
        "# sum() function add all value of a array\n",
        "# sum(axis = 0) add each column\n",
        "# sum(axis = 1) add each row\n",
        "\n",
        "arr = numpy.array([\n",
        "                   [1, 2, 3, 4],\n",
        "                   [5, 6, 7, 8]\n",
        "                  ])\n",
        "print(arr)"
      ],
      "execution_count": 27,
      "outputs": [
        {
          "output_type": "stream",
          "text": [
            "[[1 2 3 4]\n",
            " [5 6 7 8]]\n"
          ],
          "name": "stdout"
        }
      ]
    },
    {
      "cell_type": "code",
      "metadata": {
        "colab": {
          "base_uri": "https://localhost:8080/"
        },
        "id": "gADcCyeXCTRL",
        "outputId": "38ca8ffd-a815-4b73-a951-bbf6d42c4b7f"
      },
      "source": [
        "print(\"Sum of all element : \", arr.sum())"
      ],
      "execution_count": 29,
      "outputs": [
        {
          "output_type": "stream",
          "text": [
            "Sum of all element :  36\n"
          ],
          "name": "stdout"
        }
      ]
    },
    {
      "cell_type": "code",
      "metadata": {
        "colab": {
          "base_uri": "https://localhost:8080/"
        },
        "id": "5fNyHd3aCZ3a",
        "outputId": "0e0560f6-e4a8-4374-a781-c25f00ce6c59"
      },
      "source": [
        "print(\"Sum of each column : \", arr.sum(axis = 0))"
      ],
      "execution_count": 31,
      "outputs": [
        {
          "output_type": "stream",
          "text": [
            "Sum of each column :  [ 6  8 10 12]\n"
          ],
          "name": "stdout"
        }
      ]
    },
    {
      "cell_type": "code",
      "metadata": {
        "colab": {
          "base_uri": "https://localhost:8080/"
        },
        "id": "ogWKiyM5ClIC",
        "outputId": "942325a4-88dc-4271-d2db-be4ee002f2de"
      },
      "source": [
        "print(\"Sum of each row : \", arr.sum(axis = 1))"
      ],
      "execution_count": 33,
      "outputs": [
        {
          "output_type": "stream",
          "text": [
            "Sum of each row :  [10 26]\n"
          ],
          "name": "stdout"
        }
      ]
    },
    {
      "cell_type": "code",
      "metadata": {
        "colab": {
          "base_uri": "https://localhost:8080/"
        },
        "id": "TgHSS0UYCuaE",
        "outputId": "a09bc4cb-31c7-4791-aeaf-eca0a96dbfbc"
      },
      "source": [
        "# square root all array element by numpy.sqrt(Array Name)\n",
        "\n",
        "arr = numpy.sqrt(arr)\n",
        "\n",
        "print(arr)"
      ],
      "execution_count": 34,
      "outputs": [
        {
          "output_type": "stream",
          "text": [
            "[[1.         1.41421356 1.73205081 2.        ]\n",
            " [2.23606798 2.44948974 2.64575131 2.82842712]]\n"
          ],
          "name": "stdout"
        }
      ]
    },
    {
      "cell_type": "code",
      "metadata": {
        "colab": {
          "base_uri": "https://localhost:8080/"
        },
        "id": "aGj7isvqDBxk",
        "outputId": "ccfab94c-1928-4df9-9287-d790a8c60fba"
      },
      "source": [
        "# Standard Deviation of array count by numpy.std(Array Name)\n",
        "\n",
        "a = numpy.array([10, 20, 30, 40, 50, 60])\n",
        "\n",
        "std = numpy.std(a)\n",
        "\n",
        "print(\"Standard Deviation : \", std)"
      ],
      "execution_count": 37,
      "outputs": [
        {
          "output_type": "stream",
          "text": [
            "Standard Deviation :  17.07825127659933\n"
          ],
          "name": "stdout"
        }
      ]
    },
    {
      "cell_type": "code",
      "metadata": {
        "id": "RiNPD556D_yl"
      },
      "source": [
        "# 2 Dimensional arrays add, sub, multiplication and division\n",
        "a = numpy.array([[1, 2],\n",
        "                 [3, 4]])\n",
        "b = numpy.array([[5, 6],\n",
        "                 [7, 8]])"
      ],
      "execution_count": 39,
      "outputs": []
    },
    {
      "cell_type": "code",
      "metadata": {
        "colab": {
          "base_uri": "https://localhost:8080/"
        },
        "id": "J-54nThrEHax",
        "outputId": "29a0c274-5d3c-44b4-c6ea-c1c07d6d9718"
      },
      "source": [
        "# Summation two array\n",
        "\n",
        "print(a+b)"
      ],
      "execution_count": 42,
      "outputs": [
        {
          "output_type": "stream",
          "text": [
            "[[ 6  8]\n",
            " [10 12]]\n"
          ],
          "name": "stdout"
        }
      ]
    },
    {
      "cell_type": "code",
      "metadata": {
        "colab": {
          "base_uri": "https://localhost:8080/"
        },
        "id": "jbGAwfzxFDKz",
        "outputId": "277ffd9b-3805-4c64-86e0-8876e2035e27"
      },
      "source": [
        "# Subtraction of two array \n",
        "\n",
        "print(a-b)"
      ],
      "execution_count": 43,
      "outputs": [
        {
          "output_type": "stream",
          "text": [
            "[[-4 -4]\n",
            " [-4 -4]]\n"
          ],
          "name": "stdout"
        }
      ]
    },
    {
      "cell_type": "code",
      "metadata": {
        "colab": {
          "base_uri": "https://localhost:8080/"
        },
        "id": "C5Ev2cFuFDTu",
        "outputId": "a66f0425-d3cd-4b4f-9a84-5b15933a3b94"
      },
      "source": [
        "# Multiplication of two array\n",
        "\n",
        "print(a*b)"
      ],
      "execution_count": 44,
      "outputs": [
        {
          "output_type": "stream",
          "text": [
            "[[ 5 12]\n",
            " [21 32]]\n"
          ],
          "name": "stdout"
        }
      ]
    },
    {
      "cell_type": "code",
      "metadata": {
        "colab": {
          "base_uri": "https://localhost:8080/"
        },
        "id": "2WYXdh3uFPvF",
        "outputId": "52e09104-9920-4dbe-9ad2-201e755afdfd"
      },
      "source": [
        "# Division of Two array\n",
        "\n",
        "print(a/b)"
      ],
      "execution_count": 45,
      "outputs": [
        {
          "output_type": "stream",
          "text": [
            "[[0.2        0.33333333]\n",
            " [0.42857143 0.5       ]]\n"
          ],
          "name": "stdout"
        }
      ]
    },
    {
      "cell_type": "code",
      "metadata": {
        "colab": {
          "base_uri": "https://localhost:8080/"
        },
        "id": "JzAR1Sw4FXKJ",
        "outputId": "f221d418-6a0f-41a8-ec86-c63968c46abb"
      },
      "source": [
        "# Dot Operation of two Matrix\n",
        "\n",
        "a.dot(b)"
      ],
      "execution_count": 46,
      "outputs": [
        {
          "output_type": "execute_result",
          "data": {
            "text/plain": [
              "array([[19, 22],\n",
              "       [43, 50]])"
            ]
          },
          "metadata": {
            "tags": []
          },
          "execution_count": 46
        }
      ]
    }
  ]
}