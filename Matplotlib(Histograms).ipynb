{
  "nbformat": 4,
  "nbformat_minor": 0,
  "metadata": {
    "colab": {
      "name": "Matplotlib(Histograms).ipynb",
      "provenance": [],
      "collapsed_sections": [],
      "authorship_tag": "ABX9TyN3orDHof27OLbO5RqNyb/6",
      "include_colab_link": true
    },
    "kernelspec": {
      "name": "python3",
      "display_name": "Python 3"
    },
    "language_info": {
      "name": "python"
    }
  },
  "cells": [
    {
      "cell_type": "markdown",
      "metadata": {
        "id": "view-in-github",
        "colab_type": "text"
      },
      "source": [
        "<a href=\"https://colab.research.google.com/github/Ar-Anik/Machine_Learning/blob/main/Matplotlib(Histograms).ipynb\" target=\"_parent\"><img src=\"https://colab.research.google.com/assets/colab-badge.svg\" alt=\"Open In Colab\"/></a>"
      ]
    },
    {
      "cell_type": "code",
      "metadata": {
        "id": "QG9jjJfoJsiF"
      },
      "source": [
        "import matplotlib.pyplot as plt\n",
        "%matplotlib inline\n",
        "\n",
        "patient = ['Bob', 'Robert', 'Kusum', 'Ahmed', 'Mike', 'John', 'Ketan', 'Abdul', 'Maria', 'Nikisha', 'Veeral', 'Dhaval', 'Sara']\n",
        "\n",
        "blood_sugar = [113, 85, 90, 150, 149, 88, 93, 115, 135, 80, 77, 82, 129]"
      ],
      "execution_count": 3,
      "outputs": []
    },
    {
      "cell_type": "code",
      "metadata": {
        "colab": {
          "base_uri": "https://localhost:8080/",
          "height": 335
        },
        "id": "9GzXV7NbKqii",
        "outputId": "2597be9a-5969-4827-b570-45aaa7a8e517"
      },
      "source": [
        "# histogram is basically a type of bar plot where X-axis represents the bin value and Y-axis present the quantity\n",
        "# histogram show group of information\n",
        "# matplotlib.pyplot.hist()\n",
        "\n",
        "plt.hist(blood_sugar)"
      ],
      "execution_count": null,
      "outputs": [
        {
          "output_type": "execute_result",
          "data": {
            "text/plain": [
              "(array([3., 3., 1., 0., 1., 1., 0., 2., 0., 2.]),\n",
              " array([ 77. ,  84.3,  91.6,  98.9, 106.2, 113.5, 120.8, 128.1, 135.4,\n",
              "        142.7, 150. ]),\n",
              " <a list of 10 Patch objects>)"
            ]
          },
          "metadata": {
            "tags": []
          },
          "execution_count": 2
        },
        {
          "output_type": "display_data",
          "data": {
            "image/png": "[encoded data removed]",
            "text/plain": [
              "<Figure size 432x288 with 1 Axes>"
            ]
          },
          "metadata": {
            "tags": [],
            "needs_background": "light"
          }
        }
      ]
    },
    {
      "cell_type": "code",
      "metadata": {
        "colab": {
          "base_uri": "https://localhost:8080/",
          "height": 317
        },
        "id": "kUGQp33pMiBp",
        "outputId": "f049c631-bb45-4eaa-a1c5-508465d2efef"
      },
      "source": [
        "# x-axis bin(backet) parameter\n",
        "# bin paramater say how many data group are present in histogram \n",
        "\n",
        "plt.hist(blood_sugar, bins = 3)"
      ],
      "execution_count": null,
      "outputs": [
        {
          "output_type": "execute_result",
          "data": {
            "text/plain": [
              "(array([7., 2., 4.]),\n",
              " array([ 77.        , 101.33333333, 125.66666667, 150.        ]),\n",
              " <a list of 3 Patch objects>)"
            ]
          },
          "metadata": {
            "tags": []
          },
          "execution_count": 9
        },
        {
          "output_type": "display_data",
          "data": {
            "image/png": "[encoded data removed]",
            "text/plain": [
              "<Figure size 432x288 with 1 Axes>"
            ]
          },
          "metadata": {
            "tags": [],
            "needs_background": "light"
          }
        }
      ]
    },
    {
      "cell_type": "code",
      "metadata": {
        "colab": {
          "base_uri": "https://localhost:8080/",
          "height": 317
        },
        "id": "qf5aBY-OYvwo",
        "outputId": "54d581b6-5dba-44d0-b70e-3cc288b22919"
      },
      "source": [
        "plt.hist(blood_sugar, bins = 3)"
      ],
      "execution_count": null,
      "outputs": [
        {
          "output_type": "execute_result",
          "data": {
            "text/plain": [
              "(array([7., 2., 4.]),\n",
              " array([ 77.        , 101.33333333, 125.66666667, 150.        ]),\n",
              " <a list of 3 Patch objects>)"
            ]
          },
          "metadata": {
            "tags": []
          },
          "execution_count": 5
        },
        {
          "output_type": "display_data",
          "data": {
            "image/png": "[encoded data removed]",
            "text/plain": [
              "<Figure size 432x288 with 1 Axes>"
            ]
          },
          "metadata": {
            "tags": [],
            "needs_background": "light"
          }
        }
      ]
    },
    {
      "cell_type": "code",
      "metadata": {
        "colab": {
          "base_uri": "https://localhost:8080/",
          "height": 620
        },
        "id": "KAN7YtFrZCEd",
        "outputId": "a6e2b6bc-817b-4f9a-85fd-428103018ac1"
      },
      "source": [
        "plt.hist(blood_sugar, bins = 100)"
      ],
      "execution_count": null,
      "outputs": [
        {
          "output_type": "execute_result",
          "data": {
            "text/plain": [
              "(array([1., 0., 0., 0., 1., 0., 1., 0., 0., 0., 1., 0., 0., 0., 0., 1., 0.,\n",
              "        1., 0., 0., 0., 1., 0., 0., 0., 0., 0., 0., 0., 0., 0., 0., 0., 0.,\n",
              "        0., 0., 0., 0., 0., 0., 0., 0., 0., 0., 0., 0., 0., 0., 0., 1., 0.,\n",
              "        0., 1., 0., 0., 0., 0., 0., 0., 0., 0., 0., 0., 0., 0., 0., 0., 0.,\n",
              "        0., 0., 0., 1., 0., 0., 0., 0., 0., 0., 0., 1., 0., 0., 0., 0., 0.,\n",
              "        0., 0., 0., 0., 0., 0., 0., 0., 0., 0., 0., 0., 0., 1., 1.]),\n",
              " array([ 77.  ,  77.73,  78.46,  79.19,  79.92,  80.65,  81.38,  82.11,\n",
              "         82.84,  83.57,  84.3 ,  85.03,  85.76,  86.49,  87.22,  87.95,\n",
              "         88.68,  89.41,  90.14,  90.87,  91.6 ,  92.33,  93.06,  93.79,\n",
              "         94.52,  95.25,  95.98,  96.71,  97.44,  98.17,  98.9 ,  99.63,\n",
              "        100.36, 101.09, 101.82, 102.55, 103.28, 104.01, 104.74, 105.47,\n",
              "        106.2 , 106.93, 107.66, 108.39, 109.12, 109.85, 110.58, 111.31,\n",
              "        112.04, 112.77, 113.5 , 114.23, 114.96, 115.69, 116.42, 117.15,\n",
              "        117.88, 118.61, 119.34, 120.07, 120.8 , 121.53, 122.26, 122.99,\n",
              "        123.72, 124.45, 125.18, 125.91, 126.64, 127.37, 128.1 , 128.83,\n",
              "        129.56, 130.29, 131.02, 131.75, 132.48, 133.21, 133.94, 134.67,\n",
              "        135.4 , 136.13, 136.86, 137.59, 138.32, 139.05, 139.78, 140.51,\n",
              "        141.24, 141.97, 142.7 , 143.43, 144.16, 144.89, 145.62, 146.35,\n",
              "        147.08, 147.81, 148.54, 149.27, 150.  ]),\n",
              " <a list of 100 Patch objects>)"
            ]
          },
          "metadata": {
            "tags": []
          },
          "execution_count": 10
        },
        {
          "output_type": "display_data",
          "data": {
            "image/png": "[encoded data removed]",
            "text/plain": [
              "<Figure size 432x288 with 1 Axes>"
            ]
          },
          "metadata": {
            "tags": [],
            "needs_background": "light"
          }
        }
      ]
    },
    {
      "cell_type": "code",
      "metadata": {
        "id": "nwRUdqElgC0E"
      },
      "source": [
        "price = [15, 20, 25, 30, 30, 31, 32, 32, 33, 35, 35, 35, 45, 45, 48, 48, 44, 48, 60]"
      ],
      "execution_count": null,
      "outputs": []
    },
    {
      "cell_type": "code",
      "metadata": {
        "colab": {
          "base_uri": "https://localhost:8080/",
          "height": 317
        },
        "id": "boA3cvT9gC7c",
        "outputId": "1b285f01-5a3c-43e2-a129-f817fa61d079"
      },
      "source": [
        "# if we want to see only 30, 31, 32, 33, 35 price quantity \n",
        "\n",
        "plt.hist(price, bins = [30, 31, 32, 33, 35])"
      ],
      "execution_count": null,
      "outputs": [
        {
          "output_type": "execute_result",
          "data": {
            "text/plain": [
              "(array([2., 1., 2., 4.]),\n",
              " array([30, 31, 32, 33, 35]),\n",
              " <a list of 4 Patch objects>)"
            ]
          },
          "metadata": {
            "tags": []
          },
          "execution_count": 18
        },
        {
          "output_type": "display_data",
          "data": {
            "image/png": "[encoded data removed]",
            "text/plain": [
              "<Figure size 432x288 with 1 Axes>"
            ]
          },
          "metadata": {
            "tags": [],
            "needs_background": "light"
          }
        }
      ]
    },
    {
      "cell_type": "code",
      "metadata": {
        "colab": {
          "base_uri": "https://localhost:8080/",
          "height": 317
        },
        "id": "ESiDPmbqhcO6",
        "outputId": "43ea15fa-b074-42ec-ca7d-b46eca2afa1d"
      },
      "source": [
        "# seperate each data group by rwidth keyword its value 0 to 1\n",
        "\n",
        "plt.hist(price, bins = [30, 31, 32, 33, 35], rwidth = 1)"
      ],
      "execution_count": null,
      "outputs": [
        {
          "output_type": "execute_result",
          "data": {
            "text/plain": [
              "(array([2., 1., 2., 4.]),\n",
              " array([30, 31, 32, 33, 35]),\n",
              " <a list of 4 Patch objects>)"
            ]
          },
          "metadata": {
            "tags": []
          },
          "execution_count": 24
        },
        {
          "output_type": "display_data",
          "data": {
            "image/png": "[encoded data removed]",
            "text/plain": [
              "<Figure size 432x288 with 1 Axes>"
            ]
          },
          "metadata": {
            "tags": [],
            "needs_background": "light"
          }
        }
      ]
    },
    {
      "cell_type": "code",
      "metadata": {
        "colab": {
          "base_uri": "https://localhost:8080/",
          "height": 317
        },
        "id": "HXIyT7y-iE8o",
        "outputId": "3be2f9f3-64df-4e26-f1b1-8efa0cd04996"
      },
      "source": [
        "plt.hist(price, bins = [30, 31, 32, 33, 35], rwidth = 0.90)"
      ],
      "execution_count": null,
      "outputs": [
        {
          "output_type": "execute_result",
          "data": {
            "text/plain": [
              "(array([2., 1., 2., 4.]),\n",
              " array([30, 31, 32, 33, 35]),\n",
              " <a list of 4 Patch objects>)"
            ]
          },
          "metadata": {
            "tags": []
          },
          "execution_count": 26
        },
        {
          "output_type": "display_data",
          "data": {
            "image/png": "[encoded data removed]",
            "text/plain": [
              "<Figure size 432x288 with 1 Axes>"
            ]
          },
          "metadata": {
            "tags": [],
            "needs_background": "light"
          }
        }
      ]
    },
    {
      "cell_type": "code",
      "metadata": {
        "colab": {
          "base_uri": "https://localhost:8080/",
          "height": 317
        },
        "id": "pJGLR8L2iPO2",
        "outputId": "e3e91f28-9c16-4c07-c914-a115c1fe7d04"
      },
      "source": [
        "plt.hist(price, bins = [30, 31, 32, 33, 35], rwidth = 0.50)"
      ],
      "execution_count": null,
      "outputs": [
        {
          "output_type": "execute_result",
          "data": {
            "text/plain": [
              "(array([2., 1., 2., 4.]),\n",
              " array([30, 31, 32, 33, 35]),\n",
              " <a list of 4 Patch objects>)"
            ]
          },
          "metadata": {
            "tags": []
          },
          "execution_count": 27
        },
        {
          "output_type": "display_data",
          "data": {
            "image/png": "[encoded data removed]",
            "text/plain": [
              "<Figure size 432x288 with 1 Axes>"
            ]
          },
          "metadata": {
            "tags": [],
            "needs_background": "light"
          }
        }
      ]
    },
    {
      "cell_type": "code",
      "metadata": {
        "colab": {
          "base_uri": "https://localhost:8080/",
          "height": 317
        },
        "id": "Qi8bWdyQicBw",
        "outputId": "e245f5cb-3c88-4ff5-8e47-5eb6237d3c19"
      },
      "source": [
        "# color keyword\n",
        "\n",
        "plt.hist(price, bins=[30, 31, 32, 33, 35], rwidth = 0.9, color='green')"
      ],
      "execution_count": null,
      "outputs": [
        {
          "output_type": "execute_result",
          "data": {
            "text/plain": [
              "(array([2., 1., 2., 4.]),\n",
              " array([30, 31, 32, 33, 35]),\n",
              " <a list of 4 Patch objects>)"
            ]
          },
          "metadata": {
            "tags": []
          },
          "execution_count": 29
        },
        {
          "output_type": "display_data",
          "data": {
            "image/png": "[encoded data removed]",
            "text/plain": [
              "<Figure size 432x288 with 1 Axes>"
            ]
          },
          "metadata": {
            "tags": [],
            "needs_background": "light"
          }
        }
      ]
    },
    {
      "cell_type": "code",
      "metadata": {
        "colab": {
          "base_uri": "https://localhost:8080/",
          "height": 317
        },
        "id": "yVHaxxErj-Xf",
        "outputId": "0330f222-77dc-43b2-e0a2-a5549e54021c"
      },
      "source": [
        "plt.hist(price, bins=[30, 31, 32, 33, 35], rwidth = 0.7, color = 'g')"
      ],
      "execution_count": null,
      "outputs": [
        {
          "output_type": "execute_result",
          "data": {
            "text/plain": [
              "(array([2., 1., 2., 4.]),\n",
              " array([30, 31, 32, 33, 35]),\n",
              " <a list of 4 Patch objects>)"
            ]
          },
          "metadata": {
            "tags": []
          },
          "execution_count": 31
        },
        {
          "output_type": "display_data",
          "data": {
            "image/png": "[encoded data removed]",
            "text/plain": [
              "<Figure size 432x288 with 1 Axes>"
            ]
          },
          "metadata": {
            "tags": [],
            "needs_background": "light"
          }
        }
      ]
    },
    {
      "cell_type": "code",
      "metadata": {
        "colab": {
          "base_uri": "https://localhost:8080/",
          "height": 317
        },
        "id": "EGDYuw_IkLzc",
        "outputId": "7828582e-0fa3-472e-f156-3562e840dd02"
      },
      "source": [
        "# histtype keyword define histogram type\n",
        "\n",
        "plt.hist(price, histtype='stepfilled')"
      ],
      "execution_count": null,
      "outputs": [
        {
          "output_type": "execute_result",
          "data": {
            "text/plain": [
              "(array([1., 1., 1., 5., 4., 0., 3., 3., 0., 1.]),\n",
              " array([15. , 19.5, 24. , 28.5, 33. , 37.5, 42. , 46.5, 51. , 55.5, 60. ]),\n",
              " <a list of 1 Patch objects>)"
            ]
          },
          "metadata": {
            "tags": []
          },
          "execution_count": 38
        },
        {
          "output_type": "display_data",
          "data": {
            "image/png": "[encoded data removed]",
            "text/plain": [
              "<Figure size 432x288 with 1 Axes>"
            ]
          },
          "metadata": {
            "tags": [],
            "needs_background": "light"
          }
        }
      ]
    },
    {
      "cell_type": "code",
      "metadata": {
        "colab": {
          "base_uri": "https://localhost:8080/",
          "height": 317
        },
        "id": "OnzRea3KlPmu",
        "outputId": "f9ec2279-12db-480f-8d24-44bd6044b713"
      },
      "source": [
        "plt.hist(price, histtype = 'step')"
      ],
      "execution_count": null,
      "outputs": [
        {
          "output_type": "execute_result",
          "data": {
            "text/plain": [
              "(array([1., 1., 1., 5., 4., 0., 3., 3., 0., 1.]),\n",
              " array([15. , 19.5, 24. , 28.5, 33. , 37.5, 42. , 46.5, 51. , 55.5, 60. ]),\n",
              " <a list of 1 Patch objects>)"
            ]
          },
          "metadata": {
            "tags": []
          },
          "execution_count": 39
        },
        {
          "output_type": "display_data",
          "data": {
            "image/png": "[encoded data removed]",
            "text/plain": [
              "<Figure size 432x288 with 1 Axes>"
            ]
          },
          "metadata": {
            "tags": [],
            "needs_background": "light"
          }
        }
      ]
    },
    {
      "cell_type": "code",
      "metadata": {
        "colab": {
          "base_uri": "https://localhost:8080/",
          "height": 317
        },
        "id": "aCxYi8vHlYBC",
        "outputId": "acec705e-8a7c-4d64-cc23-841eaf1935c2"
      },
      "source": [
        "plt.hist(price, histtype = 'barstacked', rwidth=0.8)"
      ],
      "execution_count": null,
      "outputs": [
        {
          "output_type": "execute_result",
          "data": {
            "text/plain": [
              "(array([1., 1., 1., 5., 4., 0., 3., 3., 0., 1.]),\n",
              " array([15. , 19.5, 24. , 28.5, 33. , 37.5, 42. , 46.5, 51. , 55.5, 60. ]),\n",
              " <a list of 10 Patch objects>)"
            ]
          },
          "metadata": {
            "tags": []
          },
          "execution_count": 40
        },
        {
          "output_type": "display_data",
          "data": {
            "image/png": "[encoded data removed]",
            "text/plain": [
              "<Figure size 432x288 with 1 Axes>"
            ]
          },
          "metadata": {
            "tags": [],
            "needs_background": "light"
          }
        }
      ]
    },
    {
      "cell_type": "code",
      "metadata": {
        "id": "v_vP9tgXl6ME"
      },
      "source": [
        "# blood sugar level for man indicate by men\n",
        "# blood sugar level for woman indicate by women\n",
        "\n",
        "men = [113, 85, 90, 150, 149, 88, 93, 115, 135, 80, 77, 82, 129]\n",
        "women = [67, 98, 89, 120, 150, 84, 69, 89, 79, 120, 112, 100]"
      ],
      "execution_count": null,
      "outputs": []
    },
    {
      "cell_type": "code",
      "metadata": {
        "colab": {
          "base_uri": "https://localhost:8080/",
          "height": 408
        },
        "id": "G2Yv9nzvntT4",
        "outputId": "e99d5148-f3e7-45c9-9995-66b74bc2bdf2"
      },
      "source": [
        "# two histogram plot together\n",
        "\n",
        "plt.hist([men, women], rwidth=0.90, color=['orange', 'green'])"
      ],
      "execution_count": null,
      "outputs": [
        {
          "output_type": "stream",
          "text": [
            "/usr/local/lib/python3.7/dist-packages/numpy/core/_asarray.py:83: VisibleDeprecationWarning: Creating an ndarray from ragged nested sequences (which is a list-or-tuple of lists-or-tuples-or ndarrays with different lengths or shapes) is deprecated. If you meant to do this, you must specify 'dtype=object' when creating the ndarray\n",
            "  return array(a, dtype, copy=False, order=order)\n"
          ],
          "name": "stderr"
        },
        {
          "output_type": "execute_result",
          "data": {
            "text/plain": [
              "(array([[0., 3., 3., 1., 0., 2., 0., 1., 1., 2.],\n",
              "        [2., 1., 3., 2., 0., 1., 2., 0., 0., 1.]]),\n",
              " array([ 67. ,  75.3,  83.6,  91.9, 100.2, 108.5, 116.8, 125.1, 133.4,\n",
              "        141.7, 150. ]),\n",
              " <a list of 2 Lists of Patches objects>)"
            ]
          },
          "metadata": {
            "tags": []
          },
          "execution_count": 47
        },
        {
          "output_type": "display_data",
          "data": {
            "image/png": "[encoded data removed]",
            "text/plain": [
              "<Figure size 432x288 with 1 Axes>"
            ]
          },
          "metadata": {
            "tags": [],
            "needs_background": "light"
          }
        }
      ]
    },
    {
      "cell_type": "code",
      "metadata": {
        "colab": {
          "base_uri": "https://localhost:8080/",
          "height": 367
        },
        "id": "zNwCRco0obW_",
        "outputId": "dcb64bca-4b3b-4618-ec97-981adab52cdc"
      },
      "source": [
        "# label keyword\n",
        "\n",
        "plt.xlabel('Sugar Range')\n",
        "plt.ylabel('Total no of Patients')\n",
        "plt.title('Blood Sugar Analysis')\n",
        "\n",
        "plt.hist([men, women], rwidth = 0.90, color = ['green', 'orange'], label = ['Men', 'Women'])\n",
        "\n",
        "plt.legend()"
      ],
      "execution_count": null,
      "outputs": [
        {
          "output_type": "stream",
          "text": [
            "/usr/local/lib/python3.7/dist-packages/numpy/core/_asarray.py:83: VisibleDeprecationWarning: Creating an ndarray from ragged nested sequences (which is a list-or-tuple of lists-or-tuples-or ndarrays with different lengths or shapes) is deprecated. If you meant to do this, you must specify 'dtype=object' when creating the ndarray\n",
            "  return array(a, dtype, copy=False, order=order)\n"
          ],
          "name": "stderr"
        },
        {
          "output_type": "execute_result",
          "data": {
            "text/plain": [
              "<matplotlib.legend.Legend at 0x7f35c60a2190>"
            ]
          },
          "metadata": {
            "tags": []
          },
          "execution_count": 50
        },
        {
          "output_type": "display_data",
          "data": {
            "image/png": "[encoded data removed]",
            "text/plain": [
              "<Figure size 432x288 with 1 Axes>"
            ]
          },
          "metadata": {
            "tags": [],
            "needs_background": "light"
          }
        }
      ]
    },
    {
      "cell_type": "code",
      "metadata": {
        "colab": {
          "base_uri": "https://localhost:8080/",
          "height": 317
        },
        "id": "C4j7SUCfpyui",
        "outputId": "fe6d5a8e-ad04-48a7-e04f-370295d6434c"
      },
      "source": [
        "# orientation keyword\n",
        "price = [15, 20, 25, 30, 30, 31, 32, 32, 33, 35, 35, 35, 45, 45, 48, 48, 44, 48, 60]\n",
        "\n",
        "plt.hist(price, orientation = 'horizontal')"
      ],
      "execution_count": 4,
      "outputs": [
        {
          "output_type": "execute_result",
          "data": {
            "text/plain": [
              "(array([1., 1., 1., 5., 4., 0., 3., 3., 0., 1.]),\n",
              " array([15. , 19.5, 24. , 28.5, 33. , 37.5, 42. , 46.5, 51. , 55.5, 60. ]),\n",
              " <a list of 10 Patch objects>)"
            ]
          },
          "metadata": {
            "tags": []
          },
          "execution_count": 4
        },
        {
          "output_type": "display_data",
          "data": {
            "image/png": "[encoded data removed]",
            "text/plain": [
              "<Figure size 432x288 with 1 Axes>"
            ]
          },
          "metadata": {
            "tags": [],
            "needs_background": "light"
          }
        }
      ]
    }
  ]
}