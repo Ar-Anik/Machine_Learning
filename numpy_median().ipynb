{
  "nbformat": 4,
  "nbformat_minor": 0,
  "metadata": {
    "colab": {
      "name": "numpy.median().ipynb",
      "provenance": [],
      "collapsed_sections": [],
      "authorship_tag": "ABX9TyPFl/4sU70mbhWsL5G/OySV",
      "include_colab_link": true
    },
    "kernelspec": {
      "name": "python3",
      "display_name": "Python 3"
    },
    "language_info": {
      "name": "python"
    }
  },
  "cells": [
    {
      "cell_type": "markdown",
      "metadata": {
        "id": "view-in-github",
        "colab_type": "text"
      },
      "source": [
        "<a href=\"https://colab.research.google.com/github/Ar-Anik/Machine_Learning/blob/main/numpy_median().ipynb\" target=\"_parent\"><img src=\"https://colab.research.google.com/assets/colab-badge.svg\" alt=\"Open In Colab\"/></a>"
      ]
    },
    {
      "cell_type": "code",
      "metadata": {
        "id": "pkNsctRch_AN"
      },
      "source": [
        "# numpy.median(array, axis = 0 or 1)\n",
        "# Compute the median of the given array elements along the specified axis\n",
        "# axis = 0 means along the column and axis = 1 means working along the row.\n",
        "# [2, 3, 3, 5, 8, 10, 11] median of this array is 5\n",
        "# [2, 2, 3, 3, 5, 7, 8, 130] median of this arra is, (3+5)/2=4 "
      ],
      "execution_count": 1,
      "outputs": []
    },
    {
      "cell_type": "code",
      "metadata": {
        "colab": {
          "base_uri": "https://localhost:8080/"
        },
        "id": "75iYGnnvi0xa",
        "outputId": "77ef51be-45bf-4be6-fa03-7284a488efac"
      },
      "source": [
        "import numpy\n",
        "\n",
        "array = numpy.array([1, 2, 3, 4, 5])\n",
        "array"
      ],
      "execution_count": 5,
      "outputs": [
        {
          "output_type": "execute_result",
          "data": {
            "text/plain": [
              "array([1, 2, 3, 4, 5])"
            ]
          },
          "metadata": {
            "tags": []
          },
          "execution_count": 5
        }
      ]
    },
    {
      "cell_type": "code",
      "metadata": {
        "colab": {
          "base_uri": "https://localhost:8080/"
        },
        "id": "oyOBUZD2jKCf",
        "outputId": "43e73598-b19e-405c-cd77-d10eb4e01e7f"
      },
      "source": [
        "numpy.median(array)"
      ],
      "execution_count": 6,
      "outputs": [
        {
          "output_type": "execute_result",
          "data": {
            "text/plain": [
              "3.0"
            ]
          },
          "metadata": {
            "tags": []
          },
          "execution_count": 6
        }
      ]
    },
    {
      "cell_type": "code",
      "metadata": {
        "colab": {
          "base_uri": "https://localhost:8080/"
        },
        "id": "pCjQ8z4UjbtH",
        "outputId": "5415011c-b1ef-45bd-e9db-3ca58b5f6f60"
      },
      "source": [
        "# 2D array \n",
        "\n",
        "arr = numpy.array([\n",
        "                     [1, 2, 3, 6],\n",
        "                     [4, 5, 6, 7],\n",
        "                     [7, 8, 9, 3]\n",
        "])\n",
        "\n",
        "arr"
      ],
      "execution_count": 37,
      "outputs": [
        {
          "output_type": "execute_result",
          "data": {
            "text/plain": [
              "array([[1, 2, 3, 6],\n",
              "       [4, 5, 6, 7],\n",
              "       [7, 8, 9, 3]])"
            ]
          },
          "metadata": {
            "tags": []
          },
          "execution_count": 37
        }
      ]
    },
    {
      "cell_type": "code",
      "metadata": {
        "colab": {
          "base_uri": "https://localhost:8080/"
        },
        "id": "H6oRcls9jrfP",
        "outputId": "62b4cfa0-e568-48ee-9945-d38c11dcf626"
      },
      "source": [
        "# array like : [1, 2, 3, 3, 4, 5, 6, 6, 7, 7, 8, 9]\n",
        "# median is (5+6)/2\n",
        "\n",
        "numpy.median(arr)"
      ],
      "execution_count": 39,
      "outputs": [
        {
          "output_type": "execute_result",
          "data": {
            "text/plain": [
              "5.5"
            ]
          },
          "metadata": {
            "tags": []
          },
          "execution_count": 39
        }
      ]
    },
    {
      "cell_type": "code",
      "metadata": {
        "colab": {
          "base_uri": "https://localhost:8080/"
        },
        "id": "ZEdFGP8wj4U-",
        "outputId": "1b5ffbb7-7c61-473a-e20a-e840d649a5d2"
      },
      "source": [
        "# 2D array median along the column\n",
        "\n",
        "numpy.median(arr, axis = 0)"
      ],
      "execution_count": 41,
      "outputs": [
        {
          "output_type": "execute_result",
          "data": {
            "text/plain": [
              "array([4., 5., 6., 6.])"
            ]
          },
          "metadata": {
            "tags": []
          },
          "execution_count": 41
        }
      ]
    },
    {
      "cell_type": "code",
      "metadata": {
        "colab": {
          "base_uri": "https://localhost:8080/"
        },
        "id": "IOaQw6CxlH5-",
        "outputId": "e9e77c6b-2941-4826-f2b4-223f4d52a97b"
      },
      "source": [
        "# 2D array median along the row\n",
        "\n",
        "numpy.median(arr, axis = 1)"
      ],
      "execution_count": 42,
      "outputs": [
        {
          "output_type": "execute_result",
          "data": {
            "text/plain": [
              "array([2.5, 5.5, 7.5])"
            ]
          },
          "metadata": {
            "tags": []
          },
          "execution_count": 42
        }
      ]
    }
  ]
}