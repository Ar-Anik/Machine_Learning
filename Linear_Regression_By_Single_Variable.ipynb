{
  "nbformat": 4,
  "nbformat_minor": 0,
  "metadata": {
    "colab": {
      "name": "Linear Regression By Single Variable.ipynb",
      "provenance": [],
      "collapsed_sections": [],
      "authorship_tag": "ABX9TyPohKtZn27y75M9rnCXhTkr",
      "include_colab_link": true
    },
    "kernelspec": {
      "name": "python3",
      "display_name": "Python 3"
    },
    "language_info": {
      "name": "python"
    }
  },
  "cells": [
    {
      "cell_type": "markdown",
      "metadata": {
        "id": "view-in-github",
        "colab_type": "text"
      },
      "source": [
        "<a href=\"https://colab.research.google.com/github/Ar-Anik/Machine_Learning/blob/main/Linear_Regression_By_Single_Variable.ipynb\" target=\"_parent\"><img src=\"https://colab.research.google.com/assets/colab-badge.svg\" alt=\"Open In Colab\"/></a>"
      ]
    },
    {
      "cell_type": "code",
      "metadata": {
        "id": "mdqnauOLla_y"
      },
      "source": [
        "import matplotlib.pyplot as plt\n",
        "import numpy\n",
        "import pandas\n",
        "from sklearn import linear_model\n",
        "%matplotlib inline"
      ],
      "execution_count": null,
      "outputs": []
    },
    {
      "cell_type": "code",
      "metadata": {
        "colab": {
          "base_uri": "https://localhost:8080/",
          "height": 202
        },
        "id": "-oZRCO9jl-xO",
        "outputId": "20bf8fc4-aa2c-4d7b-94bc-de1e17f0c567"
      },
      "source": [
        "data = pandas.read_csv('HomePrice.csv')\n",
        "\n",
        "data"
      ],
      "execution_count": null,
      "outputs": [
        {
          "output_type": "execute_result",
          "data": {
            "text/html": [
              "<div>\n",
              "<style scoped>\n",
              "    .dataframe tbody tr th:only-of-type {\n",
              "        vertical-align: middle;\n",
              "    }\n",
              "\n",
              "    .dataframe tbody tr th {\n",
              "        vertical-align: top;\n",
              "    }\n",
              "\n",
              "    .dataframe thead th {\n",
              "        text-align: right;\n",
              "    }\n",
              "</style>\n",
              "<table border=\"1\" class=\"dataframe\">\n",
              "  <thead>\n",
              "    <tr style=\"text-align: right;\">\n",
              "      <th></th>\n",
              "      <th>Area</th>\n",
              "      <th>Price</th>\n",
              "    </tr>\n",
              "  </thead>\n",
              "  <tbody>\n",
              "    <tr>\n",
              "      <th>0</th>\n",
              "      <td>2600</td>\n",
              "      <td>550000</td>\n",
              "    </tr>\n",
              "    <tr>\n",
              "      <th>1</th>\n",
              "      <td>3000</td>\n",
              "      <td>565000</td>\n",
              "    </tr>\n",
              "    <tr>\n",
              "      <th>2</th>\n",
              "      <td>3200</td>\n",
              "      <td>610000</td>\n",
              "    </tr>\n",
              "    <tr>\n",
              "      <th>3</th>\n",
              "      <td>3600</td>\n",
              "      <td>680000</td>\n",
              "    </tr>\n",
              "    <tr>\n",
              "      <th>4</th>\n",
              "      <td>4000</td>\n",
              "      <td>725000</td>\n",
              "    </tr>\n",
              "  </tbody>\n",
              "</table>\n",
              "</div>"
            ],
            "text/plain": [
              "   Area   Price\n",
              "0  2600  550000\n",
              "1  3000  565000\n",
              "2  3200  610000\n",
              "3  3600  680000\n",
              "4  4000  725000"
            ]
          },
          "metadata": {
            "tags": []
          },
          "execution_count": 43
        }
      ]
    },
    {
      "cell_type": "code",
      "metadata": {
        "colab": {
          "base_uri": "https://localhost:8080/",
          "height": 294
        },
        "id": "5TkCJSL5u_ug",
        "outputId": "9262cd54-a5b2-40b7-d3e6-fd4b792cfa16"
      },
      "source": [
        "plt.xlabel('Area(square ft.)')\n",
        "plt.ylabel('Price(US$)')\n",
        "plt.title('HomePrice')\n",
        "\n",
        "plt.scatter(data.Area, data.Price, color='orange')\n",
        "plt.show()"
      ],
      "execution_count": null,
      "outputs": [
        {
          "output_type": "display_data",
          "data": {
            "image/png": "[encoded data removed]",
            "text/plain": [
              "<Figure size 432x288 with 1 Axes>"
            ]
          },
          "metadata": {
            "tags": [],
            "needs_background": "light"
          }
        }
      ]
    },
    {
      "cell_type": "code",
      "metadata": {
        "id": "xzCKUeSqw2I6"
      },
      "source": [
        "# create a Linear Regression Object\n",
        "\n",
        "r = linear_model.LinearRegression()"
      ],
      "execution_count": null,
      "outputs": []
    },
    {
      "cell_type": "code",
      "metadata": {
        "colab": {
          "base_uri": "https://localhost:8080/"
        },
        "id": "X3oR0zfLrgV3",
        "outputId": "a74a2d41-0b48-41bf-9d0a-ad409b253cc1"
      },
      "source": [
        "# Training Regression Model\n",
        "# In fit function first is feature its alawys 2d array\n",
        "\n",
        "r.fit(data[['Area']], data.Price)"
      ],
      "execution_count": null,
      "outputs": [
        {
          "output_type": "execute_result",
          "data": {
            "text/plain": [
              "LinearRegression(copy_X=True, fit_intercept=True, n_jobs=None, normalize=False)"
            ]
          },
          "metadata": {
            "tags": []
          },
          "execution_count": 46
        }
      ]
    },
    {
      "cell_type": "code",
      "metadata": {
        "id": "D5W4Nhkl6nE5",
        "colab": {
          "base_uri": "https://localhost:8080/"
        },
        "outputId": "a29c4f77-9b9f-4f7d-a678-e5362c41fbf0"
      },
      "source": [
        "# predict a area price by regression model\n",
        "# Linear Equation for above dataset is : Price = m * area + c\n",
        "# m = Slope or Gradient or (coefficient of x) \n",
        "# c = Intercept\n",
        "# Price = m * 3300 + c\n",
        "\n",
        "r.predict([[3300]])"
      ],
      "execution_count": null,
      "outputs": [
        {
          "output_type": "execute_result",
          "data": {
            "text/plain": [
              "array([628715.75342466])"
            ]
          },
          "metadata": {
            "tags": []
          },
          "execution_count": 47
        }
      ]
    },
    {
      "cell_type": "code",
      "metadata": {
        "colab": {
          "base_uri": "https://localhost:8080/"
        },
        "id": "MfJDJKtG8PBu",
        "outputId": "8ddb5be6-c427-4346-c6f3-d749639be430"
      },
      "source": [
        "# m value\n",
        "r.coef_"
      ],
      "execution_count": null,
      "outputs": [
        {
          "output_type": "execute_result",
          "data": {
            "text/plain": [
              "array([135.78767123])"
            ]
          },
          "metadata": {
            "tags": []
          },
          "execution_count": 48
        }
      ]
    },
    {
      "cell_type": "code",
      "metadata": {
        "colab": {
          "base_uri": "https://localhost:8080/"
        },
        "id": "jafEkJja-qaz",
        "outputId": "7e8ba7e7-41a8-4bec-c683-b936e5c5094b"
      },
      "source": [
        "# c value\n",
        "r.intercept_"
      ],
      "execution_count": null,
      "outputs": [
        {
          "output_type": "execute_result",
          "data": {
            "text/plain": [
              "180616.43835616432"
            ]
          },
          "metadata": {
            "tags": []
          },
          "execution_count": 49
        }
      ]
    },
    {
      "cell_type": "code",
      "metadata": {
        "colab": {
          "base_uri": "https://localhost:8080/"
        },
        "id": "vG6IReFk_I1h",
        "outputId": "d0df86d0-32c3-4e7d-b25d-21f607926721"
      },
      "source": [
        "# Price of area = 3300\n",
        "\n",
        "price = 135.78767123 * 3300 + 180616.43835616432\n",
        "\n",
        "price"
      ],
      "execution_count": null,
      "outputs": [
        {
          "output_type": "execute_result",
          "data": {
            "text/plain": [
              "628715.7534151643"
            ]
          },
          "metadata": {
            "tags": []
          },
          "execution_count": 50
        }
      ]
    },
    {
      "cell_type": "code",
      "metadata": {
        "colab": {
          "base_uri": "https://localhost:8080/"
        },
        "id": "JHJBgCFN_622",
        "outputId": "56c81c11-99ec-48cd-8cb4-382aee989ab9"
      },
      "source": [
        "# area = 5000 price by regression model\n",
        "\n",
        "r.predict([[5000]])"
      ],
      "execution_count": null,
      "outputs": [
        {
          "output_type": "execute_result",
          "data": {
            "text/plain": [
              "array([859554.79452055])"
            ]
          },
          "metadata": {
            "tags": []
          },
          "execution_count": 51
        }
      ]
    },
    {
      "cell_type": "code",
      "metadata": {
        "colab": {
          "base_uri": "https://localhost:8080/"
        },
        "id": "_20FurxlAJIP",
        "outputId": "b622403d-bc98-47ed-b8a2-c5230771a95a"
      },
      "source": [
        "# area = 5000 price by linear equation.\n",
        "\n",
        "price = 135.78767123 * 5000 + 180616.43835616432\n",
        "\n",
        "price"
      ],
      "execution_count": null,
      "outputs": [
        {
          "output_type": "execute_result",
          "data": {
            "text/plain": [
              "859554.7945061643"
            ]
          },
          "metadata": {
            "tags": []
          },
          "execution_count": 52
        }
      ]
    },
    {
      "cell_type": "code",
      "metadata": {
        "colab": {
          "base_uri": "https://localhost:8080/",
          "height": 416
        },
        "id": "6IAq90J6A9OG",
        "outputId": "a5b3d184-7525-461a-f7e3-474c848205f9"
      },
      "source": [
        "area = pandas.read_csv('Area.csv')\n",
        "\n",
        "area"
      ],
      "execution_count": null,
      "outputs": [
        {
          "output_type": "execute_result",
          "data": {
            "text/html": [
              "<div>\n",
              "<style scoped>\n",
              "    .dataframe tbody tr th:only-of-type {\n",
              "        vertical-align: middle;\n",
              "    }\n",
              "\n",
              "    .dataframe tbody tr th {\n",
              "        vertical-align: top;\n",
              "    }\n",
              "\n",
              "    .dataframe thead th {\n",
              "        text-align: right;\n",
              "    }\n",
              "</style>\n",
              "<table border=\"1\" class=\"dataframe\">\n",
              "  <thead>\n",
              "    <tr style=\"text-align: right;\">\n",
              "      <th></th>\n",
              "      <th>Area</th>\n",
              "    </tr>\n",
              "  </thead>\n",
              "  <tbody>\n",
              "    <tr>\n",
              "      <th>0</th>\n",
              "      <td>1000</td>\n",
              "    </tr>\n",
              "    <tr>\n",
              "      <th>1</th>\n",
              "      <td>1500</td>\n",
              "    </tr>\n",
              "    <tr>\n",
              "      <th>2</th>\n",
              "      <td>2300</td>\n",
              "    </tr>\n",
              "    <tr>\n",
              "      <th>3</th>\n",
              "      <td>3540</td>\n",
              "    </tr>\n",
              "    <tr>\n",
              "      <th>4</th>\n",
              "      <td>4120</td>\n",
              "    </tr>\n",
              "    <tr>\n",
              "      <th>5</th>\n",
              "      <td>5490</td>\n",
              "    </tr>\n",
              "    <tr>\n",
              "      <th>6</th>\n",
              "      <td>3460</td>\n",
              "    </tr>\n",
              "    <tr>\n",
              "      <th>7</th>\n",
              "      <td>4750</td>\n",
              "    </tr>\n",
              "    <tr>\n",
              "      <th>8</th>\n",
              "      <td>2300</td>\n",
              "    </tr>\n",
              "    <tr>\n",
              "      <th>9</th>\n",
              "      <td>9000</td>\n",
              "    </tr>\n",
              "    <tr>\n",
              "      <th>10</th>\n",
              "      <td>8600</td>\n",
              "    </tr>\n",
              "    <tr>\n",
              "      <th>11</th>\n",
              "      <td>7100</td>\n",
              "    </tr>\n",
              "  </tbody>\n",
              "</table>\n",
              "</div>"
            ],
            "text/plain": [
              "    Area\n",
              "0   1000\n",
              "1   1500\n",
              "2   2300\n",
              "3   3540\n",
              "4   4120\n",
              "5   5490\n",
              "6   3460\n",
              "7   4750\n",
              "8   2300\n",
              "9   9000\n",
              "10  8600\n",
              "11  7100"
            ]
          },
          "metadata": {
            "tags": []
          },
          "execution_count": 53
        }
      ]
    },
    {
      "cell_type": "code",
      "metadata": {
        "colab": {
          "base_uri": "https://localhost:8080/"
        },
        "id": "lqYvsFDdCp_v",
        "outputId": "84047cfa-2609-49eb-f5ae-1cde09485dce"
      },
      "source": [
        "# predict value for above area\n",
        "\n",
        "r.predict(area)"
      ],
      "execution_count": null,
      "outputs": [
        {
          "output_type": "execute_result",
          "data": {
            "text/plain": [
              "array([ 316404.10958904,  384297.94520548,  492928.08219178,\n",
              "        661304.79452055,  740061.64383562,  926090.75342466,\n",
              "        650441.78082192,  825607.87671233,  492928.08219178,\n",
              "       1402705.47945205, 1348390.4109589 , 1144708.90410959])"
            ]
          },
          "metadata": {
            "tags": []
          },
          "execution_count": 54
        }
      ]
    },
    {
      "cell_type": "code",
      "metadata": {
        "colab": {
          "base_uri": "https://localhost:8080/",
          "height": 416
        },
        "id": "jEEFRVgpDAdK",
        "outputId": "0ae84464-6264-431a-9b69-de0ae6a65c38"
      },
      "source": [
        "area['Price'] = r.predict(area)\n",
        "\n",
        "area"
      ],
      "execution_count": null,
      "outputs": [
        {
          "output_type": "execute_result",
          "data": {
            "text/html": [
              "<div>\n",
              "<style scoped>\n",
              "    .dataframe tbody tr th:only-of-type {\n",
              "        vertical-align: middle;\n",
              "    }\n",
              "\n",
              "    .dataframe tbody tr th {\n",
              "        vertical-align: top;\n",
              "    }\n",
              "\n",
              "    .dataframe thead th {\n",
              "        text-align: right;\n",
              "    }\n",
              "</style>\n",
              "<table border=\"1\" class=\"dataframe\">\n",
              "  <thead>\n",
              "    <tr style=\"text-align: right;\">\n",
              "      <th></th>\n",
              "      <th>Area</th>\n",
              "      <th>Price</th>\n",
              "    </tr>\n",
              "  </thead>\n",
              "  <tbody>\n",
              "    <tr>\n",
              "      <th>0</th>\n",
              "      <td>1000</td>\n",
              "      <td>3.164041e+05</td>\n",
              "    </tr>\n",
              "    <tr>\n",
              "      <th>1</th>\n",
              "      <td>1500</td>\n",
              "      <td>3.842979e+05</td>\n",
              "    </tr>\n",
              "    <tr>\n",
              "      <th>2</th>\n",
              "      <td>2300</td>\n",
              "      <td>4.929281e+05</td>\n",
              "    </tr>\n",
              "    <tr>\n",
              "      <th>3</th>\n",
              "      <td>3540</td>\n",
              "      <td>6.613048e+05</td>\n",
              "    </tr>\n",
              "    <tr>\n",
              "      <th>4</th>\n",
              "      <td>4120</td>\n",
              "      <td>7.400616e+05</td>\n",
              "    </tr>\n",
              "    <tr>\n",
              "      <th>5</th>\n",
              "      <td>5490</td>\n",
              "      <td>9.260908e+05</td>\n",
              "    </tr>\n",
              "    <tr>\n",
              "      <th>6</th>\n",
              "      <td>3460</td>\n",
              "      <td>6.504418e+05</td>\n",
              "    </tr>\n",
              "    <tr>\n",
              "      <th>7</th>\n",
              "      <td>4750</td>\n",
              "      <td>8.256079e+05</td>\n",
              "    </tr>\n",
              "    <tr>\n",
              "      <th>8</th>\n",
              "      <td>2300</td>\n",
              "      <td>4.929281e+05</td>\n",
              "    </tr>\n",
              "    <tr>\n",
              "      <th>9</th>\n",
              "      <td>9000</td>\n",
              "      <td>1.402705e+06</td>\n",
              "    </tr>\n",
              "    <tr>\n",
              "      <th>10</th>\n",
              "      <td>8600</td>\n",
              "      <td>1.348390e+06</td>\n",
              "    </tr>\n",
              "    <tr>\n",
              "      <th>11</th>\n",
              "      <td>7100</td>\n",
              "      <td>1.144709e+06</td>\n",
              "    </tr>\n",
              "  </tbody>\n",
              "</table>\n",
              "</div>"
            ],
            "text/plain": [
              "    Area         Price\n",
              "0   1000  3.164041e+05\n",
              "1   1500  3.842979e+05\n",
              "2   2300  4.929281e+05\n",
              "3   3540  6.613048e+05\n",
              "4   4120  7.400616e+05\n",
              "5   5490  9.260908e+05\n",
              "6   3460  6.504418e+05\n",
              "7   4750  8.256079e+05\n",
              "8   2300  4.929281e+05\n",
              "9   9000  1.402705e+06\n",
              "10  8600  1.348390e+06\n",
              "11  7100  1.144709e+06"
            ]
          },
          "metadata": {
            "tags": []
          },
          "execution_count": 55
        }
      ]
    },
    {
      "cell_type": "code",
      "metadata": {
        "id": "SIDpQRyUDWU8"
      },
      "source": [
        "# convert csv file\n",
        "\n",
        "area.to_csv(\"Prediction.csv\", index=False)"
      ],
      "execution_count": null,
      "outputs": []
    },
    {
      "cell_type": "code",
      "metadata": {
        "colab": {
          "base_uri": "https://localhost:8080/",
          "height": 287
        },
        "id": "zG9BNr-XFtI8",
        "outputId": "86d4157c-5f31-43b6-e6fa-50fd6d025cbc"
      },
      "source": [
        "# Linear Equation Scatter Plot\n",
        "\n",
        "plt.xlabel('Area', fontsize=20)\n",
        "plt.ylabel('Price', fontsize=20)\n",
        "\n",
        "plt.scatter(data.Area, data.Price, color='orange')\n",
        "plt.plot(data.Area, r.predict(data[['Area']]), color='black')\n",
        "\n",
        "plt.show()"
      ],
      "execution_count": null,
      "outputs": [
        {
          "output_type": "display_data",
          "data": {
            "image/png": "[encoded data removed]",
            "text/plain": [
              "<Figure size 432x288 with 1 Axes>"
            ]
          },
          "metadata": {
            "tags": [],
            "needs_background": "light"
          }
        }
      ]
    },
    {
      "cell_type": "code",
      "metadata": {
        "colab": {
          "base_uri": "https://localhost:8080/",
          "height": 1000
        },
        "id": "kg0p8ytig7hi",
        "outputId": "00d2dfa5-3a0a-433f-ac61-56404280bb00"
      },
      "source": [
        "# New Data\n",
        "\n",
        "bangla = pandas.read_csv('Bangladesh_Per_Person_Income.csv')\n",
        "\n",
        "bangla"
      ],
      "execution_count": 65,
      "outputs": [
        {
          "output_type": "execute_result",
          "data": {
            "text/html": [
              "<div>\n",
              "<style scoped>\n",
              "    .dataframe tbody tr th:only-of-type {\n",
              "        vertical-align: middle;\n",
              "    }\n",
              "\n",
              "    .dataframe tbody tr th {\n",
              "        vertical-align: top;\n",
              "    }\n",
              "\n",
              "    .dataframe thead th {\n",
              "        text-align: right;\n",
              "    }\n",
              "</style>\n",
              "<table border=\"1\" class=\"dataframe\">\n",
              "  <thead>\n",
              "    <tr style=\"text-align: right;\">\n",
              "      <th></th>\n",
              "      <th>Year</th>\n",
              "      <th>Income</th>\n",
              "    </tr>\n",
              "  </thead>\n",
              "  <tbody>\n",
              "    <tr>\n",
              "      <th>0</th>\n",
              "      <td>1970</td>\n",
              "      <td>3399.299037</td>\n",
              "    </tr>\n",
              "    <tr>\n",
              "      <th>1</th>\n",
              "      <td>1971</td>\n",
              "      <td>3768.297935</td>\n",
              "    </tr>\n",
              "    <tr>\n",
              "      <th>2</th>\n",
              "      <td>1972</td>\n",
              "      <td>4251.175484</td>\n",
              "    </tr>\n",
              "    <tr>\n",
              "      <th>3</th>\n",
              "      <td>1973</td>\n",
              "      <td>4804.463248</td>\n",
              "    </tr>\n",
              "    <tr>\n",
              "      <th>4</th>\n",
              "      <td>1974</td>\n",
              "      <td>5576.514583</td>\n",
              "    </tr>\n",
              "    <tr>\n",
              "      <th>5</th>\n",
              "      <td>1975</td>\n",
              "      <td>5998.144346</td>\n",
              "    </tr>\n",
              "    <tr>\n",
              "      <th>6</th>\n",
              "      <td>1976</td>\n",
              "      <td>7062.131392</td>\n",
              "    </tr>\n",
              "    <tr>\n",
              "      <th>7</th>\n",
              "      <td>1977</td>\n",
              "      <td>7100.126170</td>\n",
              "    </tr>\n",
              "    <tr>\n",
              "      <th>8</th>\n",
              "      <td>1978</td>\n",
              "      <td>7247.967035</td>\n",
              "    </tr>\n",
              "    <tr>\n",
              "      <th>9</th>\n",
              "      <td>1979</td>\n",
              "      <td>7602.912681</td>\n",
              "    </tr>\n",
              "    <tr>\n",
              "      <th>10</th>\n",
              "      <td>1980</td>\n",
              "      <td>8355.968120</td>\n",
              "    </tr>\n",
              "    <tr>\n",
              "      <th>11</th>\n",
              "      <td>1981</td>\n",
              "      <td>9434.390652</td>\n",
              "    </tr>\n",
              "    <tr>\n",
              "      <th>12</th>\n",
              "      <td>1982</td>\n",
              "      <td>9619.438377</td>\n",
              "    </tr>\n",
              "    <tr>\n",
              "      <th>13</th>\n",
              "      <td>1983</td>\n",
              "      <td>10416.536590</td>\n",
              "    </tr>\n",
              "    <tr>\n",
              "      <th>14</th>\n",
              "      <td>1984</td>\n",
              "      <td>10790.328720</td>\n",
              "    </tr>\n",
              "    <tr>\n",
              "      <th>15</th>\n",
              "      <td>1985</td>\n",
              "      <td>11018.955850</td>\n",
              "    </tr>\n",
              "    <tr>\n",
              "      <th>16</th>\n",
              "      <td>1986</td>\n",
              "      <td>11482.891530</td>\n",
              "    </tr>\n",
              "    <tr>\n",
              "      <th>17</th>\n",
              "      <td>1987</td>\n",
              "      <td>12974.806620</td>\n",
              "    </tr>\n",
              "    <tr>\n",
              "      <th>18</th>\n",
              "      <td>1988</td>\n",
              "      <td>15080.283450</td>\n",
              "    </tr>\n",
              "    <tr>\n",
              "      <th>19</th>\n",
              "      <td>1989</td>\n",
              "      <td>16426.725480</td>\n",
              "    </tr>\n",
              "    <tr>\n",
              "      <th>20</th>\n",
              "      <td>1990</td>\n",
              "      <td>16838.673200</td>\n",
              "    </tr>\n",
              "    <tr>\n",
              "      <th>21</th>\n",
              "      <td>1991</td>\n",
              "      <td>17266.097690</td>\n",
              "    </tr>\n",
              "    <tr>\n",
              "      <th>22</th>\n",
              "      <td>1992</td>\n",
              "      <td>16412.083090</td>\n",
              "    </tr>\n",
              "    <tr>\n",
              "      <th>23</th>\n",
              "      <td>1993</td>\n",
              "      <td>15875.586730</td>\n",
              "    </tr>\n",
              "    <tr>\n",
              "      <th>24</th>\n",
              "      <td>1994</td>\n",
              "      <td>15755.820270</td>\n",
              "    </tr>\n",
              "    <tr>\n",
              "      <th>25</th>\n",
              "      <td>1995</td>\n",
              "      <td>16369.317250</td>\n",
              "    </tr>\n",
              "    <tr>\n",
              "      <th>26</th>\n",
              "      <td>1996</td>\n",
              "      <td>16699.826680</td>\n",
              "    </tr>\n",
              "    <tr>\n",
              "      <th>27</th>\n",
              "      <td>1997</td>\n",
              "      <td>17310.757750</td>\n",
              "    </tr>\n",
              "    <tr>\n",
              "      <th>28</th>\n",
              "      <td>1998</td>\n",
              "      <td>16622.671870</td>\n",
              "    </tr>\n",
              "    <tr>\n",
              "      <th>29</th>\n",
              "      <td>1999</td>\n",
              "      <td>17581.024140</td>\n",
              "    </tr>\n",
              "    <tr>\n",
              "      <th>30</th>\n",
              "      <td>2000</td>\n",
              "      <td>18987.382410</td>\n",
              "    </tr>\n",
              "    <tr>\n",
              "      <th>31</th>\n",
              "      <td>2001</td>\n",
              "      <td>18601.397240</td>\n",
              "    </tr>\n",
              "    <tr>\n",
              "      <th>32</th>\n",
              "      <td>2002</td>\n",
              "      <td>19232.175560</td>\n",
              "    </tr>\n",
              "    <tr>\n",
              "      <th>33</th>\n",
              "      <td>2003</td>\n",
              "      <td>22739.426280</td>\n",
              "    </tr>\n",
              "    <tr>\n",
              "      <th>34</th>\n",
              "      <td>2004</td>\n",
              "      <td>25719.147150</td>\n",
              "    </tr>\n",
              "    <tr>\n",
              "      <th>35</th>\n",
              "      <td>2005</td>\n",
              "      <td>29198.055690</td>\n",
              "    </tr>\n",
              "    <tr>\n",
              "      <th>36</th>\n",
              "      <td>2006</td>\n",
              "      <td>32738.262900</td>\n",
              "    </tr>\n",
              "    <tr>\n",
              "      <th>37</th>\n",
              "      <td>2007</td>\n",
              "      <td>36144.481220</td>\n",
              "    </tr>\n",
              "    <tr>\n",
              "      <th>38</th>\n",
              "      <td>2008</td>\n",
              "      <td>37446.486090</td>\n",
              "    </tr>\n",
              "    <tr>\n",
              "      <th>39</th>\n",
              "      <td>2009</td>\n",
              "      <td>32755.176820</td>\n",
              "    </tr>\n",
              "    <tr>\n",
              "      <th>40</th>\n",
              "      <td>2010</td>\n",
              "      <td>38420.522890</td>\n",
              "    </tr>\n",
              "    <tr>\n",
              "      <th>41</th>\n",
              "      <td>2011</td>\n",
              "      <td>42334.711210</td>\n",
              "    </tr>\n",
              "    <tr>\n",
              "      <th>42</th>\n",
              "      <td>2012</td>\n",
              "      <td>42665.255970</td>\n",
              "    </tr>\n",
              "    <tr>\n",
              "      <th>43</th>\n",
              "      <td>2013</td>\n",
              "      <td>42676.468370</td>\n",
              "    </tr>\n",
              "    <tr>\n",
              "      <th>44</th>\n",
              "      <td>2014</td>\n",
              "      <td>41039.893600</td>\n",
              "    </tr>\n",
              "    <tr>\n",
              "      <th>45</th>\n",
              "      <td>2015</td>\n",
              "      <td>35175.188980</td>\n",
              "    </tr>\n",
              "    <tr>\n",
              "      <th>46</th>\n",
              "      <td>2016</td>\n",
              "      <td>34229.193630</td>\n",
              "    </tr>\n",
              "  </tbody>\n",
              "</table>\n",
              "</div>"
            ],
            "text/plain": [
              "    Year        Income\n",
              "0   1970   3399.299037\n",
              "1   1971   3768.297935\n",
              "2   1972   4251.175484\n",
              "3   1973   4804.463248\n",
              "4   1974   5576.514583\n",
              "5   1975   5998.144346\n",
              "6   1976   7062.131392\n",
              "7   1977   7100.126170\n",
              "8   1978   7247.967035\n",
              "9   1979   7602.912681\n",
              "10  1980   8355.968120\n",
              "11  1981   9434.390652\n",
              "12  1982   9619.438377\n",
              "13  1983  10416.536590\n",
              "14  1984  10790.328720\n",
              "15  1985  11018.955850\n",
              "16  1986  11482.891530\n",
              "17  1987  12974.806620\n",
              "18  1988  15080.283450\n",
              "19  1989  16426.725480\n",
              "20  1990  16838.673200\n",
              "21  1991  17266.097690\n",
              "22  1992  16412.083090\n",
              "23  1993  15875.586730\n",
              "24  1994  15755.820270\n",
              "25  1995  16369.317250\n",
              "26  1996  16699.826680\n",
              "27  1997  17310.757750\n",
              "28  1998  16622.671870\n",
              "29  1999  17581.024140\n",
              "30  2000  18987.382410\n",
              "31  2001  18601.397240\n",
              "32  2002  19232.175560\n",
              "33  2003  22739.426280\n",
              "34  2004  25719.147150\n",
              "35  2005  29198.055690\n",
              "36  2006  32738.262900\n",
              "37  2007  36144.481220\n",
              "38  2008  37446.486090\n",
              "39  2009  32755.176820\n",
              "40  2010  38420.522890\n",
              "41  2011  42334.711210\n",
              "42  2012  42665.255970\n",
              "43  2013  42676.468370\n",
              "44  2014  41039.893600\n",
              "45  2015  35175.188980\n",
              "46  2016  34229.193630"
            ]
          },
          "metadata": {
            "tags": []
          },
          "execution_count": 65
        }
      ]
    },
    {
      "cell_type": "code",
      "metadata": {
        "colab": {
          "base_uri": "https://localhost:8080/",
          "height": 300
        },
        "id": "6eR0Q7tMiCn8",
        "outputId": "c2fcb0ff-3fd6-4934-fa70-23bab793577f"
      },
      "source": [
        "plt.xlabel('Year', fontsize=15)\n",
        "plt.ylabel('Per Person Income(US$)', fontsize=15)\n",
        "plt.title('Bangladesh Per Person Income')\n",
        "\n",
        "plt.scatter(bangla.Year, bangla.Income, color='blue')\n",
        "\n",
        "plt.show()"
      ],
      "execution_count": 69,
      "outputs": [
        {
          "output_type": "display_data",
          "data": {
            "image/png": "[encoded data removed]",
            "text/plain": [
              "<Figure size 432x288 with 1 Axes>"
            ]
          },
          "metadata": {
            "tags": [],
            "needs_background": "light"
          }
        }
      ]
    },
    {
      "cell_type": "code",
      "metadata": {
        "id": "4K6bsARWi1S6"
      },
      "source": [
        "b = linear_model.LinearRegression()"
      ],
      "execution_count": 70,
      "outputs": []
    },
    {
      "cell_type": "code",
      "metadata": {
        "colab": {
          "base_uri": "https://localhost:8080/"
        },
        "id": "MrWXgGg8jEbS",
        "outputId": "88b3af03-64d0-41b9-b792-160fdda9156d"
      },
      "source": [
        "b.fit(bangla[['Year']], bangla.Income)"
      ],
      "execution_count": 71,
      "outputs": [
        {
          "output_type": "execute_result",
          "data": {
            "text/plain": [
              "LinearRegression(copy_X=True, fit_intercept=True, n_jobs=None, normalize=False)"
            ]
          },
          "metadata": {
            "tags": []
          },
          "execution_count": 71
        }
      ]
    },
    {
      "cell_type": "code",
      "metadata": {
        "colab": {
          "base_uri": "https://localhost:8080/"
        },
        "id": "Q8bCjbbtjUKS",
        "outputId": "340d0a5a-a8e7-4d8d-d3a9-0b6aafc20e14"
      },
      "source": [
        "b.predict([[2022]])"
      ],
      "execution_count": 74,
      "outputs": [
        {
          "output_type": "execute_result",
          "data": {
            "text/plain": [
              "array([42945.62424486])"
            ]
          },
          "metadata": {
            "tags": []
          },
          "execution_count": 74
        }
      ]
    },
    {
      "cell_type": "code",
      "metadata": {
        "colab": {
          "base_uri": "https://localhost:8080/"
        },
        "id": "vOTwI74YjmA5",
        "outputId": "a9af3edf-35d6-4edb-c9f8-44bab09270c7"
      },
      "source": [
        "b.coef_"
      ],
      "execution_count": 76,
      "outputs": [
        {
          "output_type": "execute_result",
          "data": {
            "text/plain": [
              "array([828.46507522])"
            ]
          },
          "metadata": {
            "tags": []
          },
          "execution_count": 76
        }
      ]
    },
    {
      "cell_type": "code",
      "metadata": {
        "colab": {
          "base_uri": "https://localhost:8080/"
        },
        "id": "wLuL0lwrj6aL",
        "outputId": "a9c10952-b2c7-49a9-cd10-edd38cba993a"
      },
      "source": [
        "b.intercept_"
      ],
      "execution_count": 77,
      "outputs": [
        {
          "output_type": "execute_result",
          "data": {
            "text/plain": [
              "-1632210.7578554575"
            ]
          },
          "metadata": {
            "tags": []
          },
          "execution_count": 77
        }
      ]
    },
    {
      "cell_type": "code",
      "metadata": {
        "colab": {
          "base_uri": "https://localhost:8080/"
        },
        "id": "2zzZyC4Aj9Q4",
        "outputId": "b535fa1a-f1e2-4670-b68c-86f92f2c27f7"
      },
      "source": [
        "income = 828.46507522 * 2022 + (-1632210.7578554575)\n",
        "\n",
        "income"
      ],
      "execution_count": 78,
      "outputs": [
        {
          "output_type": "execute_result",
          "data": {
            "text/plain": [
              "42945.62423938257"
            ]
          },
          "metadata": {
            "tags": []
          },
          "execution_count": 78
        }
      ]
    }
  ]
}