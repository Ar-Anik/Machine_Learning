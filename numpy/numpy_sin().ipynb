{
  "nbformat": 4,
  "nbformat_minor": 0,
  "metadata": {
    "colab": {
      "name": "numpy.sin().ipynb",
      "provenance": [],
      "collapsed_sections": [],
      "authorship_tag": "ABX9TyOVhzo87KYssiZJ6yjRETTa",
      "include_colab_link": true
    },
    "kernelspec": {
      "name": "python3",
      "display_name": "Python 3"
    },
    "language_info": {
      "name": "python"
    }
  },
  "cells": [
    {
      "cell_type": "markdown",
      "metadata": {
        "id": "view-in-github",
        "colab_type": "text"
      },
      "source": [
        "<a href=\"https://colab.research.google.com/github/Ar-Anik/Machine_Learning/blob/main/numpy_sin().ipynb\" target=\"_parent\"><img src=\"https://colab.research.google.com/assets/colab-badge.svg\" alt=\"Open In Colab\"/></a>"
      ]
    },
    {
      "cell_type": "code",
      "metadata": {
        "colab": {
          "base_uri": "https://localhost:8080/"
        },
        "id": "orK7YXsOrTWz",
        "outputId": "4a7da964-68c8-4030-d281-ca9309454ae3"
      },
      "source": [
        "# numpy.sin()\n",
        "\n",
        "import numpy\n",
        "sin_90 = numpy.sin(90)\n",
        "\n",
        "sin_90"
      ],
      "execution_count": 18,
      "outputs": [
        {
          "output_type": "execute_result",
          "data": {
            "text/plain": [
              "0.8939966636005579"
            ]
          },
          "metadata": {
            "tags": []
          },
          "execution_count": 18
        }
      ]
    },
    {
      "cell_type": "code",
      "metadata": {
        "colab": {
          "base_uri": "https://localhost:8080/"
        },
        "id": "9IgNkA5Syf5s",
        "outputId": "f407b638-8938-463c-d32a-e66772946813"
      },
      "source": [
        "numpy.pi"
      ],
      "execution_count": 12,
      "outputs": [
        {
          "output_type": "execute_result",
          "data": {
            "text/plain": [
              "3.141592653589793"
            ]
          },
          "metadata": {
            "tags": []
          },
          "execution_count": 12
        }
      ]
    },
    {
      "cell_type": "code",
      "metadata": {
        "colab": {
          "base_uri": "https://localhost:8080/"
        },
        "id": "9XxOa6huyR9V",
        "outputId": "d4c42258-53ec-4690-a5c6-59e0db381a06"
      },
      "source": [
        "# to get sine value of the angle in raians, need to multiply angle with pi/180\n",
        "\n",
        "sin_90 = numpy.sin(90 * numpy.pi/180)\n",
        "\n",
        "sin_90"
      ],
      "execution_count": 13,
      "outputs": [
        {
          "output_type": "execute_result",
          "data": {
            "text/plain": [
              "1.0"
            ]
          },
          "metadata": {
            "tags": []
          },
          "execution_count": 13
        }
      ]
    },
    {
      "cell_type": "code",
      "metadata": {
        "colab": {
          "base_uri": "https://localhost:8080/"
        },
        "id": "b2O8uLdYxx0g",
        "outputId": "7f2d225b-103f-41b7-d991-6a5e33b5d33a"
      },
      "source": [
        "# numpy.sin() function calculate trignmetric sine for all element of array\n",
        "array = [0.0, 45.0, 60.0, 90.0]\n",
        "\n",
        "sin_value = numpy.sin(array)\n",
        "\n",
        "print(sin_value)"
      ],
      "execution_count": 14,
      "outputs": [
        {
          "output_type": "stream",
          "text": [
            "[ 0.          0.85090352 -0.30481062  0.89399666]\n"
          ],
          "name": "stdout"
        }
      ]
    },
    {
      "cell_type": "code",
      "metadata": {
        "colab": {
          "base_uri": "https://localhost:8080/"
        },
        "id": "eKjLw6qs0zCj",
        "outputId": "725374ae-58e6-4bd4-87bd-2a9083ebbf6a"
      },
      "source": [
        "numpy.sin(numpy.array([0.0, 30.0, 45.0, 60.0, 90.0]) * numpy.pi/180)"
      ],
      "execution_count": 17,
      "outputs": [
        {
          "output_type": "execute_result",
          "data": {
            "text/plain": [
              "array([0.        , 0.5       , 0.70710678, 0.8660254 , 1.        ])"
            ]
          },
          "metadata": {
            "tags": []
          },
          "execution_count": 17
        }
      ]
    },
    {
      "cell_type": "code",
      "metadata": {
        "colab": {
          "base_uri": "https://localhost:8080/",
          "height": 312
        },
        "id": "YB-QumLszQhY",
        "outputId": "1373e560-2335-4232-941a-af379773184f"
      },
      "source": [
        "import matplotlib.pyplot as plt\n",
        "import numpy\n",
        "\n",
        "input_array = numpy.linspace(-numpy.pi, numpy.pi, 12)\n",
        "output_array = numpy.sin(input_array)\n",
        "\n",
        "plt.xlabel('X')\n",
        "plt.ylabel('Y')\n",
        "plt.title('numpy.sin()')\n",
        "\n",
        "plt.plot(input_array, output_array, color='g', marker='*')"
      ],
      "execution_count": 16,
      "outputs": [
        {
          "output_type": "execute_result",
          "data": {
            "text/plain": [
              "[<matplotlib.lines.Line2D at 0x7f248debd810>]"
            ]
          },
          "metadata": {
            "tags": []
          },
          "execution_count": 16
        },
        {
          "output_type": "display_data",
          "data": {
            "image/png": "[encoded data removed]",
            "text/plain": [
              "<Figure size 432x288 with 1 Axes>"
            ]
          },
          "metadata": {
            "tags": [],
            "needs_background": "light"
          }
        }
      ]
    }
  ]
}