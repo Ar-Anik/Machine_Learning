{
  "nbformat": 4,
  "nbformat_minor": 0,
  "metadata": {
    "colab": {
      "name": "Numpy introduction.ipynb",
      "provenance": [],
      "collapsed_sections": [],
      "authorship_tag": "ABX9TyMSFS69o2dlCbOeIdVcxiic",
      "include_colab_link": true
    },
    "kernelspec": {
      "name": "python3",
      "display_name": "Python 3"
    },
    "language_info": {
      "name": "python"
    }
  },
  "cells": [
    {
      "cell_type": "markdown",
      "metadata": {
        "id": "view-in-github",
        "colab_type": "text"
      },
      "source": [
        "<a href=\"https://colab.research.google.com/github/Ar-Anik/Machine_Learning/blob/main/Numpy_introduction.ipynb\" target=\"_parent\"><img src=\"https://colab.research.google.com/assets/colab-badge.svg\" alt=\"Open In Colab\"/></a>"
      ]
    },
    {
      "cell_type": "code",
      "metadata": {
        "colab": {
          "base_uri": "https://localhost:8080/"
        },
        "id": "p-GPWmMmOeAM",
        "outputId": "776fae82-d1ce-434d-f4ee-8de958d5d02b"
      },
      "source": [
        "import numpy\n",
        "\n",
        "a = numpy.array([1, 2, 3, 4, 5])\n",
        "print(\"Numpy Array : \", a)\n",
        "print(\"First index : \", a[0])\n",
        "print(\"last index : \", a[4])"
      ],
      "execution_count": null,
      "outputs": [
        {
          "output_type": "stream",
          "text": [
            "Numpy Array :  [1 2 3 4 5]\n",
            "First index :  1\n",
            "last index :  5\n"
          ],
          "name": "stdout"
        }
      ]
    },
    {
      "cell_type": "code",
      "metadata": {
        "id": "vDtuS984Z2EZ"
      },
      "source": [
        "# arr1 = numpy.array([1, 2, 3, 4])\n",
        "# arr2 = numpy.array([5, 6, 7])\n",
        "# print(\"Summation of two array : \", arr1 + arr2)\n",
        "# This gives us error cz in numpy array operation array must be equal"
      ],
      "execution_count": null,
      "outputs": []
    },
    {
      "cell_type": "code",
      "metadata": {
        "colab": {
          "base_uri": "https://localhost:8080/"
        },
        "id": "rsYwWvpcZ4nf",
        "outputId": "b88ca045-0606-4d5d-8fb0-a7adb2e54663"
      },
      "source": [
        "import numpy\n",
        "arr1 = numpy.array([1, 2, 3])\n",
        "arr2 = numpy.array([4, 5, 6])\n",
        "\n",
        "print(\"Summation of two array : \", arr1 + arr2)\n",
        "print(\"Subtraction of two array : \", arr2 - arr1)\n",
        "print(\"Multiplication of two array : \", arr1 * arr2)\n",
        "print(\"Division of two array : \", arr2 / arr1)"
      ],
      "execution_count": null,
      "outputs": [
        {
          "output_type": "stream",
          "text": [
            "Summation of two array :  [5 7 9]\n",
            "Subtraction of two array :  [3 3 3]\n",
            "Multiplication of two array :  [ 4 10 18]\n",
            "Division of two array :  [4.  2.5 2. ]\n"
          ],
          "name": "stdout"
        }
      ]
    },
    {
      "cell_type": "code",
      "metadata": {
        "colab": {
          "base_uri": "https://localhost:8080/"
        },
        "id": "6qaL5X5VaxGH",
        "outputId": "34bb7d58-a0f4-47fb-a785-fd36a2ba157e"
      },
      "source": [
        "# Memory Efficient Checking\n",
        "import numpy\n",
        "import sys\n",
        "\n",
        "l = range(1000)\n",
        "print(\"List Take : \", sys.getsizeof(8) * len(l))\n",
        "\n",
        "array = numpy.arange(1000)\n",
        "print(\"Numpy Array Take : \", array.size * array.itemsize)\n"
      ],
      "execution_count": null,
      "outputs": [
        {
          "output_type": "stream",
          "text": [
            "List Take :  28000\n",
            "Numpy Array Take :  8000\n"
          ],
          "name": "stdout"
        }
      ]
    },
    {
      "cell_type": "code",
      "metadata": {
        "colab": {
          "base_uri": "https://localhost:8080/"
        },
        "id": "4JrzG1PBcW3V",
        "outputId": "2426bbe1-13ab-4b22-e4df-8b5c673800db"
      },
      "source": [
        "# Time efficient checking\n",
        "import numpy\n",
        "import time\n",
        "import sys\n",
        "\n",
        "size = 1000000\n",
        "\n",
        "list1 = range(size)\n",
        "list2 = range(size)\n",
        "\n",
        "start = time.time()\n",
        "result = [(x+y) for x, y in zip(list1, list2)]\n",
        "end = time.time()\n",
        "print(\"Python list take time : \", (end - start) * 1000)   # 1 sec = 1000 milisec\n",
        "\n",
        "array1 = numpy.arange(size)\n",
        "array2 = numpy.arange(size)\n",
        "\n",
        "start = time.time()\n",
        "result = array1 + array2\n",
        "end = time.time()\n",
        "print(\"Numpy array take time : \", (end - start) * 1000)\n"
      ],
      "execution_count": null,
      "outputs": [
        {
          "output_type": "stream",
          "text": [
            "Python list take time :  141.6332721710205\n",
            "Numpy array take time :  19.75703239440918\n"
          ],
          "name": "stdout"
        }
      ]
    }
  ]
}