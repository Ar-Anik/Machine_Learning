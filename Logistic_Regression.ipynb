{
  "nbformat": 4,
  "nbformat_minor": 0,
  "metadata": {
    "colab": {
      "name": "Logistic Regression.ipynb",
      "provenance": [],
      "collapsed_sections": [],
      "authorship_tag": "ABX9TyPg6guVF8Ta4VA6jyPxvNOE",
      "include_colab_link": true
    },
    "kernelspec": {
      "name": "python3",
      "display_name": "Python 3"
    },
    "language_info": {
      "name": "python"
    }
  },
  "cells": [
    {
      "cell_type": "markdown",
      "metadata": {
        "id": "view-in-github",
        "colab_type": "text"
      },
      "source": [
        "<a href=\"https://colab.research.google.com/github/Ar-Anik/Machine_Learning/blob/main/Logistic_Regression.ipynb\" target=\"_parent\"><img src=\"https://colab.research.google.com/assets/colab-badge.svg\" alt=\"Open In Colab\"/></a>"
      ]
    },
    {
      "cell_type": "markdown",
      "metadata": {
        "id": "13XqRUSQnf5m"
      },
      "source": [
        "[Best Resouce of Logistic Regression in Bangla](https://bn.mlmodel.fit/logistic-regression/)"
      ]
    },
    {
      "cell_type": "markdown",
      "metadata": {
        "id": "h8dJzdBynz_0"
      },
      "source": [
        "                                                                        Weight এর ভিত্তিতে বাক্য কে Scoring করা\n"
      ]
    },
    {
      "cell_type": "code",
      "metadata": {
        "colab": {
          "base_uri": "https://localhost:8080/"
        },
        "id": "DOxHzSSDnOdX",
        "outputId": "7c742b23-696d-4083-be1f-fc7f7d09f225"
      },
      "source": [
        "# Linear Classifier\n",
        "\n",
        "words = [u'ভাল', u'অসাধারণ', u'অনন্যসাধারণ', u'কিন্তু', u'খারাপ', u'বাজে', u'না', u'জঘন্য']\n",
        "\n",
        "words"
      ],
      "execution_count": null,
      "outputs": [
        {
          "output_type": "execute_result",
          "data": {
            "text/plain": [
              "['ভাল', 'অসাধারণ', 'অনন্যসাধারণ', 'কিন্তু', 'খারাপ', 'বাজে', 'না', 'জঘন্য']"
            ]
          },
          "metadata": {
            "tags": []
          },
          "execution_count": 22
        }
      ]
    },
    {
      "cell_type": "code",
      "metadata": {
        "colab": {
          "base_uri": "https://localhost:8080/"
        },
        "id": "QHRVpH0ep6kJ",
        "outputId": "b9bf26d0-9fac-4ccd-ec0b-816c2d370581"
      },
      "source": [
        "weights = [1.0, 2.0, 2.5, 0.0, -1.0, -1.1, -1.5, -2.0]\n",
        "\n",
        "weights"
      ],
      "execution_count": null,
      "outputs": [
        {
          "output_type": "execute_result",
          "data": {
            "text/plain": [
              "[1.0, 2.0, 2.5, 0.0, -1.0, -1.1, -1.5, -2.0]"
            ]
          },
          "metadata": {
            "tags": []
          },
          "execution_count": 23
        }
      ]
    },
    {
      "cell_type": "code",
      "metadata": {
        "colab": {
          "base_uri": "https://localhost:8080/"
        },
        "id": "L1pUCuQSqoLP",
        "outputId": "f87d43ce-eab2-4d53-b091-096b0c5fff98"
      },
      "source": [
        "# make pair of words and weights list value in a dictonary\n",
        "\n",
        "vocabulary = {word : weight for word, weight in zip(words, weights)}\n",
        "\n",
        "vocabulary"
      ],
      "execution_count": null,
      "outputs": [
        {
          "output_type": "execute_result",
          "data": {
            "text/plain": [
              "{'অনন্যসাধারণ': 2.5,\n",
              " 'অসাধারণ': 2.0,\n",
              " 'কিন্তু': 0.0,\n",
              " 'খারাপ': -1.0,\n",
              " 'জঘন্য': -2.0,\n",
              " 'না': -1.5,\n",
              " 'বাজে': -1.1,\n",
              " 'ভাল': 1.0}"
            ]
          },
          "metadata": {
            "tags": []
          },
          "execution_count": 24
        }
      ]
    },
    {
      "cell_type": "code",
      "metadata": {
        "id": "soTBx-YVrObn",
        "colab": {
          "base_uri": "https://localhost:8080/",
          "height": 35
        },
        "outputId": "162f83ad-1fbc-41fe-dc91-5f050df684ca"
      },
      "source": [
        "sentence = u'খাবার ভাল ছিল কিন্তু সার্ভিস না'\n",
        "\n",
        "sentence"
      ],
      "execution_count": null,
      "outputs": [
        {
          "output_type": "execute_result",
          "data": {
            "application/vnd.google.colaboratory.intrinsic+json": {
              "type": "string"
            },
            "text/plain": [
              "'খাবার ভাল ছিল কিন্তু সার্ভিস না'"
            ]
          },
          "metadata": {
            "tags": []
          },
          "execution_count": 25
        }
      ]
    },
    {
      "cell_type": "code",
      "metadata": {
        "colab": {
          "base_uri": "https://localhost:8080/"
        },
        "id": "ssJ5f29KwEx4",
        "outputId": "2e664869-6bc1-46f4-f890-0fa708dc7acd"
      },
      "source": [
        "score = 0.0\n",
        "for word in sentence.split(' ') :\n",
        "  if word in words:\n",
        "    score = score + vocabulary[word]\n",
        "\n",
        "print(\"Score : \", score)"
      ],
      "execution_count": null,
      "outputs": [
        {
          "output_type": "stream",
          "text": [
            "Score :  -0.5\n"
          ],
          "name": "stdout"
        }
      ]
    },
    {
      "cell_type": "code",
      "metadata": {
        "colab": {
          "base_uri": "https://localhost:8080/"
        },
        "id": "QphtRLOsxoTp",
        "outputId": "0aefc6ae-683d-485e-cf96-5141d57b5b25"
      },
      "source": [
        "if(score > 0):\n",
        "  print(\"Sentence is Positive\")\n",
        "else:\n",
        "  print(\"Sentence is Negative\")"
      ],
      "execution_count": null,
      "outputs": [
        {
          "output_type": "stream",
          "text": [
            "Sentence is Negative\n"
          ],
          "name": "stdout"
        }
      ]
    },
    {
      "cell_type": "markdown",
      "metadata": {
        "id": "ayWzotFu_Cex"
      },
      "source": [
        "\n",
        "\n",
        "                                              লিনিয়ার ক্লাসিফায়ারের জ্যামিতিক ইন্টারপ্রিটেশন"
      ]
    },
    {
      "cell_type": "code",
      "metadata": {
        "id": "6-t84zQ0zTA3",
        "colab": {
          "base_uri": "https://localhost:8080/"
        },
        "outputId": "b5651947-6d2e-42a5-f46e-64eaf605b4cb"
      },
      "source": [
        "# একটা সরলরেখার সমীকরণ চিন্তা করা যাক, y = mx + c আরও মনে করি, m = 2, c = 3\n",
        "# x={1,2,3,4} তাহলে y এর মানগুলি\n",
        "\n",
        "m = 2\n",
        "c = 3\n",
        "x = [1, 2, 3, 4]\n",
        "\n",
        "y = [(m*i + c) for i in x]\n",
        "\n",
        "y"
      ],
      "execution_count": null,
      "outputs": [
        {
          "output_type": "execute_result",
          "data": {
            "text/plain": [
              "[5, 7, 9, 11]"
            ]
          },
          "metadata": {
            "tags": []
          },
          "execution_count": 28
        }
      ]
    },
    {
      "cell_type": "code",
      "metadata": {
        "colab": {
          "base_uri": "https://localhost:8080/",
          "height": 265
        },
        "id": "gzAzv4EoKOxT",
        "outputId": "06bf6172-2078-4c73-b88c-0895550fbbfe"
      },
      "source": [
        "# প্লট করা হলে\n",
        "\n",
        "import matplotlib.pyplot as plt\n",
        "%matplotlib inline\n",
        "\n",
        "plt.plot(x, y)\n",
        "\n",
        "plt.show()"
      ],
      "execution_count": null,
      "outputs": [
        {
          "output_type": "display_data",
          "data": {
            "image/png": "[encoded data removed]",
            "text/plain": [
              "<Figure size 432x288 with 1 Axes>"
            ]
          },
          "metadata": {
            "tags": [],
            "needs_background": "light"
          }
        }
      ]
    },
    {
      "cell_type": "code",
      "metadata": {
        "colab": {
          "base_uri": "https://localhost:8080/",
          "height": 265
        },
        "id": "pGQo-ha5Kj3H",
        "outputId": "5f818a3c-3a13-46db-e755-b1fce2ebeb17"
      },
      "source": [
        "# এবার এই গ্রাফে দুইটা বিন্দু প্লট করি, যাদের কোঅর্ডিনেট যথাক্রমে, (x1, y1) = (1,6) এবং (x2, y2) = (2,10)\n",
        "\n",
        "plt.plot(x, y, linewidth='3', color='orange')\n",
        "\n",
        "plt.scatter(1, 6, color='red', s=100)\n",
        "\n",
        "plt.scatter(2, 10, color='blue', s=100)\n",
        "\n",
        "plt.show()"
      ],
      "execution_count": null,
      "outputs": [
        {
          "output_type": "display_data",
          "data": {
            "image/png": "[encoded data removed]",
            "text/plain": [
              "<Figure size 432x288 with 1 Axes>"
            ]
          },
          "metadata": {
            "tags": [],
            "needs_background": "light"
          }
        }
      ]
    },
    {
      "cell_type": "code",
      "metadata": {
        "id": "smm0qeuxMxOm",
        "colab": {
          "base_uri": "https://localhost:8080/"
        },
        "outputId": "2fa6a16c-2c0d-47f0-c105-de900044252e"
      },
      "source": [
        "# লাল বিন্দুটি সরলরেখাটির উপরে এবং নীল বিন্দুটি সরলরেখার উপরে।\n",
        "# গাণিতিকভাবে ক্যালকুলেট\n",
        "\n",
        "# y−mx−c>0\n",
        "# y−mx−c<0\n",
        "\n",
        "# for (x1, y1)\n",
        "x1 = 1\n",
        "y1 = 6\n",
        "\n",
        "y1 - m*x1 - c\n"
      ],
      "execution_count": null,
      "outputs": [
        {
          "output_type": "execute_result",
          "data": {
            "text/plain": [
              "1"
            ]
          },
          "metadata": {
            "tags": []
          },
          "execution_count": 36
        }
      ]
    },
    {
      "cell_type": "code",
      "metadata": {
        "colab": {
          "base_uri": "https://localhost:8080/"
        },
        "id": "9pPr6PqGbPCz",
        "outputId": "7ff55490-ecb7-40cb-a35c-2939660a16a2"
      },
      "source": [
        "# for (x2, y2)\n",
        "x2 = 2\n",
        "y2 = 10\n",
        "\n",
        "y2 - m*x2 - c"
      ],
      "execution_count": null,
      "outputs": [
        {
          "output_type": "execute_result",
          "data": {
            "text/plain": [
              "3"
            ]
          },
          "metadata": {
            "tags": []
          },
          "execution_count": 37
        }
      ]
    },
    {
      "cell_type": "code",
      "metadata": {
        "id": "6ymBtcSnb6go",
        "colab": {
          "base_uri": "https://localhost:8080/",
          "height": 268
        },
        "outputId": "d51225bc-20bd-4ff4-b71d-89b342fb8677"
      },
      "source": [
        "# এই রিগ্রেশন লাইনে হয়ত লস মিনিমাম কিন্তু মিসক্লাসিফিকেশন রেট অনেক অনেক বেশি\n",
        "\n",
        "import seaborn\n",
        "import pandas\n",
        "\n",
        "tumor_size = [0, 5, 10, 15, 20, 25, 30, 35, 40, 45, 70, 75, 80, 85, 90, 95, 100, 105, 110, 115, 150]\n",
        "\n",
        "malignant = [0.5, 0.5, 0.5, 0.5, 0.5, 0.5, 0.5, 0.5, 0.5, 0.5, 50, 50, 50, 50, 50, 50, 50, 50, 50, 50, 50]\n",
        "\n",
        "data = pandas.DataFrame(tumor_size, malignant)\n",
        "seaborn.regplot(x=tumor_size, y=malignant, data=data, scatter_kws={\"s\": 80})\n",
        "\n",
        "seaborn.despine()"
      ],
      "execution_count": 39,
      "outputs": [
        {
          "output_type": "display_data",
          "data": {
            "image/png": "[encoded data removed]",
            "text/plain": [
              "<Figure size 432x288 with 1 Axes>"
            ]
          },
          "metadata": {
            "tags": [],
            "needs_background": "light"
          }
        }
      ]
    },
    {
      "cell_type": "code",
      "metadata": {
        "colab": {
          "base_uri": "https://localhost:8080/",
          "height": 268
        },
        "id": "Fooy2VmfWfuJ",
        "outputId": "2c4974f6-d088-468b-d3bb-fbe3671a382b"
      },
      "source": [
        "# প্রতিকার\n",
        "# logit or sigmoid function\n",
        "\n",
        "import numpy\n",
        "\n",
        "def sigmoid(x):\n",
        "  return 1.0 / (1 + numpy.exp(-x))\n",
        "\n",
        "tumor_size = numpy.array([0, 5, 10, 15, 20, 25, 30, 35, 40, 45, 70, 75, 80, 85, 90, 95, 100, 105, 110, 115, 150])\n",
        "malignant = numpy.array([0.5, 0.5, 0.5, 0.5, 0.5, 0.5, 0.5, 0.5, 0.5, 0.5, 50, 50, 50, 50, 50, 50, 50, 50, 50, 50, 50])\n",
        "\n",
        "sigmoid_output = sigmoid(malignant)\n",
        "\n",
        "plt.plot(tumor_size, sigmoid_output)\n",
        "plt.show()"
      ],
      "execution_count": 43,
      "outputs": [
        {
          "output_type": "display_data",
          "data": {
            "image/png": "[encoded data removed]",
            "text/plain": [
              "<Figure size 432x288 with 1 Axes>"
            ]
          },
          "metadata": {
            "tags": [],
            "needs_background": "light"
          }
        }
      ]
    }
  ]
}