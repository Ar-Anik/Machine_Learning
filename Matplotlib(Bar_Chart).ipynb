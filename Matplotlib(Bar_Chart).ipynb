{
  "nbformat": 4,
  "nbformat_minor": 0,
  "metadata": {
    "colab": {
      "name": "Matplotlib(Bar Chart).ipynb",
      "provenance": [],
      "collapsed_sections": [],
      "authorship_tag": "ABX9TyOZfZG+0SWviJ4ocE9lwyjR",
      "include_colab_link": true
    },
    "kernelspec": {
      "name": "python3",
      "display_name": "Python 3"
    },
    "language_info": {
      "name": "python"
    }
  },
  "cells": [
    {
      "cell_type": "markdown",
      "metadata": {
        "id": "view-in-github",
        "colab_type": "text"
      },
      "source": [
        "<a href=\"https://colab.research.google.com/github/Ar-Anik/Machine_Learning/blob/main/Matplotlib(Bar_Chart).ipynb\" target=\"_parent\"><img src=\"https://colab.research.google.com/assets/colab-badge.svg\" alt=\"Open In Colab\"/></a>"
      ]
    },
    {
      "cell_type": "code",
      "metadata": {
        "id": "Ph_XuOWt6ufR"
      },
      "source": [
        "import matplotlib.pyplot as plt\n",
        "import numpy\n",
        "%matplotlib inline\n",
        "\n",
        "company = ['Google', 'Amazon', 'Microsoft', 'Facebook']\n",
        "\n",
        "revenue = [90, 136, 89, 27]"
      ],
      "execution_count": 15,
      "outputs": []
    },
    {
      "cell_type": "code",
      "metadata": {
        "colab": {
          "base_uri": "https://localhost:8080/",
          "height": 282
        },
        "id": "kbq0e8us7Qe7",
        "outputId": "825e0dea-e22e-4a07-b76b-fec436faf31c"
      },
      "source": [
        "plt.bar(company, revenue)"
      ],
      "execution_count": 18,
      "outputs": [
        {
          "output_type": "execute_result",
          "data": {
            "text/plain": [
              "<BarContainer object of 4 artists>"
            ]
          },
          "metadata": {
            "tags": []
          },
          "execution_count": 18
        },
        {
          "output_type": "display_data",
          "data": {
            "image/png": "[encoded data removed]",
            "text/plain": [
              "<Figure size 432x288 with 1 Axes>"
            ]
          },
          "metadata": {
            "tags": [],
            "needs_background": "light"
          }
        }
      ]
    },
    {
      "cell_type": "code",
      "metadata": {
        "colab": {
          "base_uri": "https://localhost:8080/",
          "height": 282
        },
        "id": "MiRpceruJ4WC",
        "outputId": "48f82be3-c005-427e-fdb1-fda243870601"
      },
      "source": [
        "# width keyword for control bar length\n",
        "\n",
        "plt.bar(company, revenue, width=0.3)"
      ],
      "execution_count": 24,
      "outputs": [
        {
          "output_type": "execute_result",
          "data": {
            "text/plain": [
              "<BarContainer object of 4 artists>"
            ]
          },
          "metadata": {
            "tags": []
          },
          "execution_count": 24
        },
        {
          "output_type": "display_data",
          "data": {
            "image/png": "[encoded data removed]",
            "text/plain": [
              "<Figure size 432x288 with 1 Axes>"
            ]
          },
          "metadata": {
            "tags": [],
            "needs_background": "light"
          }
        }
      ]
    },
    {
      "cell_type": "code",
      "metadata": {
        "colab": {
          "base_uri": "https://localhost:8080/"
        },
        "id": "_IN9AxqY7hqo",
        "outputId": "67320dc8-5f34-422f-a190-a36206d6c209"
      },
      "source": [
        "x_position = numpy.arange(len(company))\n",
        "\n",
        "x_position"
      ],
      "execution_count": 19,
      "outputs": [
        {
          "output_type": "execute_result",
          "data": {
            "text/plain": [
              "array([0, 1, 2, 3])"
            ]
          },
          "metadata": {
            "tags": []
          },
          "execution_count": 19
        }
      ]
    },
    {
      "cell_type": "code",
      "metadata": {
        "colab": {
          "base_uri": "https://localhost:8080/",
          "height": 282
        },
        "id": "JNmtGukq7zcX",
        "outputId": "5ab0b44b-e0c4-4f17-a09a-6ee951b4369d"
      },
      "source": [
        "plt.bar(x_position, revenue)"
      ],
      "execution_count": 20,
      "outputs": [
        {
          "output_type": "execute_result",
          "data": {
            "text/plain": [
              "<BarContainer object of 4 artists>"
            ]
          },
          "metadata": {
            "tags": []
          },
          "execution_count": 20
        },
        {
          "output_type": "display_data",
          "data": {
            "image/png": "[encoded data removed]",
            "text/plain": [
              "<Figure size 432x288 with 1 Axes>"
            ]
          },
          "metadata": {
            "tags": [],
            "needs_background": "light"
          }
        }
      ]
    },
    {
      "cell_type": "code",
      "metadata": {
        "colab": {
          "base_uri": "https://localhost:8080/",
          "height": 298
        },
        "id": "ypC0DbK08JFR",
        "outputId": "64f3ebf8-b70f-49d1-8af8-8f7e557fc30b"
      },
      "source": [
        "# xticks() function each y_position element replace by company array each element\n",
        "\n",
        "plt.xticks(x_position, company)\n",
        "\n",
        "plt.ylabel('Revenue')\n",
        "plt.title('US Tech. Stocks')\n",
        "\n",
        "plt.bar(x_position, revenue)"
      ],
      "execution_count": 21,
      "outputs": [
        {
          "output_type": "execute_result",
          "data": {
            "text/plain": [
              "<BarContainer object of 4 artists>"
            ]
          },
          "metadata": {
            "tags": []
          },
          "execution_count": 21
        },
        {
          "output_type": "display_data",
          "data": {
            "image/png": "[encoded data removed]",
            "text/plain": [
              "<Figure size 432x288 with 1 Axes>"
            ]
          },
          "metadata": {
            "tags": [],
            "needs_background": "light"
          }
        }
      ]
    },
    {
      "cell_type": "code",
      "metadata": {
        "id": "UMnj6-qb9GeY"
      },
      "source": [
        "# show revenue and profit in a plot\n",
        "\n",
        "company = ['Google', 'Amazon', 'Microsoft', 'Facebook']\n",
        "revenue = [90, 136, 89, 27]\n",
        "profit = [40, 2, 34, 12]"
      ],
      "execution_count": 30,
      "outputs": []
    },
    {
      "cell_type": "code",
      "metadata": {
        "colab": {
          "base_uri": "https://localhost:8080/",
          "height": 312
        },
        "id": "ObI4AFL795Cm",
        "outputId": "158fbc50-1ddf-47e0-dc3b-f2d004293eb8"
      },
      "source": [
        "plt.xlabel('Company')\n",
        "plt.ylabel('Revenue')\n",
        "plt.title('US Tech Stocks')\n",
        "\n",
        "plt.bar(company, revenue, label=\"Revenue\")\n",
        "plt.bar(company, profit, label=\"Profit\")\n",
        "\n",
        "plt.legend()"
      ],
      "execution_count": null,
      "outputs": [
        {
          "output_type": "execute_result",
          "data": {
            "text/plain": [
              "<matplotlib.legend.Legend at 0x7f492e9aac10>"
            ]
          },
          "metadata": {
            "tags": []
          },
          "execution_count": 13
        },
        {
          "output_type": "display_data",
          "data": {
            "image/png": "[encoded data removed]",
            "text/plain": [
              "<Figure size 432x288 with 1 Axes>"
            ]
          },
          "metadata": {
            "tags": [],
            "needs_background": "light"
          }
        }
      ]
    },
    {
      "cell_type": "code",
      "metadata": {
        "colab": {
          "base_uri": "https://localhost:8080/",
          "height": 298
        },
        "id": "OGLs04Tr-z6z",
        "outputId": "18491379-4c48-4d89-aeb5-511b38e36072"
      },
      "source": [
        "# plot revenue and profit different position\n",
        "# For this we need x_position array\n",
        "\n",
        "plt.xticks(x_position, company)\n",
        "\n",
        "plt.ylabel('Reveneu and Profit')\n",
        "plt.title('US Tech. Stocks')\n",
        "\n",
        "plt.bar(x_position - 0.2, revenue, label=\"Revenue\")\n",
        "plt.bar(x_position + 0.2, profit, label=\"Profit\")\n",
        "\n",
        "plt.legend()"
      ],
      "execution_count": null,
      "outputs": [
        {
          "output_type": "execute_result",
          "data": {
            "text/plain": [
              "<matplotlib.legend.Legend at 0x7f492e996450>"
            ]
          },
          "metadata": {
            "tags": []
          },
          "execution_count": 14
        },
        {
          "output_type": "display_data",
          "data": {
            "image/png": "[encoded data removed]",
            "text/plain": [
              "<Figure size 432x288 with 1 Axes>"
            ]
          },
          "metadata": {
            "tags": [],
            "needs_background": "light"
          }
        }
      ]
    },
    {
      "cell_type": "code",
      "metadata": {
        "colab": {
          "base_uri": "https://localhost:8080/",
          "height": 298
        },
        "id": "RZMBTTPvKiDg",
        "outputId": "f54ad391-5804-49be-e372-25da751e89c8"
      },
      "source": [
        "plt.xticks(x_position, company)\n",
        "\n",
        "plt.ylabel('Revenue and Profit')\n",
        "plt.title('US Tech. Stocks')\n",
        "\n",
        "plt.bar(x_position - 0.2, revenue, width=0.4, label=\"Revenue\")\n",
        "plt.bar(x_position + 0.2, profit, width=0.4, label=\"Profit\")\n",
        "\n",
        "plt.legend()"
      ],
      "execution_count": 25,
      "outputs": [
        {
          "output_type": "execute_result",
          "data": {
            "text/plain": [
              "<matplotlib.legend.Legend at 0x7f492e609bd0>"
            ]
          },
          "metadata": {
            "tags": []
          },
          "execution_count": 25
        },
        {
          "output_type": "display_data",
          "data": {
            "image/png": "[encoded data removed]",
            "text/plain": [
              "<Figure size 432x288 with 1 Axes>"
            ]
          },
          "metadata": {
            "tags": [],
            "needs_background": "light"
          }
        }
      ]
    },
    {
      "cell_type": "code",
      "metadata": {
        "colab": {
          "base_uri": "https://localhost:8080/",
          "height": 282
        },
        "id": "NOKtv4o_LljE",
        "outputId": "587108d2-f708-45d9-cddd-8453d9d017fa"
      },
      "source": [
        "plt.barh(x_position, revenue, label=\"Revenue\")\n",
        "plt.barh(x_position, profit, label=\"Profit\")"
      ],
      "execution_count": 26,
      "outputs": [
        {
          "output_type": "execute_result",
          "data": {
            "text/plain": [
              "<BarContainer object of 4 artists>"
            ]
          },
          "metadata": {
            "tags": []
          },
          "execution_count": 26
        },
        {
          "output_type": "display_data",
          "data": {
            "image/png": "[encoded data removed]",
            "text/plain": [
              "<Figure size 432x288 with 1 Axes>"
            ]
          },
          "metadata": {
            "tags": [],
            "needs_background": "light"
          }
        }
      ]
    },
    {
      "cell_type": "code",
      "metadata": {
        "colab": {
          "base_uri": "https://localhost:8080/",
          "height": 312
        },
        "id": "043wZ6XXMSGJ",
        "outputId": "e6c75cde-fef0-417b-f4fe-65ee9586ff33"
      },
      "source": [
        "plt.yticks(x_position, company)\n",
        "\n",
        "plt.xlabel('Revenue & Profit')\n",
        "plt.title('US Tech Stocks')\n",
        "\n",
        "plt.barh(x_position - 0.2, revenue, label = 'Revenue')\n",
        "plt.barh(x_position + 0.2, profit, label = 'Profit')\n",
        "\n",
        "plt.legend()"
      ],
      "execution_count": 32,
      "outputs": [
        {
          "output_type": "execute_result",
          "data": {
            "text/plain": [
              "<matplotlib.legend.Legend at 0x7f492e3487d0>"
            ]
          },
          "metadata": {
            "tags": []
          },
          "execution_count": 32
        },
        {
          "output_type": "display_data",
          "data": {
            "image/png": "[encoded data removed]",
            "text/plain": [
              "<Figure size 432x288 with 1 Axes>"
            ]
          },
          "metadata": {
            "tags": [],
            "needs_background": "light"
          }
        }
      ]
    }
  ]
}