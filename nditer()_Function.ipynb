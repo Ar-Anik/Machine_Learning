{
  "nbformat": 4,
  "nbformat_minor": 0,
  "metadata": {
    "colab": {
      "name": "nditer() Function.ipynb",
      "provenance": [],
      "authorship_tag": "ABX9TyPuNGY4ynt7vnwYqOvVMpjV",
      "include_colab_link": true
    },
    "kernelspec": {
      "name": "python3",
      "display_name": "Python 3"
    }
  },
  "cells": [
    {
      "cell_type": "markdown",
      "metadata": {
        "id": "view-in-github",
        "colab_type": "text"
      },
      "source": [
        "<a href=\"https://colab.research.google.com/github/Ar-Anik/Machine_Learning/blob/main/nditer()_Function.ipynb\" target=\"_parent\"><img src=\"https://colab.research.google.com/assets/colab-badge.svg\" alt=\"Open In Colab\"/></a>"
      ]
    },
    {
      "cell_type": "code",
      "metadata": {
        "colab": {
          "base_uri": "https://localhost:8080/"
        },
        "id": "njttr0E5TLpX",
        "outputId": "feb9d581-c595-4901-fc57-d051a7869a64"
      },
      "source": [
        "import numpy\n",
        "\n",
        "a = numpy.arange(1, 13).reshape(3, 4)\n",
        "\n",
        "a"
      ],
      "execution_count": 1,
      "outputs": [
        {
          "output_type": "execute_result",
          "data": {
            "text/plain": [
              "array([[ 1,  2,  3,  4],\n",
              "       [ 5,  6,  7,  8],\n",
              "       [ 9, 10, 11, 12]])"
            ]
          },
          "metadata": {
            "tags": []
          },
          "execution_count": 1
        }
      ]
    },
    {
      "cell_type": "code",
      "metadata": {
        "colab": {
          "base_uri": "https://localhost:8080/"
        },
        "id": "IOsrZNQQTkng",
        "outputId": "6032e74d-3247-4ca2-899a-1722512214c0"
      },
      "source": [
        "# Print Array Each Element By flatten() function\n",
        "\n",
        "for cell in a.flatten() : \n",
        "  print(cell)"
      ],
      "execution_count": 2,
      "outputs": [
        {
          "output_type": "stream",
          "text": [
            "1\n",
            "2\n",
            "3\n",
            "4\n",
            "5\n",
            "6\n",
            "7\n",
            "8\n",
            "9\n",
            "10\n",
            "11\n",
            "12\n"
          ],
          "name": "stdout"
        }
      ]
    },
    {
      "cell_type": "code",
      "metadata": {
        "colab": {
          "base_uri": "https://localhost:8080/"
        },
        "id": "kE-nLMiaT7yJ",
        "outputId": "0249c647-f7ef-4f05-bfb7-801b2ccee82e"
      },
      "source": [
        "# https://numpy.org/doc/stable/reference/generated/numpy.nditer.html\n",
        "# nditer() function\n",
        "\n",
        "arr = numpy.arange(1, 21).reshape(4, 5)\n",
        "\n",
        "arr"
      ],
      "execution_count": 3,
      "outputs": [
        {
          "output_type": "execute_result",
          "data": {
            "text/plain": [
              "array([[ 1,  2,  3,  4,  5],\n",
              "       [ 6,  7,  8,  9, 10],\n",
              "       [11, 12, 13, 14, 15],\n",
              "       [16, 17, 18, 19, 20]])"
            ]
          },
          "metadata": {
            "tags": []
          },
          "execution_count": 3
        }
      ]
    },
    {
      "cell_type": "code",
      "metadata": {
        "colab": {
          "base_uri": "https://localhost:8080/"
        },
        "id": "a8YjofcQUjy_",
        "outputId": "6ccce3a7-4b67-4cf1-e362-d2ff90ac4e4b"
      },
      "source": [
        "for i in numpy.nditer(arr, order='C') :\n",
        "  print(i)"
      ],
      "execution_count": 6,
      "outputs": [
        {
          "output_type": "stream",
          "text": [
            "1\n",
            "2\n",
            "3\n",
            "4\n",
            "5\n",
            "6\n",
            "7\n",
            "8\n",
            "9\n",
            "10\n",
            "11\n",
            "12\n",
            "13\n",
            "14\n",
            "15\n",
            "16\n",
            "17\n",
            "18\n",
            "19\n",
            "20\n"
          ],
          "name": "stdout"
        }
      ]
    },
    {
      "cell_type": "code",
      "metadata": {
        "colab": {
          "base_uri": "https://localhost:8080/"
        },
        "id": "RhziTqJRVakl",
        "outputId": "86f952a6-dc99-4b20-b676-d8b6f5e9cab4"
      },
      "source": [
        "for i in numpy.nditer(arr, order='F') :\n",
        "  print(i)"
      ],
      "execution_count": 7,
      "outputs": [
        {
          "output_type": "stream",
          "text": [
            "1\n",
            "6\n",
            "11\n",
            "16\n",
            "2\n",
            "7\n",
            "12\n",
            "17\n",
            "3\n",
            "8\n",
            "13\n",
            "18\n",
            "4\n",
            "9\n",
            "14\n",
            "19\n",
            "5\n",
            "10\n",
            "15\n",
            "20\n"
          ],
          "name": "stdout"
        }
      ]
    },
    {
      "cell_type": "code",
      "metadata": {
        "colab": {
          "base_uri": "https://localhost:8080/"
        },
        "id": "0pRozdODWbze",
        "outputId": "c6da2f92-a6e9-4277-9f4d-22791351ea50"
      },
      "source": [
        "# Array\n",
        "\n",
        "arr"
      ],
      "execution_count": 9,
      "outputs": [
        {
          "output_type": "execute_result",
          "data": {
            "text/plain": [
              "array([[ 1,  2,  3,  4,  5],\n",
              "       [ 6,  7,  8,  9, 10],\n",
              "       [11, 12, 13, 14, 15],\n",
              "       [16, 17, 18, 19, 20]])"
            ]
          },
          "metadata": {
            "tags": []
          },
          "execution_count": 9
        }
      ]
    },
    {
      "cell_type": "code",
      "metadata": {
        "colab": {
          "base_uri": "https://localhost:8080/"
        },
        "id": "S6_dL0T4Vhgh",
        "outputId": "a50e7d4c-eaa4-4c69-8bc4-4acf4139009c"
      },
      "source": [
        "# Column Print\n",
        "\n",
        "for i in numpy.nditer(arr, order='F', flags = ['external_loop']) :\n",
        "  print(i)"
      ],
      "execution_count": 8,
      "outputs": [
        {
          "output_type": "stream",
          "text": [
            "[ 1  6 11 16]\n",
            "[ 2  7 12 17]\n",
            "[ 3  8 13 18]\n",
            "[ 4  9 14 19]\n",
            "[ 5 10 15 20]\n"
          ],
          "name": "stdout"
        }
      ]
    },
    {
      "cell_type": "code",
      "metadata": {
        "colab": {
          "base_uri": "https://localhost:8080/"
        },
        "id": "p67gKfWoWlH8",
        "outputId": "73f0c4c7-f3ff-4f31-fbdc-55cbd74d19dd"
      },
      "source": [
        "# square of each element of the array\n",
        "\n",
        "for i in numpy.nditer(arr, op_flags=['readwrite']) :\n",
        "  i[...] = i*i\n",
        "\n",
        "arr"
      ],
      "execution_count": 11,
      "outputs": [
        {
          "output_type": "execute_result",
          "data": {
            "text/plain": [
              "array([[  1,   4,   9,  16,  25],\n",
              "       [ 36,  49,  64,  81, 100],\n",
              "       [121, 144, 169, 196, 225],\n",
              "       [256, 289, 324, 361, 400]])"
            ]
          },
          "metadata": {
            "tags": []
          },
          "execution_count": 11
        }
      ]
    },
    {
      "cell_type": "code",
      "metadata": {
        "id": "q2lENTnFW9EK"
      },
      "source": [
        "# iterate two array\n",
        "\n",
        "a = numpy.arange(1, 13).reshape(3, 4)\n",
        "\n",
        "b = numpy.arange(0, 12, 3).reshape(1, 4)"
      ],
      "execution_count": 15,
      "outputs": []
    },
    {
      "cell_type": "code",
      "metadata": {
        "colab": {
          "base_uri": "https://localhost:8080/"
        },
        "id": "AwXQu0BgXfvJ",
        "outputId": "7d7e8045-b3d7-4279-e6da-160d7f11d8b3"
      },
      "source": [
        "a"
      ],
      "execution_count": 16,
      "outputs": [
        {
          "output_type": "execute_result",
          "data": {
            "text/plain": [
              "array([[ 1,  2,  3,  4],\n",
              "       [ 5,  6,  7,  8],\n",
              "       [ 9, 10, 11, 12]])"
            ]
          },
          "metadata": {
            "tags": []
          },
          "execution_count": 16
        }
      ]
    },
    {
      "cell_type": "code",
      "metadata": {
        "colab": {
          "base_uri": "https://localhost:8080/"
        },
        "id": "ckIGtztAXlK5",
        "outputId": "760f536c-523b-45f3-8c24-b6893dc4107d"
      },
      "source": [
        "b"
      ],
      "execution_count": 17,
      "outputs": [
        {
          "output_type": "execute_result",
          "data": {
            "text/plain": [
              "array([[0, 3, 6, 9]])"
            ]
          },
          "metadata": {
            "tags": []
          },
          "execution_count": 17
        }
      ]
    },
    {
      "cell_type": "code",
      "metadata": {
        "colab": {
          "base_uri": "https://localhost:8080/"
        },
        "id": "L-EOMANvXmNB",
        "outputId": "854f9551-0d41-40eb-d288-4f5b9c68288c"
      },
      "source": [
        "for i, j in numpy.nditer([a, b]) :\n",
        "  print(i, j)"
      ],
      "execution_count": 18,
      "outputs": [
        {
          "output_type": "stream",
          "text": [
            "1 0\n",
            "2 3\n",
            "3 6\n",
            "4 9\n",
            "5 0\n",
            "6 3\n",
            "7 6\n",
            "8 9\n",
            "9 0\n",
            "10 3\n",
            "11 6\n",
            "12 9\n"
          ],
          "name": "stdout"
        }
      ]
    }
  ]
}