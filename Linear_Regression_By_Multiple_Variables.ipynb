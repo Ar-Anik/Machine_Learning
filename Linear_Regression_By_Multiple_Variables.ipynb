{
  "nbformat": 4,
  "nbformat_minor": 0,
  "metadata": {
    "colab": {
      "name": "Linear Regression By Multiple Variables",
      "provenance": [],
      "collapsed_sections": [],
      "authorship_tag": "ABX9TyPG0HXrySxC473Io4rdcFgl",
      "include_colab_link": true
    },
    "kernelspec": {
      "name": "python3",
      "display_name": "Python 3"
    },
    "language_info": {
      "name": "python"
    }
  },
  "cells": [
    {
      "cell_type": "markdown",
      "metadata": {
        "id": "view-in-github",
        "colab_type": "text"
      },
      "source": [
        "<a href=\"https://colab.research.google.com/github/Ar-Anik/Machine_Learning/blob/main/Linear_Regression_By_Multiple_Variables.ipynb\" target=\"_parent\"><img src=\"https://colab.research.google.com/assets/colab-badge.svg\" alt=\"Open In Colab\"/></a>"
      ]
    },
    {
      "cell_type": "code",
      "metadata": {
        "id": "pz8nM7wIEgLi"
      },
      "source": [
        "# In This ApartmentPrice.csv file Price column depend on 3 variable\n",
        "# So Linear Equation is, Price = m1 * area + m2 * bedrooms + m3 * age + b\n",
        "# Price = Dependent Variable\n",
        "# (area, bedrooms, age) = Features\n",
        "# (m1, m2, m3) = coefficients\n",
        "# b = Intercept\n",
        "# We also imagine this linear equation, y = m1*x1 + m2*x2 + m3*x3 + b\n",
        "\n",
        "import matplotlib.pyplot as plt\n",
        "import pandas\n",
        "import numpy\n",
        "from sklearn import linear_model\n",
        "%matplotlib inline"
      ],
      "execution_count": 1,
      "outputs": []
    },
    {
      "cell_type": "code",
      "metadata": {
        "colab": {
          "base_uri": "https://localhost:8080/",
          "height": 202
        },
        "id": "Ezn32KAJGSWQ",
        "outputId": "2f902507-d689-4958-f08b-bacc187e6570"
      },
      "source": [
        "data = pandas.read_csv('ApartmentPrice.csv')\n",
        "\n",
        "data"
      ],
      "execution_count": 2,
      "outputs": [
        {
          "output_type": "execute_result",
          "data": {
            "text/html": [
              "<div>\n",
              "<style scoped>\n",
              "    .dataframe tbody tr th:only-of-type {\n",
              "        vertical-align: middle;\n",
              "    }\n",
              "\n",
              "    .dataframe tbody tr th {\n",
              "        vertical-align: top;\n",
              "    }\n",
              "\n",
              "    .dataframe thead th {\n",
              "        text-align: right;\n",
              "    }\n",
              "</style>\n",
              "<table border=\"1\" class=\"dataframe\">\n",
              "  <thead>\n",
              "    <tr style=\"text-align: right;\">\n",
              "      <th></th>\n",
              "      <th>Area</th>\n",
              "      <th>Bedrooms</th>\n",
              "      <th>Age</th>\n",
              "      <th>Price</th>\n",
              "    </tr>\n",
              "  </thead>\n",
              "  <tbody>\n",
              "    <tr>\n",
              "      <th>0</th>\n",
              "      <td>2600</td>\n",
              "      <td>3.0</td>\n",
              "      <td>20</td>\n",
              "      <td>550000</td>\n",
              "    </tr>\n",
              "    <tr>\n",
              "      <th>1</th>\n",
              "      <td>3000</td>\n",
              "      <td>4.0</td>\n",
              "      <td>15</td>\n",
              "      <td>565000</td>\n",
              "    </tr>\n",
              "    <tr>\n",
              "      <th>2</th>\n",
              "      <td>3200</td>\n",
              "      <td>NaN</td>\n",
              "      <td>18</td>\n",
              "      <td>610000</td>\n",
              "    </tr>\n",
              "    <tr>\n",
              "      <th>3</th>\n",
              "      <td>3600</td>\n",
              "      <td>3.0</td>\n",
              "      <td>30</td>\n",
              "      <td>595000</td>\n",
              "    </tr>\n",
              "    <tr>\n",
              "      <th>4</th>\n",
              "      <td>4000</td>\n",
              "      <td>5.0</td>\n",
              "      <td>8</td>\n",
              "      <td>760000</td>\n",
              "    </tr>\n",
              "  </tbody>\n",
              "</table>\n",
              "</div>"
            ],
            "text/plain": [
              "   Area  Bedrooms  Age   Price\n",
              "0  2600       3.0   20  550000\n",
              "1  3000       4.0   15  565000\n",
              "2  3200       NaN   18  610000\n",
              "3  3600       3.0   30  595000\n",
              "4  4000       5.0    8  760000"
            ]
          },
          "metadata": {
            "tags": []
          },
          "execution_count": 2
        }
      ]
    },
    {
      "cell_type": "code",
      "metadata": {
        "colab": {
          "base_uri": "https://localhost:8080/"
        },
        "id": "L0LRKaN7G__g",
        "outputId": "f2674c8b-27a9-41f4-95ee-102c8c0ca354"
      },
      "source": [
        "# median of Bedrooms Column\n",
        "\n",
        "data.Bedrooms.median()"
      ],
      "execution_count": 4,
      "outputs": [
        {
          "output_type": "execute_result",
          "data": {
            "text/plain": [
              "3.5"
            ]
          },
          "metadata": {
            "tags": []
          },
          "execution_count": 4
        }
      ]
    },
    {
      "cell_type": "code",
      "metadata": {
        "colab": {
          "base_uri": "https://localhost:8080/"
        },
        "id": "t7AG66qUH9Rd",
        "outputId": "5f978760-3661-4c67-aba4-57335ad1f92c"
      },
      "source": [
        "# Floor median Value\n",
        "from math import floor\n",
        "\n",
        "median = floor(data.Bedrooms.median())\n",
        "median"
      ],
      "execution_count": 6,
      "outputs": [
        {
          "output_type": "execute_result",
          "data": {
            "text/plain": [
              "3"
            ]
          },
          "metadata": {
            "tags": []
          },
          "execution_count": 6
        }
      ]
    },
    {
      "cell_type": "code",
      "metadata": {
        "colab": {
          "base_uri": "https://localhost:8080/",
          "height": 202
        },
        "id": "4iIQVvhGIaIN",
        "outputId": "31596d59-00fd-46ca-dba7-a95b8fe6d5ab"
      },
      "source": [
        "# Fillup Null value with median value\n",
        "\n",
        "data.Bedrooms = data.Bedrooms.fillna(median)\n",
        "data"
      ],
      "execution_count": 8,
      "outputs": [
        {
          "output_type": "execute_result",
          "data": {
            "text/html": [
              "<div>\n",
              "<style scoped>\n",
              "    .dataframe tbody tr th:only-of-type {\n",
              "        vertical-align: middle;\n",
              "    }\n",
              "\n",
              "    .dataframe tbody tr th {\n",
              "        vertical-align: top;\n",
              "    }\n",
              "\n",
              "    .dataframe thead th {\n",
              "        text-align: right;\n",
              "    }\n",
              "</style>\n",
              "<table border=\"1\" class=\"dataframe\">\n",
              "  <thead>\n",
              "    <tr style=\"text-align: right;\">\n",
              "      <th></th>\n",
              "      <th>Area</th>\n",
              "      <th>Bedrooms</th>\n",
              "      <th>Age</th>\n",
              "      <th>Price</th>\n",
              "    </tr>\n",
              "  </thead>\n",
              "  <tbody>\n",
              "    <tr>\n",
              "      <th>0</th>\n",
              "      <td>2600</td>\n",
              "      <td>3.0</td>\n",
              "      <td>20</td>\n",
              "      <td>550000</td>\n",
              "    </tr>\n",
              "    <tr>\n",
              "      <th>1</th>\n",
              "      <td>3000</td>\n",
              "      <td>4.0</td>\n",
              "      <td>15</td>\n",
              "      <td>565000</td>\n",
              "    </tr>\n",
              "    <tr>\n",
              "      <th>2</th>\n",
              "      <td>3200</td>\n",
              "      <td>3.0</td>\n",
              "      <td>18</td>\n",
              "      <td>610000</td>\n",
              "    </tr>\n",
              "    <tr>\n",
              "      <th>3</th>\n",
              "      <td>3600</td>\n",
              "      <td>3.0</td>\n",
              "      <td>30</td>\n",
              "      <td>595000</td>\n",
              "    </tr>\n",
              "    <tr>\n",
              "      <th>4</th>\n",
              "      <td>4000</td>\n",
              "      <td>5.0</td>\n",
              "      <td>8</td>\n",
              "      <td>760000</td>\n",
              "    </tr>\n",
              "  </tbody>\n",
              "</table>\n",
              "</div>"
            ],
            "text/plain": [
              "   Area  Bedrooms  Age   Price\n",
              "0  2600       3.0   20  550000\n",
              "1  3000       4.0   15  565000\n",
              "2  3200       3.0   18  610000\n",
              "3  3600       3.0   30  595000\n",
              "4  4000       5.0    8  760000"
            ]
          },
          "metadata": {
            "tags": []
          },
          "execution_count": 8
        }
      ]
    },
    {
      "cell_type": "code",
      "metadata": {
        "id": "-gpTSF8hIs0D"
      },
      "source": [
        "# create regression object\n",
        "\n",
        "r = linear_model.LinearRegression()"
      ],
      "execution_count": 9,
      "outputs": []
    },
    {
      "cell_type": "code",
      "metadata": {
        "colab": {
          "base_uri": "https://localhost:8080/"
        },
        "id": "5LZx6FoVJcG9",
        "outputId": "abe51384-fb5a-419b-ac1d-160941432677"
      },
      "source": [
        "# Train regression model by fit() function\n",
        "\n",
        "r.fit(data[['Area', 'Bedrooms', 'Age']], data.Price)"
      ],
      "execution_count": 10,
      "outputs": [
        {
          "output_type": "execute_result",
          "data": {
            "text/plain": [
              "LinearRegression(copy_X=True, fit_intercept=True, n_jobs=None, normalize=False)"
            ]
          },
          "metadata": {
            "tags": []
          },
          "execution_count": 10
        }
      ]
    },
    {
      "cell_type": "code",
      "metadata": {
        "colab": {
          "base_uri": "https://localhost:8080/"
        },
        "id": "08g6J7xnJqVV",
        "outputId": "2f483e88-63b1-4537-93cd-a441fee1785e"
      },
      "source": [
        "# Three co-efficient value of m1, m2, m3\n",
        "\n",
        "r.coef_"
      ],
      "execution_count": 11,
      "outputs": [
        {
          "output_type": "execute_result",
          "data": {
            "text/plain": [
              "array([   137.25, -26025.  ,  -6825.  ])"
            ]
          },
          "metadata": {
            "tags": []
          },
          "execution_count": 11
        }
      ]
    },
    {
      "cell_type": "code",
      "metadata": {
        "colab": {
          "base_uri": "https://localhost:8080/"
        },
        "id": "w84zqv9pJ2b0",
        "outputId": "ec8172ee-ee90-453a-db2f-1ac954d1c2f4"
      },
      "source": [
        "# intercept value\n",
        "\n",
        "r.intercept_"
      ],
      "execution_count": 12,
      "outputs": [
        {
          "output_type": "execute_result",
          "data": {
            "text/plain": [
              "383724.99999999994"
            ]
          },
          "metadata": {
            "tags": []
          },
          "execution_count": 12
        }
      ]
    },
    {
      "cell_type": "code",
      "metadata": {
        "colab": {
          "base_uri": "https://localhost:8080/"
        },
        "id": "mlvxGFnVJ-o8",
        "outputId": "731d36b9-3c19-4132-c932-6d92fd1657a1"
      },
      "source": [
        "# Predict a Apartment Price which Area = 3000, Bedrooms = 3, Age = 40\n",
        "\n",
        "r.predict([[3000, 3, 40]])"
      ],
      "execution_count": 13,
      "outputs": [
        {
          "output_type": "execute_result",
          "data": {
            "text/plain": [
              "array([444400.])"
            ]
          },
          "metadata": {
            "tags": []
          },
          "execution_count": 13
        }
      ]
    },
    {
      "cell_type": "code",
      "metadata": {
        "colab": {
          "base_uri": "https://localhost:8080/"
        },
        "id": "f86eA1hmKeEl",
        "outputId": "c0cfb98f-3e8a-4ff9-8b30-4983484b4e6f"
      },
      "source": [
        "r.predict([[3000, 4, 15]])"
      ],
      "execution_count": 14,
      "outputs": [
        {
          "output_type": "execute_result",
          "data": {
            "text/plain": [
              "array([589000.])"
            ]
          },
          "metadata": {
            "tags": []
          },
          "execution_count": 14
        }
      ]
    },
    {
      "cell_type": "code",
      "metadata": {
        "colab": {
          "base_uri": "https://localhost:8080/"
        },
        "id": "yusql0SlMRNH",
        "outputId": "d35b6ef3-9568-44d1-8dd2-edf649b12ada"
      },
      "source": [
        "# Calculate Price By Linear Equation\n",
        "\n",
        "Price = 137.25 * 3000 + (-26025) * 4 + (-6825)* 15 + 383724.99999999994\n",
        "\n",
        "Price"
      ],
      "execution_count": 15,
      "outputs": [
        {
          "output_type": "execute_result",
          "data": {
            "text/plain": [
              "589000.0"
            ]
          },
          "metadata": {
            "tags": []
          },
          "execution_count": 15
        }
      ]
    },
    {
      "cell_type": "code",
      "metadata": {
        "colab": {
          "base_uri": "https://localhost:8080/",
          "height": 264
        },
        "id": "jTky1Mp6N3iA",
        "outputId": "17d41619-8509-4325-af35-223a341a0327"
      },
      "source": [
        "# plot\n",
        "\n",
        "plt.scatter(data.Area, data.Price, color='black')\n",
        "plt.scatter(data.Bedrooms, data.Price, color='blue')\n",
        "plt.scatter(data.Age, data.Price, color='pink')\n",
        "\n",
        "plt.show()"
      ],
      "execution_count": 22,
      "outputs": [
        {
          "output_type": "display_data",
          "data": {
            "image/png": "[encoded data removed]",
            "text/plain": [
              "<Figure size 432x288 with 1 Axes>"
            ]
          },
          "metadata": {
            "tags": [],
            "needs_background": "light"
          }
        }
      ]
    },
    {
      "cell_type": "code",
      "metadata": {
        "colab": {
          "base_uri": "https://localhost:8080/",
          "height": 264
        },
        "id": "t7x9dv_2PtIu",
        "outputId": "cfc6c80f-4656-476c-bbdd-fefb5f1371be"
      },
      "source": [
        "# Plot linear Regression\n",
        "\n",
        "plt.scatter(data.Area, data.Price, color='black')\n",
        "plt.scatter(data.Bedrooms, data.Price, color='blue')\n",
        "plt.scatter(data.Age, data.Price, color='pink')\n",
        "\n",
        "plt.plot(data.Area, r.predict(data[['Area', 'Bedrooms', 'Age']]), color='red')\n",
        "\n",
        "plt.show()"
      ],
      "execution_count": 29,
      "outputs": [
        {
          "output_type": "display_data",
          "data": {
            "image/png": "[encoded data removed]",
            "text/plain": [
              "<Figure size 432x288 with 1 Axes>"
            ]
          },
          "metadata": {
            "tags": [],
            "needs_background": "light"
          }
        }
      ]
    },
    {
      "cell_type": "code",
      "metadata": {
        "colab": {
          "base_uri": "https://localhost:8080/",
          "height": 264
        },
        "id": "n1TCMWzfQvHM",
        "outputId": "d54f6671-9613-4a0a-c20f-5cf45885b4ff"
      },
      "source": [
        "plt.scatter(data.Area, data.Price, color='black')\n",
        "plt.scatter(data.Bedrooms, data.Price, color='blue')\n",
        "plt.scatter(data.Age, data.Price, color='pink')\n",
        "\n",
        "plt.plot(data.Bedrooms, r.predict(data[['Area', 'Bedrooms', 'Age']]), color='red')\n",
        "\n",
        "plt.show()"
      ],
      "execution_count": 30,
      "outputs": [
        {
          "output_type": "display_data",
          "data": {
            "image/png": "[encoded data removed]",
            "text/plain": [
              "<Figure size 432x288 with 1 Axes>"
            ]
          },
          "metadata": {
            "tags": [],
            "needs_background": "light"
          }
        }
      ]
    },
    {
      "cell_type": "code",
      "metadata": {
        "colab": {
          "base_uri": "https://localhost:8080/",
          "height": 264
        },
        "id": "299Z8mPtQ1H6",
        "outputId": "86fa3f3e-70de-4bdc-e708-464faf07f251"
      },
      "source": [
        "plt.scatter(data.Area, data.Price, color='black')\n",
        "plt.scatter(data.Bedrooms, data.Price, color='blue')\n",
        "plt.scatter(data.Age, data.Price, color='pink')\n",
        "\n",
        "plt.plot(data.Age, r.predict(data[['Area', 'Bedrooms', 'Age']]), color='red')\n",
        "\n",
        "plt.show()"
      ],
      "execution_count": 31,
      "outputs": [
        {
          "output_type": "display_data",
          "data": {
            "image/png": "[encoded data removed]",
            "text/plain": [
              "<Figure size 432x288 with 1 Axes>"
            ]
          },
          "metadata": {
            "tags": [],
            "needs_background": "light"
          }
        }
      ]
    }
  ]
}