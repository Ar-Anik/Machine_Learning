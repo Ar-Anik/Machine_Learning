{
  "nbformat": 4,
  "nbformat_minor": 0,
  "metadata": {
    "colab": {
      "name": "Exponential Family and Generalized Linear Model.ipynb",
      "provenance": [],
      "collapsed_sections": [],
      "authorship_tag": "ABX9TyPVV7Hq1eVFqJO0KjnzHS4y",
      "include_colab_link": true
    },
    "kernelspec": {
      "name": "python3",
      "display_name": "Python 3"
    },
    "language_info": {
      "name": "python"
    }
  },
  "cells": [
    {
      "cell_type": "markdown",
      "metadata": {
        "id": "view-in-github",
        "colab_type": "text"
      },
      "source": [
        "<a href=\"https://colab.research.google.com/github/Ar-Anik/Machine_Learning/blob/main/Exponential_Family_and_Generalized_Linear_Model.ipynb\" target=\"_parent\"><img src=\"https://colab.research.google.com/assets/colab-badge.svg\" alt=\"Open In Colab\"/></a>"
      ]
    },
    {
      "cell_type": "code",
      "metadata": {
        "id": "q-BswKOwvtPC",
        "colab": {
          "base_uri": "https://localhost:8080/"
        },
        "outputId": "b2aa3657-23d4-479e-bada-56915c55e26c"
      },
      "source": [
        "# একই পরিবারের বিভিন্ন ডিস্ট্রিবিউশন \n",
        "# বার্নুলি ডিস্ট্রিবিউশন এক্সপোনেনশিয়াল পরিবারের সদস্য\n",
        "\n",
        "import seaborn\n",
        "import numpy\n",
        "from scipy.stats import binom\n",
        "import matplotlib.pyplot as plt\n",
        "%matplotlib inline\n",
        "\n",
        "r = numpy.arange(0, 11)\n",
        "\n",
        "r"
      ],
      "execution_count": null,
      "outputs": [
        {
          "output_type": "execute_result",
          "data": {
            "text/plain": [
              "array([ 0,  1,  2,  3,  4,  5,  6,  7,  8,  9, 10])"
            ]
          },
          "metadata": {
            "tags": []
          },
          "execution_count": 5
        }
      ]
    },
    {
      "cell_type": "code",
      "metadata": {
        "colab": {
          "base_uri": "https://localhost:8080/"
        },
        "id": "TJ4MFtn7T58e",
        "outputId": "b9ac5e3d-f70b-4054-be20-22ec75613364"
      },
      "source": [
        "n = 10     # number of sample\n",
        "\n",
        "eta = 0.25\n",
        "\n",
        "bd1 = [binom.pmf(i, n, eta) for i in r]\n",
        "\n",
        "bd1"
      ],
      "execution_count": null,
      "outputs": [
        {
          "output_type": "execute_result",
          "data": {
            "text/plain": [
              "[0.056313514709472684,\n",
              " 0.18771171569824247,\n",
              " 0.28156757354736334,\n",
              " 0.2502822875976565,\n",
              " 0.14599800109863295,\n",
              " 0.058399200439453194,\n",
              " 0.016222000122070344,\n",
              " 0.003089904785156255,\n",
              " 0.00038623809814453147,\n",
              " 2.8610229492187517e-05,\n",
              " 9.5367431640625e-07]"
            ]
          },
          "metadata": {
            "tags": []
          },
          "execution_count": 16
        }
      ]
    },
    {
      "cell_type": "code",
      "metadata": {
        "colab": {
          "base_uri": "https://localhost:8080/",
          "height": 322
        },
        "id": "rgcWhLO5U3d5",
        "outputId": "5397ffc5-67a0-452e-fc46-c3c8ee32471b"
      },
      "source": [
        "# plot 1\n",
        "\n",
        "seaborn.barplot(r, bd1)\n",
        "\n",
        "seaborn.set()"
      ],
      "execution_count": null,
      "outputs": [
        {
          "output_type": "stream",
          "text": [
            "/usr/local/lib/python3.7/dist-packages/seaborn/_decorators.py:43: FutureWarning: Pass the following variables as keyword args: x, y. From version 0.12, the only valid positional argument will be `data`, and passing other arguments without an explicit keyword will result in an error or misinterpretation.\n",
            "  FutureWarning\n"
          ],
          "name": "stderr"
        },
        {
          "output_type": "display_data",
          "data": {
            "image/png": "[encoded data removed]",
            "text/plain": [
              "<Figure size 432x288 with 1 Axes>"
            ]
          },
          "metadata": {
            "tags": []
          }
        }
      ]
    },
    {
      "cell_type": "code",
      "metadata": {
        "colab": {
          "base_uri": "https://localhost:8080/"
        },
        "id": "4Uhmh7YpV2IH",
        "outputId": "b910ac7e-ef55-4537-d97a-e4311c8e13ad"
      },
      "source": [
        "# change eta = 0.5\n",
        "\n",
        "eta = 0.5\n",
        "\n",
        "bd2 = [binom.pmf(i, n, eta) for i in r]\n",
        "\n",
        "bd2"
      ],
      "execution_count": null,
      "outputs": [
        {
          "output_type": "execute_result",
          "data": {
            "text/plain": [
              "[0.0009765625,\n",
              " 0.00976562500000001,\n",
              " 0.04394531249999999,\n",
              " 0.11718750000000014,\n",
              " 0.20507812500000022,\n",
              " 0.24609375000000025,\n",
              " 0.20507812500000022,\n",
              " 0.11718750000000014,\n",
              " 0.04394531249999999,\n",
              " 0.00976562500000001,\n",
              " 0.0009765625]"
            ]
          },
          "metadata": {
            "tags": []
          },
          "execution_count": 19
        }
      ]
    },
    {
      "cell_type": "code",
      "metadata": {
        "colab": {
          "base_uri": "https://localhost:8080/",
          "height": 322
        },
        "id": "WdUwiZklnsMk",
        "outputId": "1189260d-2a56-4410-b918-675d743fe520"
      },
      "source": [
        "# plot 2\n",
        "\n",
        "seaborn.barplot(r, bd2)\n",
        "\n",
        "seaborn.set()"
      ],
      "execution_count": null,
      "outputs": [
        {
          "output_type": "stream",
          "text": [
            "/usr/local/lib/python3.7/dist-packages/seaborn/_decorators.py:43: FutureWarning: Pass the following variables as keyword args: x, y. From version 0.12, the only valid positional argument will be `data`, and passing other arguments without an explicit keyword will result in an error or misinterpretation.\n",
            "  FutureWarning\n"
          ],
          "name": "stderr"
        },
        {
          "output_type": "display_data",
          "data": {
            "image/png": "[encoded data removed]",
            "text/plain": [
              "<Figure size 432x288 with 1 Axes>"
            ]
          },
          "metadata": {
            "tags": []
          }
        }
      ]
    },
    {
      "cell_type": "code",
      "metadata": {
        "colab": {
          "base_uri": "https://localhost:8080/"
        },
        "id": "RwURE8BioV6V",
        "outputId": "1afef7f6-cff9-45d8-e759-79bef5c4a033"
      },
      "source": [
        "# change eta = 0.9\n",
        "\n",
        "eta = 0.9\n",
        "\n",
        "bd3 = [binom.pmf(i, n, eta) for i in r]\n",
        "\n",
        "bd3"
      ],
      "execution_count": null,
      "outputs": [
        {
          "output_type": "execute_result",
          "data": {
            "text/plain": [
              "[9.99999999999996e-11,\n",
              " 8.999999999999996e-09,\n",
              " 3.644999999999996e-07,\n",
              " 8.748000000000003e-06,\n",
              " 0.0001377809999999999,\n",
              " 0.0014880347999999988,\n",
              " 0.011160260999999996,\n",
              " 0.05739562800000001,\n",
              " 0.19371024449999993,\n",
              " 0.38742048900000037,\n",
              " 0.34867844010000004]"
            ]
          },
          "metadata": {
            "tags": []
          },
          "execution_count": 23
        }
      ]
    },
    {
      "cell_type": "code",
      "metadata": {
        "colab": {
          "base_uri": "https://localhost:8080/",
          "height": 322
        },
        "id": "5i5GQbcfozMu",
        "outputId": "5b604d4e-4f15-453a-a83c-89ad2d09a434"
      },
      "source": [
        "# plot 3\n",
        "\n",
        "seaborn.barplot(r, bd3)\n",
        "\n",
        "seaborn.set()"
      ],
      "execution_count": null,
      "outputs": [
        {
          "output_type": "stream",
          "text": [
            "/usr/local/lib/python3.7/dist-packages/seaborn/_decorators.py:43: FutureWarning: Pass the following variables as keyword args: x, y. From version 0.12, the only valid positional argument will be `data`, and passing other arguments without an explicit keyword will result in an error or misinterpretation.\n",
            "  FutureWarning\n"
          ],
          "name": "stderr"
        },
        {
          "output_type": "display_data",
          "data": {
            "image/png": "[encoded data removed]",
            "text/plain": [
              "<Figure size 432x288 with 1 Axes>"
            ]
          },
          "metadata": {
            "tags": []
          }
        }
      ]
    }
  ]
}