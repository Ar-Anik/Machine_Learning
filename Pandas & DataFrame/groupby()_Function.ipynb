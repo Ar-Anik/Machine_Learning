{
  "nbformat": 4,
  "nbformat_minor": 0,
  "metadata": {
    "colab": {
      "name": "groupby() Function",
      "provenance": [],
      "authorship_tag": "ABX9TyOk39pcs82j05XI2bE7h2+C",
      "include_colab_link": true
    },
    "kernelspec": {
      "name": "python3",
      "display_name": "Python 3"
    }
  },
  "cells": [
    {
      "cell_type": "markdown",
      "metadata": {
        "id": "view-in-github",
        "colab_type": "text"
      },
      "source": [
        "<a href=\"https://colab.research.google.com/github/Ar-Anik/Machine_Learning/blob/main/groupby()_Function.ipynb\" target=\"_parent\"><img src=\"https://colab.research.google.com/assets/colab-badge.svg\" alt=\"Open In Colab\"/></a>"
      ]
    },
    {
      "cell_type": "code",
      "metadata": {
        "colab": {
          "base_uri": "https://localhost:8080/",
          "height": 421
        },
        "id": "oV98LrqZELyE",
        "outputId": "9a78cd14-9c94-4d98-f127-288c1d04d61e"
      },
      "source": [
        "import pandas\n",
        "\n",
        "data = pandas.read_csv('/content/Weather_by_Cities.csv')\n",
        "\n",
        "data"
      ],
      "execution_count": 1,
      "outputs": [
        {
          "output_type": "execute_result",
          "data": {
            "text/html": [
              "<div>\n",
              "<style scoped>\n",
              "    .dataframe tbody tr th:only-of-type {\n",
              "        vertical-align: middle;\n",
              "    }\n",
              "\n",
              "    .dataframe tbody tr th {\n",
              "        vertical-align: top;\n",
              "    }\n",
              "\n",
              "    .dataframe thead th {\n",
              "        text-align: right;\n",
              "    }\n",
              "</style>\n",
              "<table border=\"1\" class=\"dataframe\">\n",
              "  <thead>\n",
              "    <tr style=\"text-align: right;\">\n",
              "      <th></th>\n",
              "      <th>Day</th>\n",
              "      <th>City</th>\n",
              "      <th>Temperature</th>\n",
              "      <th>Windspeed</th>\n",
              "      <th>Event</th>\n",
              "    </tr>\n",
              "  </thead>\n",
              "  <tbody>\n",
              "    <tr>\n",
              "      <th>0</th>\n",
              "      <td>6/25/2021</td>\n",
              "      <td>Dhaka</td>\n",
              "      <td>32</td>\n",
              "      <td>6</td>\n",
              "      <td>Rain</td>\n",
              "    </tr>\n",
              "    <tr>\n",
              "      <th>1</th>\n",
              "      <td>6/26/2021</td>\n",
              "      <td>Dhaka</td>\n",
              "      <td>36</td>\n",
              "      <td>7</td>\n",
              "      <td>Sunny</td>\n",
              "    </tr>\n",
              "    <tr>\n",
              "      <th>2</th>\n",
              "      <td>6/27/2021</td>\n",
              "      <td>Dhaka</td>\n",
              "      <td>28</td>\n",
              "      <td>12</td>\n",
              "      <td>Snow</td>\n",
              "    </tr>\n",
              "    <tr>\n",
              "      <th>3</th>\n",
              "      <td>6/28/2021</td>\n",
              "      <td>Dhaka</td>\n",
              "      <td>33</td>\n",
              "      <td>7</td>\n",
              "      <td>Sunny</td>\n",
              "    </tr>\n",
              "    <tr>\n",
              "      <th>4</th>\n",
              "      <td>6/25/2021</td>\n",
              "      <td>Chittagong</td>\n",
              "      <td>31</td>\n",
              "      <td>5</td>\n",
              "      <td>Sunny</td>\n",
              "    </tr>\n",
              "    <tr>\n",
              "      <th>5</th>\n",
              "      <td>6/26/2021</td>\n",
              "      <td>Chittagong</td>\n",
              "      <td>26</td>\n",
              "      <td>12</td>\n",
              "      <td>Fog</td>\n",
              "    </tr>\n",
              "    <tr>\n",
              "      <th>6</th>\n",
              "      <td>6/27/2021</td>\n",
              "      <td>Chittagong</td>\n",
              "      <td>27</td>\n",
              "      <td>15</td>\n",
              "      <td>Fog</td>\n",
              "    </tr>\n",
              "    <tr>\n",
              "      <th>7</th>\n",
              "      <td>6/28/2021</td>\n",
              "      <td>Chittagong</td>\n",
              "      <td>33</td>\n",
              "      <td>5</td>\n",
              "      <td>Rain</td>\n",
              "    </tr>\n",
              "    <tr>\n",
              "      <th>8</th>\n",
              "      <td>6/25/2021</td>\n",
              "      <td>Khulna</td>\n",
              "      <td>34</td>\n",
              "      <td>20</td>\n",
              "      <td>Sunny</td>\n",
              "    </tr>\n",
              "    <tr>\n",
              "      <th>9</th>\n",
              "      <td>6/26/2021</td>\n",
              "      <td>Khulna</td>\n",
              "      <td>35</td>\n",
              "      <td>13</td>\n",
              "      <td>Cloudly</td>\n",
              "    </tr>\n",
              "    <tr>\n",
              "      <th>10</th>\n",
              "      <td>6/27/2021</td>\n",
              "      <td>Khulna</td>\n",
              "      <td>37</td>\n",
              "      <td>8</td>\n",
              "      <td>Cloudly</td>\n",
              "    </tr>\n",
              "    <tr>\n",
              "      <th>11</th>\n",
              "      <td>6/28/2021</td>\n",
              "      <td>Khulna</td>\n",
              "      <td>30</td>\n",
              "      <td>10</td>\n",
              "      <td>Cloudly</td>\n",
              "    </tr>\n",
              "  </tbody>\n",
              "</table>\n",
              "</div>"
            ],
            "text/plain": [
              "          Day        City  Temperature  Windspeed    Event\n",
              "0   6/25/2021       Dhaka           32          6     Rain\n",
              "1   6/26/2021       Dhaka           36          7    Sunny\n",
              "2   6/27/2021       Dhaka           28         12     Snow\n",
              "3   6/28/2021       Dhaka           33          7    Sunny\n",
              "4   6/25/2021  Chittagong           31          5    Sunny\n",
              "5   6/26/2021  Chittagong           26         12      Fog\n",
              "6   6/27/2021  Chittagong           27         15      Fog\n",
              "7   6/28/2021  Chittagong           33          5     Rain\n",
              "8   6/25/2021      Khulna           34         20    Sunny\n",
              "9   6/26/2021      Khulna           35         13  Cloudly\n",
              "10  6/27/2021      Khulna           37          8  Cloudly\n",
              "11  6/28/2021      Khulna           30         10  Cloudly"
            ]
          },
          "metadata": {
            "tags": []
          },
          "execution_count": 1
        }
      ]
    },
    {
      "cell_type": "code",
      "metadata": {
        "colab": {
          "base_uri": "https://localhost:8080/"
        },
        "id": "R--KhpKIFJiB",
        "outputId": "bd12be3b-d525-403d-92af-95096c19fc3c"
      },
      "source": [
        "# Group Object Create\n",
        "\n",
        "grp = data.groupby('City')\n",
        "\n",
        "grp"
      ],
      "execution_count": 2,
      "outputs": [
        {
          "output_type": "execute_result",
          "data": {
            "text/plain": [
              "<pandas.core.groupby.generic.DataFrameGroupBy object at 0x7fda23bf3e90>"
            ]
          },
          "metadata": {
            "tags": []
          },
          "execution_count": 2
        }
      ]
    },
    {
      "cell_type": "code",
      "metadata": {
        "colab": {
          "base_uri": "https://localhost:8080/"
        },
        "id": "Fs06qjwiFTEB",
        "outputId": "5fa199e1-50fe-49b3-912c-0bf1d6924fb8"
      },
      "source": [
        "# Each city and city data\n",
        "\n",
        "for city, city_data in grp :\n",
        "  print('\\n',city)\n",
        "  print(city_data)\n"
      ],
      "execution_count": 5,
      "outputs": [
        {
          "output_type": "stream",
          "text": [
            "\n",
            " Chittagong\n",
            "         Day        City  Temperature  Windspeed  Event\n",
            "4  6/25/2021  Chittagong           31          5  Sunny\n",
            "5  6/26/2021  Chittagong           26         12    Fog\n",
            "6  6/27/2021  Chittagong           27         15    Fog\n",
            "7  6/28/2021  Chittagong           33          5   Rain\n",
            "\n",
            " Dhaka\n",
            "         Day   City  Temperature  Windspeed  Event\n",
            "0  6/25/2021  Dhaka           32          6   Rain\n",
            "1  6/26/2021  Dhaka           36          7  Sunny\n",
            "2  6/27/2021  Dhaka           28         12   Snow\n",
            "3  6/28/2021  Dhaka           33          7  Sunny\n",
            "\n",
            " Khulna\n",
            "          Day    City  Temperature  Windspeed    Event\n",
            "8   6/25/2021  Khulna           34         20    Sunny\n",
            "9   6/26/2021  Khulna           35         13  Cloudly\n",
            "10  6/27/2021  Khulna           37          8  Cloudly\n",
            "11  6/28/2021  Khulna           30         10  Cloudly\n"
          ],
          "name": "stdout"
        }
      ]
    },
    {
      "cell_type": "code",
      "metadata": {
        "colab": {
          "base_uri": "https://localhost:8080/",
          "height": 173
        },
        "id": "fDYLQm4QFtzA",
        "outputId": "d0287737-4217-49cd-c60b-95b9f4ad94e5"
      },
      "source": [
        "# Specific Group\n",
        "\n",
        "grp.get_group('Chittagong')"
      ],
      "execution_count": 6,
      "outputs": [
        {
          "output_type": "execute_result",
          "data": {
            "text/html": [
              "<div>\n",
              "<style scoped>\n",
              "    .dataframe tbody tr th:only-of-type {\n",
              "        vertical-align: middle;\n",
              "    }\n",
              "\n",
              "    .dataframe tbody tr th {\n",
              "        vertical-align: top;\n",
              "    }\n",
              "\n",
              "    .dataframe thead th {\n",
              "        text-align: right;\n",
              "    }\n",
              "</style>\n",
              "<table border=\"1\" class=\"dataframe\">\n",
              "  <thead>\n",
              "    <tr style=\"text-align: right;\">\n",
              "      <th></th>\n",
              "      <th>Day</th>\n",
              "      <th>City</th>\n",
              "      <th>Temperature</th>\n",
              "      <th>Windspeed</th>\n",
              "      <th>Event</th>\n",
              "    </tr>\n",
              "  </thead>\n",
              "  <tbody>\n",
              "    <tr>\n",
              "      <th>4</th>\n",
              "      <td>6/25/2021</td>\n",
              "      <td>Chittagong</td>\n",
              "      <td>31</td>\n",
              "      <td>5</td>\n",
              "      <td>Sunny</td>\n",
              "    </tr>\n",
              "    <tr>\n",
              "      <th>5</th>\n",
              "      <td>6/26/2021</td>\n",
              "      <td>Chittagong</td>\n",
              "      <td>26</td>\n",
              "      <td>12</td>\n",
              "      <td>Fog</td>\n",
              "    </tr>\n",
              "    <tr>\n",
              "      <th>6</th>\n",
              "      <td>6/27/2021</td>\n",
              "      <td>Chittagong</td>\n",
              "      <td>27</td>\n",
              "      <td>15</td>\n",
              "      <td>Fog</td>\n",
              "    </tr>\n",
              "    <tr>\n",
              "      <th>7</th>\n",
              "      <td>6/28/2021</td>\n",
              "      <td>Chittagong</td>\n",
              "      <td>33</td>\n",
              "      <td>5</td>\n",
              "      <td>Rain</td>\n",
              "    </tr>\n",
              "  </tbody>\n",
              "</table>\n",
              "</div>"
            ],
            "text/plain": [
              "         Day        City  Temperature  Windspeed  Event\n",
              "4  6/25/2021  Chittagong           31          5  Sunny\n",
              "5  6/26/2021  Chittagong           26         12    Fog\n",
              "6  6/27/2021  Chittagong           27         15    Fog\n",
              "7  6/28/2021  Chittagong           33          5   Rain"
            ]
          },
          "metadata": {
            "tags": []
          },
          "execution_count": 6
        }
      ]
    },
    {
      "cell_type": "code",
      "metadata": {
        "colab": {
          "base_uri": "https://localhost:8080/",
          "height": 173
        },
        "id": "4vYxHeJzGDG3",
        "outputId": "6d8fdd9f-2349-4fc7-c83e-28199755034c"
      },
      "source": [
        "grp.get_group('Khulna')"
      ],
      "execution_count": 7,
      "outputs": [
        {
          "output_type": "execute_result",
          "data": {
            "text/html": [
              "<div>\n",
              "<style scoped>\n",
              "    .dataframe tbody tr th:only-of-type {\n",
              "        vertical-align: middle;\n",
              "    }\n",
              "\n",
              "    .dataframe tbody tr th {\n",
              "        vertical-align: top;\n",
              "    }\n",
              "\n",
              "    .dataframe thead th {\n",
              "        text-align: right;\n",
              "    }\n",
              "</style>\n",
              "<table border=\"1\" class=\"dataframe\">\n",
              "  <thead>\n",
              "    <tr style=\"text-align: right;\">\n",
              "      <th></th>\n",
              "      <th>Day</th>\n",
              "      <th>City</th>\n",
              "      <th>Temperature</th>\n",
              "      <th>Windspeed</th>\n",
              "      <th>Event</th>\n",
              "    </tr>\n",
              "  </thead>\n",
              "  <tbody>\n",
              "    <tr>\n",
              "      <th>8</th>\n",
              "      <td>6/25/2021</td>\n",
              "      <td>Khulna</td>\n",
              "      <td>34</td>\n",
              "      <td>20</td>\n",
              "      <td>Sunny</td>\n",
              "    </tr>\n",
              "    <tr>\n",
              "      <th>9</th>\n",
              "      <td>6/26/2021</td>\n",
              "      <td>Khulna</td>\n",
              "      <td>35</td>\n",
              "      <td>13</td>\n",
              "      <td>Cloudly</td>\n",
              "    </tr>\n",
              "    <tr>\n",
              "      <th>10</th>\n",
              "      <td>6/27/2021</td>\n",
              "      <td>Khulna</td>\n",
              "      <td>37</td>\n",
              "      <td>8</td>\n",
              "      <td>Cloudly</td>\n",
              "    </tr>\n",
              "    <tr>\n",
              "      <th>11</th>\n",
              "      <td>6/28/2021</td>\n",
              "      <td>Khulna</td>\n",
              "      <td>30</td>\n",
              "      <td>10</td>\n",
              "      <td>Cloudly</td>\n",
              "    </tr>\n",
              "  </tbody>\n",
              "</table>\n",
              "</div>"
            ],
            "text/plain": [
              "          Day    City  Temperature  Windspeed    Event\n",
              "8   6/25/2021  Khulna           34         20    Sunny\n",
              "9   6/26/2021  Khulna           35         13  Cloudly\n",
              "10  6/27/2021  Khulna           37          8  Cloudly\n",
              "11  6/28/2021  Khulna           30         10  Cloudly"
            ]
          },
          "metadata": {
            "tags": []
          },
          "execution_count": 7
        }
      ]
    },
    {
      "cell_type": "code",
      "metadata": {
        "colab": {
          "base_uri": "https://localhost:8080/",
          "height": 173
        },
        "id": "BhGDHkHDGHV_",
        "outputId": "2a891600-d2ee-41cf-ada4-8b72918d6c3f"
      },
      "source": [
        "grp.get_group('Dhaka')"
      ],
      "execution_count": 8,
      "outputs": [
        {
          "output_type": "execute_result",
          "data": {
            "text/html": [
              "<div>\n",
              "<style scoped>\n",
              "    .dataframe tbody tr th:only-of-type {\n",
              "        vertical-align: middle;\n",
              "    }\n",
              "\n",
              "    .dataframe tbody tr th {\n",
              "        vertical-align: top;\n",
              "    }\n",
              "\n",
              "    .dataframe thead th {\n",
              "        text-align: right;\n",
              "    }\n",
              "</style>\n",
              "<table border=\"1\" class=\"dataframe\">\n",
              "  <thead>\n",
              "    <tr style=\"text-align: right;\">\n",
              "      <th></th>\n",
              "      <th>Day</th>\n",
              "      <th>City</th>\n",
              "      <th>Temperature</th>\n",
              "      <th>Windspeed</th>\n",
              "      <th>Event</th>\n",
              "    </tr>\n",
              "  </thead>\n",
              "  <tbody>\n",
              "    <tr>\n",
              "      <th>0</th>\n",
              "      <td>6/25/2021</td>\n",
              "      <td>Dhaka</td>\n",
              "      <td>32</td>\n",
              "      <td>6</td>\n",
              "      <td>Rain</td>\n",
              "    </tr>\n",
              "    <tr>\n",
              "      <th>1</th>\n",
              "      <td>6/26/2021</td>\n",
              "      <td>Dhaka</td>\n",
              "      <td>36</td>\n",
              "      <td>7</td>\n",
              "      <td>Sunny</td>\n",
              "    </tr>\n",
              "    <tr>\n",
              "      <th>2</th>\n",
              "      <td>6/27/2021</td>\n",
              "      <td>Dhaka</td>\n",
              "      <td>28</td>\n",
              "      <td>12</td>\n",
              "      <td>Snow</td>\n",
              "    </tr>\n",
              "    <tr>\n",
              "      <th>3</th>\n",
              "      <td>6/28/2021</td>\n",
              "      <td>Dhaka</td>\n",
              "      <td>33</td>\n",
              "      <td>7</td>\n",
              "      <td>Sunny</td>\n",
              "    </tr>\n",
              "  </tbody>\n",
              "</table>\n",
              "</div>"
            ],
            "text/plain": [
              "         Day   City  Temperature  Windspeed  Event\n",
              "0  6/25/2021  Dhaka           32          6   Rain\n",
              "1  6/26/2021  Dhaka           36          7  Sunny\n",
              "2  6/27/2021  Dhaka           28         12   Snow\n",
              "3  6/28/2021  Dhaka           33          7  Sunny"
            ]
          },
          "metadata": {
            "tags": []
          },
          "execution_count": 8
        }
      ]
    },
    {
      "cell_type": "code",
      "metadata": {
        "colab": {
          "base_uri": "https://localhost:8080/",
          "height": 173
        },
        "id": "7_sHTMVfGLc_",
        "outputId": "3fddbadf-703e-45a4-de13-e45dd455ecd1"
      },
      "source": [
        "# Maximum Value of each Group\n",
        "\n",
        "grp.max()"
      ],
      "execution_count": 10,
      "outputs": [
        {
          "output_type": "execute_result",
          "data": {
            "text/html": [
              "<div>\n",
              "<style scoped>\n",
              "    .dataframe tbody tr th:only-of-type {\n",
              "        vertical-align: middle;\n",
              "    }\n",
              "\n",
              "    .dataframe tbody tr th {\n",
              "        vertical-align: top;\n",
              "    }\n",
              "\n",
              "    .dataframe thead th {\n",
              "        text-align: right;\n",
              "    }\n",
              "</style>\n",
              "<table border=\"1\" class=\"dataframe\">\n",
              "  <thead>\n",
              "    <tr style=\"text-align: right;\">\n",
              "      <th></th>\n",
              "      <th>Day</th>\n",
              "      <th>Temperature</th>\n",
              "      <th>Windspeed</th>\n",
              "      <th>Event</th>\n",
              "    </tr>\n",
              "    <tr>\n",
              "      <th>City</th>\n",
              "      <th></th>\n",
              "      <th></th>\n",
              "      <th></th>\n",
              "      <th></th>\n",
              "    </tr>\n",
              "  </thead>\n",
              "  <tbody>\n",
              "    <tr>\n",
              "      <th>Chittagong</th>\n",
              "      <td>6/28/2021</td>\n",
              "      <td>33</td>\n",
              "      <td>15</td>\n",
              "      <td>Sunny</td>\n",
              "    </tr>\n",
              "    <tr>\n",
              "      <th>Dhaka</th>\n",
              "      <td>6/28/2021</td>\n",
              "      <td>36</td>\n",
              "      <td>12</td>\n",
              "      <td>Sunny</td>\n",
              "    </tr>\n",
              "    <tr>\n",
              "      <th>Khulna</th>\n",
              "      <td>6/28/2021</td>\n",
              "      <td>37</td>\n",
              "      <td>20</td>\n",
              "      <td>Sunny</td>\n",
              "    </tr>\n",
              "  </tbody>\n",
              "</table>\n",
              "</div>"
            ],
            "text/plain": [
              "                  Day  Temperature  Windspeed  Event\n",
              "City                                                \n",
              "Chittagong  6/28/2021           33         15  Sunny\n",
              "Dhaka       6/28/2021           36         12  Sunny\n",
              "Khulna      6/28/2021           37         20  Sunny"
            ]
          },
          "metadata": {
            "tags": []
          },
          "execution_count": 10
        }
      ]
    },
    {
      "cell_type": "code",
      "metadata": {
        "colab": {
          "base_uri": "https://localhost:8080/",
          "height": 173
        },
        "id": "Qm5RHdR6INqL",
        "outputId": "f5e86758-7f60-4727-81e9-016945b825e2"
      },
      "source": [
        "# Average Value of each Group\n",
        "\n",
        "grp.mean()"
      ],
      "execution_count": 11,
      "outputs": [
        {
          "output_type": "execute_result",
          "data": {
            "text/html": [
              "<div>\n",
              "<style scoped>\n",
              "    .dataframe tbody tr th:only-of-type {\n",
              "        vertical-align: middle;\n",
              "    }\n",
              "\n",
              "    .dataframe tbody tr th {\n",
              "        vertical-align: top;\n",
              "    }\n",
              "\n",
              "    .dataframe thead th {\n",
              "        text-align: right;\n",
              "    }\n",
              "</style>\n",
              "<table border=\"1\" class=\"dataframe\">\n",
              "  <thead>\n",
              "    <tr style=\"text-align: right;\">\n",
              "      <th></th>\n",
              "      <th>Temperature</th>\n",
              "      <th>Windspeed</th>\n",
              "    </tr>\n",
              "    <tr>\n",
              "      <th>City</th>\n",
              "      <th></th>\n",
              "      <th></th>\n",
              "    </tr>\n",
              "  </thead>\n",
              "  <tbody>\n",
              "    <tr>\n",
              "      <th>Chittagong</th>\n",
              "      <td>29.25</td>\n",
              "      <td>9.25</td>\n",
              "    </tr>\n",
              "    <tr>\n",
              "      <th>Dhaka</th>\n",
              "      <td>32.25</td>\n",
              "      <td>8.00</td>\n",
              "    </tr>\n",
              "    <tr>\n",
              "      <th>Khulna</th>\n",
              "      <td>34.00</td>\n",
              "      <td>12.75</td>\n",
              "    </tr>\n",
              "  </tbody>\n",
              "</table>\n",
              "</div>"
            ],
            "text/plain": [
              "            Temperature  Windspeed\n",
              "City                              \n",
              "Chittagong        29.25       9.25\n",
              "Dhaka             32.25       8.00\n",
              "Khulna            34.00      12.75"
            ]
          },
          "metadata": {
            "tags": []
          },
          "execution_count": 11
        }
      ]
    },
    {
      "cell_type": "code",
      "metadata": {
        "colab": {
          "base_uri": "https://localhost:8080/",
          "height": 204
        },
        "id": "krl3HRE4IY_T",
        "outputId": "a05d6af6-87be-4147-b8e1-b6e8309ff77c"
      },
      "source": [
        "# All data\n",
        "\n",
        "grp.describe()"
      ],
      "execution_count": 12,
      "outputs": [
        {
          "output_type": "execute_result",
          "data": {
            "text/html": [
              "<div>\n",
              "<style scoped>\n",
              "    .dataframe tbody tr th:only-of-type {\n",
              "        vertical-align: middle;\n",
              "    }\n",
              "\n",
              "    .dataframe tbody tr th {\n",
              "        vertical-align: top;\n",
              "    }\n",
              "\n",
              "    .dataframe thead tr th {\n",
              "        text-align: left;\n",
              "    }\n",
              "\n",
              "    .dataframe thead tr:last-of-type th {\n",
              "        text-align: right;\n",
              "    }\n",
              "</style>\n",
              "<table border=\"1\" class=\"dataframe\">\n",
              "  <thead>\n",
              "    <tr>\n",
              "      <th></th>\n",
              "      <th colspan=\"8\" halign=\"left\">Temperature</th>\n",
              "      <th colspan=\"8\" halign=\"left\">Windspeed</th>\n",
              "    </tr>\n",
              "    <tr>\n",
              "      <th></th>\n",
              "      <th>count</th>\n",
              "      <th>mean</th>\n",
              "      <th>std</th>\n",
              "      <th>min</th>\n",
              "      <th>25%</th>\n",
              "      <th>50%</th>\n",
              "      <th>75%</th>\n",
              "      <th>max</th>\n",
              "      <th>count</th>\n",
              "      <th>mean</th>\n",
              "      <th>std</th>\n",
              "      <th>min</th>\n",
              "      <th>25%</th>\n",
              "      <th>50%</th>\n",
              "      <th>75%</th>\n",
              "      <th>max</th>\n",
              "    </tr>\n",
              "    <tr>\n",
              "      <th>City</th>\n",
              "      <th></th>\n",
              "      <th></th>\n",
              "      <th></th>\n",
              "      <th></th>\n",
              "      <th></th>\n",
              "      <th></th>\n",
              "      <th></th>\n",
              "      <th></th>\n",
              "      <th></th>\n",
              "      <th></th>\n",
              "      <th></th>\n",
              "      <th></th>\n",
              "      <th></th>\n",
              "      <th></th>\n",
              "      <th></th>\n",
              "      <th></th>\n",
              "    </tr>\n",
              "  </thead>\n",
              "  <tbody>\n",
              "    <tr>\n",
              "      <th>Chittagong</th>\n",
              "      <td>4.0</td>\n",
              "      <td>29.25</td>\n",
              "      <td>3.304038</td>\n",
              "      <td>26.0</td>\n",
              "      <td>26.75</td>\n",
              "      <td>29.0</td>\n",
              "      <td>31.50</td>\n",
              "      <td>33.0</td>\n",
              "      <td>4.0</td>\n",
              "      <td>9.25</td>\n",
              "      <td>5.057997</td>\n",
              "      <td>5.0</td>\n",
              "      <td>5.00</td>\n",
              "      <td>8.5</td>\n",
              "      <td>12.75</td>\n",
              "      <td>15.0</td>\n",
              "    </tr>\n",
              "    <tr>\n",
              "      <th>Dhaka</th>\n",
              "      <td>4.0</td>\n",
              "      <td>32.25</td>\n",
              "      <td>3.304038</td>\n",
              "      <td>28.0</td>\n",
              "      <td>31.00</td>\n",
              "      <td>32.5</td>\n",
              "      <td>33.75</td>\n",
              "      <td>36.0</td>\n",
              "      <td>4.0</td>\n",
              "      <td>8.00</td>\n",
              "      <td>2.708013</td>\n",
              "      <td>6.0</td>\n",
              "      <td>6.75</td>\n",
              "      <td>7.0</td>\n",
              "      <td>8.25</td>\n",
              "      <td>12.0</td>\n",
              "    </tr>\n",
              "    <tr>\n",
              "      <th>Khulna</th>\n",
              "      <td>4.0</td>\n",
              "      <td>34.00</td>\n",
              "      <td>2.943920</td>\n",
              "      <td>30.0</td>\n",
              "      <td>33.00</td>\n",
              "      <td>34.5</td>\n",
              "      <td>35.50</td>\n",
              "      <td>37.0</td>\n",
              "      <td>4.0</td>\n",
              "      <td>12.75</td>\n",
              "      <td>5.251984</td>\n",
              "      <td>8.0</td>\n",
              "      <td>9.50</td>\n",
              "      <td>11.5</td>\n",
              "      <td>14.75</td>\n",
              "      <td>20.0</td>\n",
              "    </tr>\n",
              "  </tbody>\n",
              "</table>\n",
              "</div>"
            ],
            "text/plain": [
              "           Temperature                         ... Windspeed                   \n",
              "                 count   mean       std   min  ...       25%   50%    75%   max\n",
              "City                                           ...                             \n",
              "Chittagong         4.0  29.25  3.304038  26.0  ...      5.00   8.5  12.75  15.0\n",
              "Dhaka              4.0  32.25  3.304038  28.0  ...      6.75   7.0   8.25  12.0\n",
              "Khulna             4.0  34.00  2.943920  30.0  ...      9.50  11.5  14.75  20.0\n",
              "\n",
              "[3 rows x 16 columns]"
            ]
          },
          "metadata": {
            "tags": []
          },
          "execution_count": 12
        }
      ]
    },
    {
      "cell_type": "code",
      "metadata": {
        "colab": {
          "base_uri": "https://localhost:8080/",
          "height": 846
        },
        "id": "y_ASL-rQJc6R",
        "outputId": "04569d88-a860-432b-bb70-bf54627439d0"
      },
      "source": [
        "%matplotlib inline\n",
        "grp.plot()"
      ],
      "execution_count": 14,
      "outputs": [
        {
          "output_type": "execute_result",
          "data": {
            "text/plain": [
              "City\n",
              "Chittagong    AxesSubplot(0.125,0.125;0.775x0.755)\n",
              "Dhaka         AxesSubplot(0.125,0.125;0.775x0.755)\n",
              "Khulna        AxesSubplot(0.125,0.125;0.775x0.755)\n",
              "dtype: object"
            ]
          },
          "metadata": {
            "tags": []
          },
          "execution_count": 14
        },
        {
          "output_type": "display_data",
          "data": {
            "image/png": "[encoded data removed]",
            "text/plain": [
              "<Figure size 432x288 with 1 Axes>"
            ]
          },
          "metadata": {
            "tags": [],
            "needs_background": "light"
          }
        },
        {
          "output_type": "display_data",
          "data": {
            "image/png": "[encoded data removed]",
            "text/plain": [
              "<Figure size 432x288 with 1 Axes>"
            ]
          },
          "metadata": {
            "tags": [],
            "needs_background": "light"
          }
        },
        {
          "output_type": "display_data",
          "data": {
            "image/png": "[encoded data removed]",
            "text/plain": [
              "<Figure size 432x288 with 1 Axes>"
            ]
          },
          "metadata": {
            "tags": [],
            "needs_background": "light"
          }
        }
      ]
    }
  ]
}