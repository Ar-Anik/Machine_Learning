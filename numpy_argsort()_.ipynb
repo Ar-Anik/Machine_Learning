{
  "nbformat": 4,
  "nbformat_minor": 0,
  "metadata": {
    "colab": {
      "name": "numpy_argsort() .ipynb",
      "provenance": [],
      "collapsed_sections": [],
      "authorship_tag": "ABX9TyOCUiZ+QfOUYjZYcJ79K9tI",
      "include_colab_link": true
    },
    "kernelspec": {
      "name": "python3",
      "display_name": "Python 3"
    },
    "language_info": {
      "name": "python"
    }
  },
  "cells": [
    {
      "cell_type": "markdown",
      "metadata": {
        "id": "view-in-github",
        "colab_type": "text"
      },
      "source": [
        "<a href=\"https://colab.research.google.com/github/Ar-Anik/Machine_Learning/blob/main/numpy_argsort()_.ipynb\" target=\"_parent\"><img src=\"https://colab.research.google.com/assets/colab-badge.svg\" alt=\"Open In Colab\"/></a>"
      ]
    },
    {
      "cell_type": "code",
      "metadata": {
        "colab": {
          "base_uri": "https://localhost:8080/"
        },
        "id": "93N6gw8JkWsY",
        "outputId": "afcab757-e5ca-40f6-95e2-1415cb3f2fd9"
      },
      "source": [
        "# numpy.argsort(arr, axis=-1, kind=’quicksort’, order=None)\n",
        "\n",
        "import numpy\n",
        "\n",
        "arr = numpy.array([9, 8, 7, 6, 5, 4, 3, 2, 1, 0])\n",
        "\n",
        "arr"
      ],
      "execution_count": null,
      "outputs": [
        {
          "output_type": "execute_result",
          "data": {
            "text/plain": [
              "array([9, 8, 7, 6, 5, 4, 3, 2, 1, 0])"
            ]
          },
          "metadata": {
            "tags": []
          },
          "execution_count": 2
        }
      ]
    },
    {
      "cell_type": "code",
      "metadata": {
        "colab": {
          "base_uri": "https://localhost:8080/"
        },
        "id": "-Ro63E32lgVV",
        "outputId": "14da7b69-05d8-4686-adf5-cb192790d941"
      },
      "source": [
        "output = numpy.argsort(arr)\n",
        "\n",
        "output       # index number"
      ],
      "execution_count": null,
      "outputs": [
        {
          "output_type": "execute_result",
          "data": {
            "text/plain": [
              "array([9, 8, 7, 6, 5, 4, 3, 2, 1, 0])"
            ]
          },
          "metadata": {
            "tags": []
          },
          "execution_count": 3
        }
      ]
    },
    {
      "cell_type": "code",
      "metadata": {
        "colab": {
          "base_uri": "https://localhost:8080/"
        },
        "id": "6y_w6rEBl14Y",
        "outputId": "0c807d64-1ae7-4f41-9156-1a880e34ac5a"
      },
      "source": [
        "# each index number\n",
        "\n",
        "arr[output]"
      ],
      "execution_count": null,
      "outputs": [
        {
          "output_type": "execute_result",
          "data": {
            "text/plain": [
              "array([0, 1, 2, 3, 4, 5, 6, 7, 8, 9])"
            ]
          },
          "metadata": {
            "tags": []
          },
          "execution_count": 4
        }
      ]
    },
    {
      "cell_type": "code",
      "metadata": {
        "colab": {
          "base_uri": "https://localhost:8080/"
        },
        "id": "vTNTBIygl_jh",
        "outputId": "487b2af5-d14f-4f87-efd5-2196bd79f110"
      },
      "source": [
        "a = numpy.array([2, 0, 1, 5, 4, 1, 9])\n",
        "\n",
        "a"
      ],
      "execution_count": null,
      "outputs": [
        {
          "output_type": "execute_result",
          "data": {
            "text/plain": [
              "array([2, 0, 1, 5, 4, 1, 9])"
            ]
          },
          "metadata": {
            "tags": []
          },
          "execution_count": 5
        }
      ]
    },
    {
      "cell_type": "code",
      "metadata": {
        "colab": {
          "base_uri": "https://localhost:8080/"
        },
        "id": "t0msLD3DmMmp",
        "outputId": "3bb28ae1-ed3f-442d-8160-528f8c4e4967"
      },
      "source": [
        "out = numpy.argsort(a)\n",
        "\n",
        "out"
      ],
      "execution_count": null,
      "outputs": [
        {
          "output_type": "execute_result",
          "data": {
            "text/plain": [
              "array([1, 2, 5, 0, 4, 3, 6])"
            ]
          },
          "metadata": {
            "tags": []
          },
          "execution_count": 6
        }
      ]
    },
    {
      "cell_type": "code",
      "metadata": {
        "colab": {
          "base_uri": "https://localhost:8080/"
        },
        "id": "m_TIXxtBmV0A",
        "outputId": "d236b43f-5fca-416d-9fab-e65fa95b4ec8"
      },
      "source": [
        "a[out]"
      ],
      "execution_count": null,
      "outputs": [
        {
          "output_type": "execute_result",
          "data": {
            "text/plain": [
              "array([0, 1, 1, 2, 4, 5, 9])"
            ]
          },
          "metadata": {
            "tags": []
          },
          "execution_count": 7
        }
      ]
    },
    {
      "cell_type": "code",
      "metadata": {
        "colab": {
          "base_uri": "https://localhost:8080/"
        },
        "id": "B1W43V_CmYw5",
        "outputId": "aa24ef31-1bcf-455f-e786-17c56d8d8970"
      },
      "source": [
        "# for 2D array\n",
        "\n",
        "arr = numpy.array([[2, 0, 1], [5, 4, 3]])\n",
        "\n",
        "arr"
      ],
      "execution_count": null,
      "outputs": [
        {
          "output_type": "execute_result",
          "data": {
            "text/plain": [
              "array([[2, 0, 1],\n",
              "       [5, 4, 3]])"
            ]
          },
          "metadata": {
            "tags": []
          },
          "execution_count": 38
        }
      ]
    },
    {
      "cell_type": "code",
      "metadata": {
        "colab": {
          "base_uri": "https://localhost:8080/"
        },
        "id": "FQXPSz9dmieA",
        "outputId": "f31cd51a-ab98-40c2-ac3d-f79f96d3e2e9"
      },
      "source": [
        "output = numpy.argsort(arr, axis=1)\n",
        "\n",
        "output"
      ],
      "execution_count": null,
      "outputs": [
        {
          "output_type": "execute_result",
          "data": {
            "text/plain": [
              "array([[1, 2, 0],\n",
              "       [2, 1, 0]])"
            ]
          },
          "metadata": {
            "tags": []
          },
          "execution_count": 39
        }
      ]
    },
    {
      "cell_type": "code",
      "metadata": {
        "colab": {
          "base_uri": "https://localhost:8080/"
        },
        "id": "n8LYJzetmtNQ",
        "outputId": "7656aec5-a457-4aaa-9850-a874caff809c"
      },
      "source": [
        "numpy.take_along_axis(arr, output, axis=1) "
      ],
      "execution_count": null,
      "outputs": [
        {
          "output_type": "execute_result",
          "data": {
            "text/plain": [
              "array([[0, 1, 2],\n",
              "       [3, 4, 5]])"
            ]
          },
          "metadata": {
            "tags": []
          },
          "execution_count": 34
        }
      ]
    },
    {
      "cell_type": "code",
      "metadata": {
        "colab": {
          "base_uri": "https://localhost:8080/"
        },
        "id": "rVMeoDV92JiB",
        "outputId": "8c7dddce-2490-4f3e-9eeb-c4b6ca887728"
      },
      "source": [
        "arr = numpy.array([[2, 0, 1], [5, 4, 3], [8, 6, 7]])\n",
        "\n",
        "arr"
      ],
      "execution_count": null,
      "outputs": [
        {
          "output_type": "execute_result",
          "data": {
            "text/plain": [
              "array([[2, 0, 1],\n",
              "       [5, 4, 3],\n",
              "       [8, 6, 7]])"
            ]
          },
          "metadata": {
            "tags": []
          },
          "execution_count": 35
        }
      ]
    },
    {
      "cell_type": "code",
      "metadata": {
        "colab": {
          "base_uri": "https://localhost:8080/"
        },
        "id": "U-MLg3722PVf",
        "outputId": "e2d49b0d-8d03-44cd-f380-66c336f6c5c0"
      },
      "source": [
        "output = numpy.argsort(arr, axis=1)\n",
        "\n",
        "output"
      ],
      "execution_count": null,
      "outputs": [
        {
          "output_type": "execute_result",
          "data": {
            "text/plain": [
              "array([[1, 2, 0],\n",
              "       [2, 1, 0],\n",
              "       [1, 2, 0]])"
            ]
          },
          "metadata": {
            "tags": []
          },
          "execution_count": 36
        }
      ]
    },
    {
      "cell_type": "code",
      "metadata": {
        "colab": {
          "base_uri": "https://localhost:8080/"
        },
        "id": "N74sPTTQ2gyn",
        "outputId": "281dec19-9716-4b90-eb33-8f55cec3f10f"
      },
      "source": [
        "numpy.take_along_axis(arr, output, axis=1)"
      ],
      "execution_count": null,
      "outputs": [
        {
          "output_type": "execute_result",
          "data": {
            "text/plain": [
              "array([[0, 1, 2],\n",
              "       [3, 4, 5],\n",
              "       [6, 7, 8]])"
            ]
          },
          "metadata": {
            "tags": []
          },
          "execution_count": 37
        }
      ]
    }
  ]
}