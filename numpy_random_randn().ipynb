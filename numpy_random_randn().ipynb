{
  "nbformat": 4,
  "nbformat_minor": 0,
  "metadata": {
    "colab": {
      "name": "numpy.random.randn().ipynb",
      "provenance": [],
      "authorship_tag": "ABX9TyMQysSPIGuOOcuDEdYLEniy",
      "include_colab_link": true
    },
    "kernelspec": {
      "name": "python3",
      "display_name": "Python 3"
    },
    "language_info": {
      "name": "python"
    }
  },
  "cells": [
    {
      "cell_type": "markdown",
      "metadata": {
        "id": "view-in-github",
        "colab_type": "text"
      },
      "source": [
        "<a href=\"https://colab.research.google.com/github/Ar-Anik/Machine_Learning/blob/main/numpy_random_randn().ipynb\" target=\"_parent\"><img src=\"https://colab.research.google.com/assets/colab-badge.svg\" alt=\"Open In Colab\"/></a>"
      ]
    },
    {
      "cell_type": "code",
      "metadata": {
        "colab": {
          "base_uri": "https://localhost:8080/"
        },
        "id": "FkVfKaTnYxex",
        "outputId": "d8ee2bfc-4f7d-4395-a277-a230730775f2"
      },
      "source": [
        "# numpy.random.randn() function creates an array and fills it with random values\n",
        "# normally its take arguments like row, column etc\n",
        "\n",
        "import numpy\n",
        "\n",
        "numpy.random.randn()"
      ],
      "execution_count": 14,
      "outputs": [
        {
          "output_type": "execute_result",
          "data": {
            "text/plain": [
              "-0.4149015658899079"
            ]
          },
          "metadata": {
            "tags": []
          },
          "execution_count": 14
        }
      ]
    },
    {
      "cell_type": "code",
      "metadata": {
        "colab": {
          "base_uri": "https://localhost:8080/"
        },
        "id": "wRutg4Tybhob",
        "outputId": "7fa73cf9-e778-40c8-9ac9-fd6c8bd5e27e"
      },
      "source": [
        "# create 1D array\n",
        "\n",
        "array = numpy.random.randn(5)\n",
        "print(array)"
      ],
      "execution_count": 13,
      "outputs": [
        {
          "output_type": "stream",
          "text": [
            "[-1.52191178 -0.37499889 -0.46379821 -0.55802084  0.08735764]\n"
          ],
          "name": "stdout"
        }
      ]
    },
    {
      "cell_type": "code",
      "metadata": {
        "colab": {
          "base_uri": "https://localhost:8080/"
        },
        "id": "kCPumf6RZgf4",
        "outputId": "709631e5-e6d4-4412-da7c-e1a383630174"
      },
      "source": [
        "# create 2D array\n",
        "\n",
        "array = numpy.random.randn(5, 4)\n",
        "print(array)"
      ],
      "execution_count": 6,
      "outputs": [
        {
          "output_type": "stream",
          "text": [
            "[[-1.13481946e-01  7.74772402e-01 -6.91646006e-01  1.47863642e+00]\n",
            " [ 6.80643807e-01 -1.54313860e-01 -5.66720816e-01 -9.40053152e-01]\n",
            " [ 5.50800483e-01 -1.08978776e+00  7.13908501e-01  2.22232273e+00]\n",
            " [ 5.29745436e-01  2.03800277e+00  3.18079462e-01  8.37899332e-01]\n",
            " [ 8.92895599e-01  6.82594118e-01  8.38985109e-04 -9.45970281e-01]]\n"
          ],
          "name": "stdout"
        }
      ]
    },
    {
      "cell_type": "code",
      "metadata": {
        "colab": {
          "base_uri": "https://localhost:8080/"
        },
        "id": "90VD4tFaZ1wW",
        "outputId": "c3c4f932-e0f5-44fb-8695-02e099fa2cb1"
      },
      "source": [
        "# create 3D array\n",
        "\n",
        "array = numpy.random.randn(3, 2, 4)\n",
        "print(array)"
      ],
      "execution_count": 7,
      "outputs": [
        {
          "output_type": "stream",
          "text": [
            "[[[-0.56132476 -0.01056378  0.6218758  -0.02056568]\n",
            "  [-0.58424506  0.09445029 -1.38820096  0.15811762]]\n",
            "\n",
            " [[-0.20086518 -0.09262912  0.09123204 -0.87769427]\n",
            "  [-0.57509684  1.54606488 -0.37185644 -0.09396086]]\n",
            "\n",
            " [[ 0.65019898  0.14923487 -0.23643096 -1.43951505]\n",
            "  [ 0.34062137 -1.02734346 -0.25725763  1.07292696]]]\n"
          ],
          "name": "stdout"
        }
      ]
    },
    {
      "cell_type": "code",
      "metadata": {
        "id": "L3zKxgM2akvi"
      },
      "source": [
        "array = numpy.random.randn(3, 2, 4)\n",
        "\n",
        "array1 = array * 3\n",
        "\n",
        "array2 = array * 3 + 2.5"
      ],
      "execution_count": 15,
      "outputs": []
    },
    {
      "cell_type": "code",
      "metadata": {
        "colab": {
          "base_uri": "https://localhost:8080/"
        },
        "id": "kZbpRyNea88M",
        "outputId": "16f1fa60-3737-4256-bd95-3ee82529986f"
      },
      "source": [
        "print(array)"
      ],
      "execution_count": 16,
      "outputs": [
        {
          "output_type": "stream",
          "text": [
            "[[[ 0.53247102  1.83809591  0.45363414  0.07073341]\n",
            "  [ 1.05670088 -0.57797049 -1.58913498  2.18159554]]\n",
            "\n",
            " [[ 1.00301327  0.12357569 -0.79032625  1.96159516]\n",
            "  [-1.55206661  0.49868002 -0.66999302 -0.09174106]]\n",
            "\n",
            " [[ 0.34296084  0.10178049  0.52167706  0.60422558]\n",
            "  [ 2.2551376   0.27779189 -0.14544278 -0.24926563]]]\n"
          ],
          "name": "stdout"
        }
      ]
    },
    {
      "cell_type": "code",
      "metadata": {
        "colab": {
          "base_uri": "https://localhost:8080/"
        },
        "id": "_7VZiuwVbAJr",
        "outputId": "f07a5711-191b-4682-b528-ec93eee68e87"
      },
      "source": [
        "print(array1)"
      ],
      "execution_count": 17,
      "outputs": [
        {
          "output_type": "stream",
          "text": [
            "[[[ 1.59741307  5.51428772  1.36090241  0.21220023]\n",
            "  [ 3.17010265 -1.73391146 -4.76740495  6.54478663]]\n",
            "\n",
            " [[ 3.00903981  0.37072707 -2.37097876  5.88478547]\n",
            "  [-4.65619984  1.49604007 -2.00997907 -0.27522318]]\n",
            "\n",
            " [[ 1.02888253  0.30534147  1.56503117  1.81267674]\n",
            "  [ 6.76541281  0.83337567 -0.43632834 -0.74779689]]]\n"
          ],
          "name": "stdout"
        }
      ]
    },
    {
      "cell_type": "code",
      "metadata": {
        "colab": {
          "base_uri": "https://localhost:8080/"
        },
        "id": "07bGQXSgbFUD",
        "outputId": "25af0b22-65e4-4bcb-8a73-ce7736795b96"
      },
      "source": [
        "print(array2)"
      ],
      "execution_count": 18,
      "outputs": [
        {
          "output_type": "stream",
          "text": [
            "[[[ 4.09741307  8.01428772  3.86090241  2.71220023]\n",
            "  [ 5.67010265  0.76608854 -2.26740495  9.04478663]]\n",
            "\n",
            " [[ 5.50903981  2.87072707  0.12902124  8.38478547]\n",
            "  [-2.15619984  3.99604007  0.49002093  2.22477682]]\n",
            "\n",
            " [[ 3.52888253  2.80534147  4.06503117  4.31267674]\n",
            "  [ 9.26541281  3.33337567  2.06367166  1.75220311]]]\n"
          ],
          "name": "stdout"
        }
      ]
    }
  ]
}