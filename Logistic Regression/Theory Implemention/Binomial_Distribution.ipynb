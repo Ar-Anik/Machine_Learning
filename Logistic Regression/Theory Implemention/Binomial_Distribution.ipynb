{
  "nbformat": 4,
  "nbformat_minor": 0,
  "metadata": {
    "colab": {
      "name": "Binomial Distribution.ipynb",
      "provenance": [],
      "collapsed_sections": [],
      "authorship_tag": "ABX9TyN+6qPwIwKdIXs3q5Y2BMZs",
      "include_colab_link": true
    },
    "kernelspec": {
      "name": "python3",
      "display_name": "Python 3"
    },
    "language_info": {
      "name": "python"
    }
  },
  "cells": [
    {
      "cell_type": "markdown",
      "metadata": {
        "id": "view-in-github",
        "colab_type": "text"
      },
      "source": [
        "<a href=\"https://colab.research.google.com/github/Ar-Anik/Machine_Learning/blob/main/Binomial_Distribution.ipynb\" target=\"_parent\"><img src=\"https://colab.research.google.com/assets/colab-badge.svg\" alt=\"Open In Colab\"/></a>"
      ]
    },
    {
      "cell_type": "markdown",
      "metadata": {
        "id": "NDLGOqacmHdo"
      },
      "source": [
        "b = Binomial Probability <br>\n",
        "r = total number of success <br>\n",
        "p = probability of a success on an individual trail <br>\n",
        "q = 1-p = probability of a failure on an individual trail <br>\n",
        "n = number of trails <br>\n",
        "\n",
        "Mean, E(x) = np <br>\n",
        "Variance, V(x) = npq\n",
        "\n",
        "Probability mass function(pmf), which is the total probability of achieving r success and n-r failure is :\n",
        "![p1.PNG](data:image/png;base64,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)\n",
        "\n",
        "\n",
        "\n",
        "# b(r, n, p) = nCr + p^r + q^(n-r)"
      ]
    },
    {
      "cell_type": "code",
      "metadata": {
        "id": "eO9dKvpVBOEo"
      },
      "source": [
        "# Consider a random experiment of tossing a biased coin 6 times where the probability of getting a head is 0.5\n",
        "# If ‘getting a head’ is considered as ‘success’\n",
        "# the binomial distribution calculate below : \n",
        "\n",
        "import numpy\n",
        "from scipy.stats import binom\n",
        "import matplotlib.pyplot as plt\n",
        "%matplotlib inline\n",
        "\n",
        "n = 6\n",
        "p = 0.5\n",
        "\n",
        "mean, variance = binom.stats(n, p)"
      ],
      "execution_count": 13,
      "outputs": []
    },
    {
      "cell_type": "code",
      "metadata": {
        "colab": {
          "base_uri": "https://localhost:8080/"
        },
        "id": "3izvlF4FqcTl",
        "outputId": "19c5affd-e548-400d-b781-d4b7f624dba0"
      },
      "source": [
        "mean"
      ],
      "execution_count": 14,
      "outputs": [
        {
          "output_type": "execute_result",
          "data": {
            "text/plain": [
              "array(3.)"
            ]
          },
          "metadata": {
            "tags": []
          },
          "execution_count": 14
        }
      ]
    },
    {
      "cell_type": "code",
      "metadata": {
        "colab": {
          "base_uri": "https://localhost:8080/"
        },
        "id": "fJL2sSJFqeHk",
        "outputId": "eef1aae8-de0d-424e-a610-3b3c270b1aa2"
      },
      "source": [
        "variance"
      ],
      "execution_count": 15,
      "outputs": [
        {
          "output_type": "execute_result",
          "data": {
            "text/plain": [
              "array(1.5)"
            ]
          },
          "metadata": {
            "tags": []
          },
          "execution_count": 15
        }
      ]
    },
    {
      "cell_type": "code",
      "metadata": {
        "colab": {
          "base_uri": "https://localhost:8080/"
        },
        "id": "OUiI2-ywqpgU",
        "outputId": "81e75093-6453-45e6-e969-ef2a60b028c7"
      },
      "source": [
        "r = numpy.arange(1, n+1)\n",
        "\n",
        "r"
      ],
      "execution_count": 16,
      "outputs": [
        {
          "output_type": "execute_result",
          "data": {
            "text/plain": [
              "array([1, 2, 3, 4, 5, 6])"
            ]
          },
          "metadata": {
            "tags": []
          },
          "execution_count": 16
        }
      ]
    },
    {
      "cell_type": "code",
      "metadata": {
        "colab": {
          "base_uri": "https://localhost:8080/"
        },
        "id": "ivz1TA2erccE",
        "outputId": "8fd78204-9eee-4b90-caff-504e0c46c28c"
      },
      "source": [
        "# binomial distribution for each r\n",
        "\n",
        "b = [binom.pmf(i, n, p) for i in r]\n",
        "\n",
        "b"
      ],
      "execution_count": 17,
      "outputs": [
        {
          "output_type": "execute_result",
          "data": {
            "text/plain": [
              "[0.09375000000000003,\n",
              " 0.23437500000000003,\n",
              " 0.3125000000000002,\n",
              " 0.23437500000000003,\n",
              " 0.09375000000000003,\n",
              " 0.015625000000000007]"
            ]
          },
          "metadata": {
            "tags": []
          },
          "execution_count": 17
        }
      ]
    },
    {
      "cell_type": "code",
      "metadata": {
        "colab": {
          "base_uri": "https://localhost:8080/",
          "height": 265
        },
        "id": "hFYKGWJdr9bc",
        "outputId": "a82e6ebd-64b8-4ecd-cacc-d9b34d215f4e"
      },
      "source": [
        "# plot a graph\n",
        "\n",
        "plt.bar(r, b)\n",
        "\n",
        "plt.show()"
      ],
      "execution_count": 18,
      "outputs": [
        {
          "output_type": "display_data",
          "data": {
            "image/png": "[encoded data removed]",
            "text/plain": [
              "<Figure size 432x288 with 1 Axes>"
            ]
          },
          "metadata": {
            "tags": [],
            "needs_background": "light"
          }
        }
      ]
    }
  ]
}