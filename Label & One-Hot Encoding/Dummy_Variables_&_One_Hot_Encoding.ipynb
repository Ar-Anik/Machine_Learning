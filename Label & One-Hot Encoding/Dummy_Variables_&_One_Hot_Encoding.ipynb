{
  "nbformat": 4,
  "nbformat_minor": 0,
  "metadata": {
    "colab": {
      "name": "Dummy Variables & One-Hot Encoding.ipynb",
      "provenance": [],
      "collapsed_sections": [],
      "authorship_tag": "ABX9TyO/2mSdxZyGS8WidyjDHs5B",
      "include_colab_link": true
    },
    "kernelspec": {
      "name": "python3",
      "display_name": "Python 3"
    },
    "language_info": {
      "name": "python"
    }
  },
  "cells": [
    {
      "cell_type": "markdown",
      "metadata": {
        "id": "view-in-github",
        "colab_type": "text"
      },
      "source": [
        "<a href=\"https://colab.research.google.com/github/Ar-Anik/Machine_Learning/blob/main/Dummy_Variables_%26_One_Hot_Encoding.ipynb\" target=\"_parent\"><img src=\"https://colab.research.google.com/assets/colab-badge.svg\" alt=\"Open In Colab\"/></a>"
      ]
    },
    {
      "cell_type": "code",
      "metadata": {
        "colab": {
          "base_uri": "https://localhost:8080/",
          "height": 447
        },
        "id": "sVTPsIQxzsO8",
        "outputId": "ac8a2898-b5e7-4618-dd34-b1d6b44f9215"
      },
      "source": [
        "# One-Hot Encoding is popular technique for treating categorical variables\n",
        "# One-Hot Encoding is the process of creating dummy variables.\n",
        "# Dummy variables are “proxy” variables for categorical data in regression models.\n",
        "# In One-Hot Encoding each categorical data allocate 1 coloumn that each data called dummy variables.\n",
        "\n",
        "import pandas\n",
        "\n",
        "data = pandas.read_csv('LandPrice.csv')\n",
        "\n",
        "data"
      ],
      "execution_count": 49,
      "outputs": [
        {
          "output_type": "execute_result",
          "data": {
            "text/html": [
              "<div>\n",
              "<style scoped>\n",
              "    .dataframe tbody tr th:only-of-type {\n",
              "        vertical-align: middle;\n",
              "    }\n",
              "\n",
              "    .dataframe tbody tr th {\n",
              "        vertical-align: top;\n",
              "    }\n",
              "\n",
              "    .dataframe thead th {\n",
              "        text-align: right;\n",
              "    }\n",
              "</style>\n",
              "<table border=\"1\" class=\"dataframe\">\n",
              "  <thead>\n",
              "    <tr style=\"text-align: right;\">\n",
              "      <th></th>\n",
              "      <th>Town</th>\n",
              "      <th>Area</th>\n",
              "      <th>Price</th>\n",
              "    </tr>\n",
              "  </thead>\n",
              "  <tbody>\n",
              "    <tr>\n",
              "      <th>0</th>\n",
              "      <td>Dhaka</td>\n",
              "      <td>2600</td>\n",
              "      <td>550000</td>\n",
              "    </tr>\n",
              "    <tr>\n",
              "      <th>1</th>\n",
              "      <td>Dhaka</td>\n",
              "      <td>3000</td>\n",
              "      <td>565000</td>\n",
              "    </tr>\n",
              "    <tr>\n",
              "      <th>2</th>\n",
              "      <td>Dhaka</td>\n",
              "      <td>3200</td>\n",
              "      <td>610000</td>\n",
              "    </tr>\n",
              "    <tr>\n",
              "      <th>3</th>\n",
              "      <td>Dhaka</td>\n",
              "      <td>3600</td>\n",
              "      <td>680000</td>\n",
              "    </tr>\n",
              "    <tr>\n",
              "      <th>4</th>\n",
              "      <td>Dhaka</td>\n",
              "      <td>4000</td>\n",
              "      <td>725000</td>\n",
              "    </tr>\n",
              "    <tr>\n",
              "      <th>5</th>\n",
              "      <td>Chittagong</td>\n",
              "      <td>2600</td>\n",
              "      <td>585000</td>\n",
              "    </tr>\n",
              "    <tr>\n",
              "      <th>6</th>\n",
              "      <td>Chittagong</td>\n",
              "      <td>2800</td>\n",
              "      <td>615000</td>\n",
              "    </tr>\n",
              "    <tr>\n",
              "      <th>7</th>\n",
              "      <td>Chittagong</td>\n",
              "      <td>3300</td>\n",
              "      <td>650000</td>\n",
              "    </tr>\n",
              "    <tr>\n",
              "      <th>8</th>\n",
              "      <td>Chittagong</td>\n",
              "      <td>3600</td>\n",
              "      <td>710000</td>\n",
              "    </tr>\n",
              "    <tr>\n",
              "      <th>9</th>\n",
              "      <td>Khulna</td>\n",
              "      <td>2600</td>\n",
              "      <td>575000</td>\n",
              "    </tr>\n",
              "    <tr>\n",
              "      <th>10</th>\n",
              "      <td>Khulna</td>\n",
              "      <td>2900</td>\n",
              "      <td>600000</td>\n",
              "    </tr>\n",
              "    <tr>\n",
              "      <th>11</th>\n",
              "      <td>Khulna</td>\n",
              "      <td>3100</td>\n",
              "      <td>620000</td>\n",
              "    </tr>\n",
              "    <tr>\n",
              "      <th>12</th>\n",
              "      <td>Khulna</td>\n",
              "      <td>3600</td>\n",
              "      <td>695000</td>\n",
              "    </tr>\n",
              "  </tbody>\n",
              "</table>\n",
              "</div>"
            ],
            "text/plain": [
              "          Town  Area   Price\n",
              "0        Dhaka  2600  550000\n",
              "1        Dhaka  3000  565000\n",
              "2        Dhaka  3200  610000\n",
              "3        Dhaka  3600  680000\n",
              "4        Dhaka  4000  725000\n",
              "5   Chittagong  2600  585000\n",
              "6   Chittagong  2800  615000\n",
              "7   Chittagong  3300  650000\n",
              "8   Chittagong  3600  710000\n",
              "9       Khulna  2600  575000\n",
              "10      Khulna  2900  600000\n",
              "11      Khulna  3100  620000\n",
              "12      Khulna  3600  695000"
            ]
          },
          "metadata": {
            "tags": []
          },
          "execution_count": 49
        }
      ]
    },
    {
      "cell_type": "code",
      "metadata": {
        "colab": {
          "base_uri": "https://localhost:8080/",
          "height": 447
        },
        "id": "Mi9osg624nCb",
        "outputId": "03a25968-7972-4840-99d3-22519795274a"
      },
      "source": [
        "# Create dummy variable column by pandas.get_dummies() function\n",
        "\n",
        "pandas.get_dummies(data.Town)"
      ],
      "execution_count": 50,
      "outputs": [
        {
          "output_type": "execute_result",
          "data": {
            "text/html": [
              "<div>\n",
              "<style scoped>\n",
              "    .dataframe tbody tr th:only-of-type {\n",
              "        vertical-align: middle;\n",
              "    }\n",
              "\n",
              "    .dataframe tbody tr th {\n",
              "        vertical-align: top;\n",
              "    }\n",
              "\n",
              "    .dataframe thead th {\n",
              "        text-align: right;\n",
              "    }\n",
              "</style>\n",
              "<table border=\"1\" class=\"dataframe\">\n",
              "  <thead>\n",
              "    <tr style=\"text-align: right;\">\n",
              "      <th></th>\n",
              "      <th>Chittagong</th>\n",
              "      <th>Dhaka</th>\n",
              "      <th>Khulna</th>\n",
              "    </tr>\n",
              "  </thead>\n",
              "  <tbody>\n",
              "    <tr>\n",
              "      <th>0</th>\n",
              "      <td>0</td>\n",
              "      <td>1</td>\n",
              "      <td>0</td>\n",
              "    </tr>\n",
              "    <tr>\n",
              "      <th>1</th>\n",
              "      <td>0</td>\n",
              "      <td>1</td>\n",
              "      <td>0</td>\n",
              "    </tr>\n",
              "    <tr>\n",
              "      <th>2</th>\n",
              "      <td>0</td>\n",
              "      <td>1</td>\n",
              "      <td>0</td>\n",
              "    </tr>\n",
              "    <tr>\n",
              "      <th>3</th>\n",
              "      <td>0</td>\n",
              "      <td>1</td>\n",
              "      <td>0</td>\n",
              "    </tr>\n",
              "    <tr>\n",
              "      <th>4</th>\n",
              "      <td>0</td>\n",
              "      <td>1</td>\n",
              "      <td>0</td>\n",
              "    </tr>\n",
              "    <tr>\n",
              "      <th>5</th>\n",
              "      <td>1</td>\n",
              "      <td>0</td>\n",
              "      <td>0</td>\n",
              "    </tr>\n",
              "    <tr>\n",
              "      <th>6</th>\n",
              "      <td>1</td>\n",
              "      <td>0</td>\n",
              "      <td>0</td>\n",
              "    </tr>\n",
              "    <tr>\n",
              "      <th>7</th>\n",
              "      <td>1</td>\n",
              "      <td>0</td>\n",
              "      <td>0</td>\n",
              "    </tr>\n",
              "    <tr>\n",
              "      <th>8</th>\n",
              "      <td>1</td>\n",
              "      <td>0</td>\n",
              "      <td>0</td>\n",
              "    </tr>\n",
              "    <tr>\n",
              "      <th>9</th>\n",
              "      <td>0</td>\n",
              "      <td>0</td>\n",
              "      <td>1</td>\n",
              "    </tr>\n",
              "    <tr>\n",
              "      <th>10</th>\n",
              "      <td>0</td>\n",
              "      <td>0</td>\n",
              "      <td>1</td>\n",
              "    </tr>\n",
              "    <tr>\n",
              "      <th>11</th>\n",
              "      <td>0</td>\n",
              "      <td>0</td>\n",
              "      <td>1</td>\n",
              "    </tr>\n",
              "    <tr>\n",
              "      <th>12</th>\n",
              "      <td>0</td>\n",
              "      <td>0</td>\n",
              "      <td>1</td>\n",
              "    </tr>\n",
              "  </tbody>\n",
              "</table>\n",
              "</div>"
            ],
            "text/plain": [
              "    Chittagong  Dhaka  Khulna\n",
              "0            0      1       0\n",
              "1            0      1       0\n",
              "2            0      1       0\n",
              "3            0      1       0\n",
              "4            0      1       0\n",
              "5            1      0       0\n",
              "6            1      0       0\n",
              "7            1      0       0\n",
              "8            1      0       0\n",
              "9            0      0       1\n",
              "10           0      0       1\n",
              "11           0      0       1\n",
              "12           0      0       1"
            ]
          },
          "metadata": {
            "tags": []
          },
          "execution_count": 50
        }
      ]
    },
    {
      "cell_type": "code",
      "metadata": {
        "colab": {
          "base_uri": "https://localhost:8080/",
          "height": 447
        },
        "id": "joYVywxGk8CG",
        "outputId": "01c004e5-27e7-4837-8871-c546cf76cdaf"
      },
      "source": [
        "dummies = pandas.get_dummies(data.Town)\n",
        "\n",
        "dummies"
      ],
      "execution_count": 51,
      "outputs": [
        {
          "output_type": "execute_result",
          "data": {
            "text/html": [
              "<div>\n",
              "<style scoped>\n",
              "    .dataframe tbody tr th:only-of-type {\n",
              "        vertical-align: middle;\n",
              "    }\n",
              "\n",
              "    .dataframe tbody tr th {\n",
              "        vertical-align: top;\n",
              "    }\n",
              "\n",
              "    .dataframe thead th {\n",
              "        text-align: right;\n",
              "    }\n",
              "</style>\n",
              "<table border=\"1\" class=\"dataframe\">\n",
              "  <thead>\n",
              "    <tr style=\"text-align: right;\">\n",
              "      <th></th>\n",
              "      <th>Chittagong</th>\n",
              "      <th>Dhaka</th>\n",
              "      <th>Khulna</th>\n",
              "    </tr>\n",
              "  </thead>\n",
              "  <tbody>\n",
              "    <tr>\n",
              "      <th>0</th>\n",
              "      <td>0</td>\n",
              "      <td>1</td>\n",
              "      <td>0</td>\n",
              "    </tr>\n",
              "    <tr>\n",
              "      <th>1</th>\n",
              "      <td>0</td>\n",
              "      <td>1</td>\n",
              "      <td>0</td>\n",
              "    </tr>\n",
              "    <tr>\n",
              "      <th>2</th>\n",
              "      <td>0</td>\n",
              "      <td>1</td>\n",
              "      <td>0</td>\n",
              "    </tr>\n",
              "    <tr>\n",
              "      <th>3</th>\n",
              "      <td>0</td>\n",
              "      <td>1</td>\n",
              "      <td>0</td>\n",
              "    </tr>\n",
              "    <tr>\n",
              "      <th>4</th>\n",
              "      <td>0</td>\n",
              "      <td>1</td>\n",
              "      <td>0</td>\n",
              "    </tr>\n",
              "    <tr>\n",
              "      <th>5</th>\n",
              "      <td>1</td>\n",
              "      <td>0</td>\n",
              "      <td>0</td>\n",
              "    </tr>\n",
              "    <tr>\n",
              "      <th>6</th>\n",
              "      <td>1</td>\n",
              "      <td>0</td>\n",
              "      <td>0</td>\n",
              "    </tr>\n",
              "    <tr>\n",
              "      <th>7</th>\n",
              "      <td>1</td>\n",
              "      <td>0</td>\n",
              "      <td>0</td>\n",
              "    </tr>\n",
              "    <tr>\n",
              "      <th>8</th>\n",
              "      <td>1</td>\n",
              "      <td>0</td>\n",
              "      <td>0</td>\n",
              "    </tr>\n",
              "    <tr>\n",
              "      <th>9</th>\n",
              "      <td>0</td>\n",
              "      <td>0</td>\n",
              "      <td>1</td>\n",
              "    </tr>\n",
              "    <tr>\n",
              "      <th>10</th>\n",
              "      <td>0</td>\n",
              "      <td>0</td>\n",
              "      <td>1</td>\n",
              "    </tr>\n",
              "    <tr>\n",
              "      <th>11</th>\n",
              "      <td>0</td>\n",
              "      <td>0</td>\n",
              "      <td>1</td>\n",
              "    </tr>\n",
              "    <tr>\n",
              "      <th>12</th>\n",
              "      <td>0</td>\n",
              "      <td>0</td>\n",
              "      <td>1</td>\n",
              "    </tr>\n",
              "  </tbody>\n",
              "</table>\n",
              "</div>"
            ],
            "text/plain": [
              "    Chittagong  Dhaka  Khulna\n",
              "0            0      1       0\n",
              "1            0      1       0\n",
              "2            0      1       0\n",
              "3            0      1       0\n",
              "4            0      1       0\n",
              "5            1      0       0\n",
              "6            1      0       0\n",
              "7            1      0       0\n",
              "8            1      0       0\n",
              "9            0      0       1\n",
              "10           0      0       1\n",
              "11           0      0       1\n",
              "12           0      0       1"
            ]
          },
          "metadata": {
            "tags": []
          },
          "execution_count": 51
        }
      ]
    },
    {
      "cell_type": "code",
      "metadata": {
        "colab": {
          "base_uri": "https://localhost:8080/",
          "height": 447
        },
        "id": "Qn7UXLwDm1fD",
        "outputId": "18292500-beef-4c63-df75-aa0ea504f561"
      },
      "source": [
        "# concat two dataframe data and dummies\n",
        "\n",
        "merged = pandas.concat([data, dummies], axis='columns')\n",
        "\n",
        "merged"
      ],
      "execution_count": 52,
      "outputs": [
        {
          "output_type": "execute_result",
          "data": {
            "text/html": [
              "<div>\n",
              "<style scoped>\n",
              "    .dataframe tbody tr th:only-of-type {\n",
              "        vertical-align: middle;\n",
              "    }\n",
              "\n",
              "    .dataframe tbody tr th {\n",
              "        vertical-align: top;\n",
              "    }\n",
              "\n",
              "    .dataframe thead th {\n",
              "        text-align: right;\n",
              "    }\n",
              "</style>\n",
              "<table border=\"1\" class=\"dataframe\">\n",
              "  <thead>\n",
              "    <tr style=\"text-align: right;\">\n",
              "      <th></th>\n",
              "      <th>Town</th>\n",
              "      <th>Area</th>\n",
              "      <th>Price</th>\n",
              "      <th>Chittagong</th>\n",
              "      <th>Dhaka</th>\n",
              "      <th>Khulna</th>\n",
              "    </tr>\n",
              "  </thead>\n",
              "  <tbody>\n",
              "    <tr>\n",
              "      <th>0</th>\n",
              "      <td>Dhaka</td>\n",
              "      <td>2600</td>\n",
              "      <td>550000</td>\n",
              "      <td>0</td>\n",
              "      <td>1</td>\n",
              "      <td>0</td>\n",
              "    </tr>\n",
              "    <tr>\n",
              "      <th>1</th>\n",
              "      <td>Dhaka</td>\n",
              "      <td>3000</td>\n",
              "      <td>565000</td>\n",
              "      <td>0</td>\n",
              "      <td>1</td>\n",
              "      <td>0</td>\n",
              "    </tr>\n",
              "    <tr>\n",
              "      <th>2</th>\n",
              "      <td>Dhaka</td>\n",
              "      <td>3200</td>\n",
              "      <td>610000</td>\n",
              "      <td>0</td>\n",
              "      <td>1</td>\n",
              "      <td>0</td>\n",
              "    </tr>\n",
              "    <tr>\n",
              "      <th>3</th>\n",
              "      <td>Dhaka</td>\n",
              "      <td>3600</td>\n",
              "      <td>680000</td>\n",
              "      <td>0</td>\n",
              "      <td>1</td>\n",
              "      <td>0</td>\n",
              "    </tr>\n",
              "    <tr>\n",
              "      <th>4</th>\n",
              "      <td>Dhaka</td>\n",
              "      <td>4000</td>\n",
              "      <td>725000</td>\n",
              "      <td>0</td>\n",
              "      <td>1</td>\n",
              "      <td>0</td>\n",
              "    </tr>\n",
              "    <tr>\n",
              "      <th>5</th>\n",
              "      <td>Chittagong</td>\n",
              "      <td>2600</td>\n",
              "      <td>585000</td>\n",
              "      <td>1</td>\n",
              "      <td>0</td>\n",
              "      <td>0</td>\n",
              "    </tr>\n",
              "    <tr>\n",
              "      <th>6</th>\n",
              "      <td>Chittagong</td>\n",
              "      <td>2800</td>\n",
              "      <td>615000</td>\n",
              "      <td>1</td>\n",
              "      <td>0</td>\n",
              "      <td>0</td>\n",
              "    </tr>\n",
              "    <tr>\n",
              "      <th>7</th>\n",
              "      <td>Chittagong</td>\n",
              "      <td>3300</td>\n",
              "      <td>650000</td>\n",
              "      <td>1</td>\n",
              "      <td>0</td>\n",
              "      <td>0</td>\n",
              "    </tr>\n",
              "    <tr>\n",
              "      <th>8</th>\n",
              "      <td>Chittagong</td>\n",
              "      <td>3600</td>\n",
              "      <td>710000</td>\n",
              "      <td>1</td>\n",
              "      <td>0</td>\n",
              "      <td>0</td>\n",
              "    </tr>\n",
              "    <tr>\n",
              "      <th>9</th>\n",
              "      <td>Khulna</td>\n",
              "      <td>2600</td>\n",
              "      <td>575000</td>\n",
              "      <td>0</td>\n",
              "      <td>0</td>\n",
              "      <td>1</td>\n",
              "    </tr>\n",
              "    <tr>\n",
              "      <th>10</th>\n",
              "      <td>Khulna</td>\n",
              "      <td>2900</td>\n",
              "      <td>600000</td>\n",
              "      <td>0</td>\n",
              "      <td>0</td>\n",
              "      <td>1</td>\n",
              "    </tr>\n",
              "    <tr>\n",
              "      <th>11</th>\n",
              "      <td>Khulna</td>\n",
              "      <td>3100</td>\n",
              "      <td>620000</td>\n",
              "      <td>0</td>\n",
              "      <td>0</td>\n",
              "      <td>1</td>\n",
              "    </tr>\n",
              "    <tr>\n",
              "      <th>12</th>\n",
              "      <td>Khulna</td>\n",
              "      <td>3600</td>\n",
              "      <td>695000</td>\n",
              "      <td>0</td>\n",
              "      <td>0</td>\n",
              "      <td>1</td>\n",
              "    </tr>\n",
              "  </tbody>\n",
              "</table>\n",
              "</div>"
            ],
            "text/plain": [
              "          Town  Area   Price  Chittagong  Dhaka  Khulna\n",
              "0        Dhaka  2600  550000           0      1       0\n",
              "1        Dhaka  3000  565000           0      1       0\n",
              "2        Dhaka  3200  610000           0      1       0\n",
              "3        Dhaka  3600  680000           0      1       0\n",
              "4        Dhaka  4000  725000           0      1       0\n",
              "5   Chittagong  2600  585000           1      0       0\n",
              "6   Chittagong  2800  615000           1      0       0\n",
              "7   Chittagong  3300  650000           1      0       0\n",
              "8   Chittagong  3600  710000           1      0       0\n",
              "9       Khulna  2600  575000           0      0       1\n",
              "10      Khulna  2900  600000           0      0       1\n",
              "11      Khulna  3100  620000           0      0       1\n",
              "12      Khulna  3600  695000           0      0       1"
            ]
          },
          "metadata": {
            "tags": []
          },
          "execution_count": 52
        }
      ]
    },
    {
      "cell_type": "markdown",
      "metadata": {
        "id": "1lQ1MH_x2Jxw"
      },
      "source": [
        "[Muticollinearity](https://https://www.youtube.com/watch?v=ekuD8JUdL6M)"
      ]
    },
    {
      "cell_type": "markdown",
      "metadata": {
        "id": "fP5-Qlo32VI5"
      },
      "source": [
        "**Dummy Variable Trap** : <br>\n",
        "The Dummy variable trap is a scenario where there are attributes which are highly correlated (Multicollinear) and one variable predicts the value of others. When we use one hot encoding for handling the categorical data, then one dummy variable (attribute) can be predicted with the help of other dummy variables. Hence, one dummy variable is highly correlated with other dummy variables.\n",
        "Using all dummy variables for regression models lead to dummy variable trap. So, the regression models should be designed excluding one dummy variable.\n",
        "\n",
        "**For Example** : <br>\n",
        "Let’s consider the case of gender having two values male (0 or 1) and female (1 or 0). Including both the dummy variable can cause redundancy because if a person is not male in such case that person is a female, hence, we don’t need to use both the variables in regression models. This will protect us from dummy variable trap."
      ]
    },
    {
      "cell_type": "code",
      "metadata": {
        "id": "ytfTSpGqoC7F",
        "colab": {
          "base_uri": "https://localhost:8080/",
          "height": 447
        },
        "outputId": "5cbdd718-d8d0-4723-bcb8-679a2f9f4979"
      },
      "source": [
        "# Now Drop Town and Chittagong column\n",
        "\n",
        "final = merged.drop(['Town', 'Chittagong'], axis='columns')\n",
        "\n",
        "final"
      ],
      "execution_count": 53,
      "outputs": [
        {
          "output_type": "execute_result",
          "data": {
            "text/html": [
              "<div>\n",
              "<style scoped>\n",
              "    .dataframe tbody tr th:only-of-type {\n",
              "        vertical-align: middle;\n",
              "    }\n",
              "\n",
              "    .dataframe tbody tr th {\n",
              "        vertical-align: top;\n",
              "    }\n",
              "\n",
              "    .dataframe thead th {\n",
              "        text-align: right;\n",
              "    }\n",
              "</style>\n",
              "<table border=\"1\" class=\"dataframe\">\n",
              "  <thead>\n",
              "    <tr style=\"text-align: right;\">\n",
              "      <th></th>\n",
              "      <th>Area</th>\n",
              "      <th>Price</th>\n",
              "      <th>Dhaka</th>\n",
              "      <th>Khulna</th>\n",
              "    </tr>\n",
              "  </thead>\n",
              "  <tbody>\n",
              "    <tr>\n",
              "      <th>0</th>\n",
              "      <td>2600</td>\n",
              "      <td>550000</td>\n",
              "      <td>1</td>\n",
              "      <td>0</td>\n",
              "    </tr>\n",
              "    <tr>\n",
              "      <th>1</th>\n",
              "      <td>3000</td>\n",
              "      <td>565000</td>\n",
              "      <td>1</td>\n",
              "      <td>0</td>\n",
              "    </tr>\n",
              "    <tr>\n",
              "      <th>2</th>\n",
              "      <td>3200</td>\n",
              "      <td>610000</td>\n",
              "      <td>1</td>\n",
              "      <td>0</td>\n",
              "    </tr>\n",
              "    <tr>\n",
              "      <th>3</th>\n",
              "      <td>3600</td>\n",
              "      <td>680000</td>\n",
              "      <td>1</td>\n",
              "      <td>0</td>\n",
              "    </tr>\n",
              "    <tr>\n",
              "      <th>4</th>\n",
              "      <td>4000</td>\n",
              "      <td>725000</td>\n",
              "      <td>1</td>\n",
              "      <td>0</td>\n",
              "    </tr>\n",
              "    <tr>\n",
              "      <th>5</th>\n",
              "      <td>2600</td>\n",
              "      <td>585000</td>\n",
              "      <td>0</td>\n",
              "      <td>0</td>\n",
              "    </tr>\n",
              "    <tr>\n",
              "      <th>6</th>\n",
              "      <td>2800</td>\n",
              "      <td>615000</td>\n",
              "      <td>0</td>\n",
              "      <td>0</td>\n",
              "    </tr>\n",
              "    <tr>\n",
              "      <th>7</th>\n",
              "      <td>3300</td>\n",
              "      <td>650000</td>\n",
              "      <td>0</td>\n",
              "      <td>0</td>\n",
              "    </tr>\n",
              "    <tr>\n",
              "      <th>8</th>\n",
              "      <td>3600</td>\n",
              "      <td>710000</td>\n",
              "      <td>0</td>\n",
              "      <td>0</td>\n",
              "    </tr>\n",
              "    <tr>\n",
              "      <th>9</th>\n",
              "      <td>2600</td>\n",
              "      <td>575000</td>\n",
              "      <td>0</td>\n",
              "      <td>1</td>\n",
              "    </tr>\n",
              "    <tr>\n",
              "      <th>10</th>\n",
              "      <td>2900</td>\n",
              "      <td>600000</td>\n",
              "      <td>0</td>\n",
              "      <td>1</td>\n",
              "    </tr>\n",
              "    <tr>\n",
              "      <th>11</th>\n",
              "      <td>3100</td>\n",
              "      <td>620000</td>\n",
              "      <td>0</td>\n",
              "      <td>1</td>\n",
              "    </tr>\n",
              "    <tr>\n",
              "      <th>12</th>\n",
              "      <td>3600</td>\n",
              "      <td>695000</td>\n",
              "      <td>0</td>\n",
              "      <td>1</td>\n",
              "    </tr>\n",
              "  </tbody>\n",
              "</table>\n",
              "</div>"
            ],
            "text/plain": [
              "    Area   Price  Dhaka  Khulna\n",
              "0   2600  550000      1       0\n",
              "1   3000  565000      1       0\n",
              "2   3200  610000      1       0\n",
              "3   3600  680000      1       0\n",
              "4   4000  725000      1       0\n",
              "5   2600  585000      0       0\n",
              "6   2800  615000      0       0\n",
              "7   3300  650000      0       0\n",
              "8   3600  710000      0       0\n",
              "9   2600  575000      0       1\n",
              "10  2900  600000      0       1\n",
              "11  3100  620000      0       1\n",
              "12  3600  695000      0       1"
            ]
          },
          "metadata": {
            "tags": []
          },
          "execution_count": 53
        }
      ]
    },
    {
      "cell_type": "code",
      "metadata": {
        "id": "0id2cBgVHqI2"
      },
      "source": [
        "# For Linear Regression create Linear Regression model\n",
        "\n",
        "from sklearn.linear_model import LinearRegression\n",
        "model = LinearRegression()"
      ],
      "execution_count": 54,
      "outputs": []
    },
    {
      "cell_type": "code",
      "metadata": {
        "colab": {
          "base_uri": "https://localhost:8080/",
          "height": 447
        },
        "id": "XeK1beIrIWva",
        "outputId": "d728dd7c-f71d-41e9-a28d-494eb05880b1"
      },
      "source": [
        "# Train model\n",
        "\n",
        "x = final.drop('Price', axis='columns')\n",
        "\n",
        "x"
      ],
      "execution_count": 55,
      "outputs": [
        {
          "output_type": "execute_result",
          "data": {
            "text/html": [
              "<div>\n",
              "<style scoped>\n",
              "    .dataframe tbody tr th:only-of-type {\n",
              "        vertical-align: middle;\n",
              "    }\n",
              "\n",
              "    .dataframe tbody tr th {\n",
              "        vertical-align: top;\n",
              "    }\n",
              "\n",
              "    .dataframe thead th {\n",
              "        text-align: right;\n",
              "    }\n",
              "</style>\n",
              "<table border=\"1\" class=\"dataframe\">\n",
              "  <thead>\n",
              "    <tr style=\"text-align: right;\">\n",
              "      <th></th>\n",
              "      <th>Area</th>\n",
              "      <th>Dhaka</th>\n",
              "      <th>Khulna</th>\n",
              "    </tr>\n",
              "  </thead>\n",
              "  <tbody>\n",
              "    <tr>\n",
              "      <th>0</th>\n",
              "      <td>2600</td>\n",
              "      <td>1</td>\n",
              "      <td>0</td>\n",
              "    </tr>\n",
              "    <tr>\n",
              "      <th>1</th>\n",
              "      <td>3000</td>\n",
              "      <td>1</td>\n",
              "      <td>0</td>\n",
              "    </tr>\n",
              "    <tr>\n",
              "      <th>2</th>\n",
              "      <td>3200</td>\n",
              "      <td>1</td>\n",
              "      <td>0</td>\n",
              "    </tr>\n",
              "    <tr>\n",
              "      <th>3</th>\n",
              "      <td>3600</td>\n",
              "      <td>1</td>\n",
              "      <td>0</td>\n",
              "    </tr>\n",
              "    <tr>\n",
              "      <th>4</th>\n",
              "      <td>4000</td>\n",
              "      <td>1</td>\n",
              "      <td>0</td>\n",
              "    </tr>\n",
              "    <tr>\n",
              "      <th>5</th>\n",
              "      <td>2600</td>\n",
              "      <td>0</td>\n",
              "      <td>0</td>\n",
              "    </tr>\n",
              "    <tr>\n",
              "      <th>6</th>\n",
              "      <td>2800</td>\n",
              "      <td>0</td>\n",
              "      <td>0</td>\n",
              "    </tr>\n",
              "    <tr>\n",
              "      <th>7</th>\n",
              "      <td>3300</td>\n",
              "      <td>0</td>\n",
              "      <td>0</td>\n",
              "    </tr>\n",
              "    <tr>\n",
              "      <th>8</th>\n",
              "      <td>3600</td>\n",
              "      <td>0</td>\n",
              "      <td>0</td>\n",
              "    </tr>\n",
              "    <tr>\n",
              "      <th>9</th>\n",
              "      <td>2600</td>\n",
              "      <td>0</td>\n",
              "      <td>1</td>\n",
              "    </tr>\n",
              "    <tr>\n",
              "      <th>10</th>\n",
              "      <td>2900</td>\n",
              "      <td>0</td>\n",
              "      <td>1</td>\n",
              "    </tr>\n",
              "    <tr>\n",
              "      <th>11</th>\n",
              "      <td>3100</td>\n",
              "      <td>0</td>\n",
              "      <td>1</td>\n",
              "    </tr>\n",
              "    <tr>\n",
              "      <th>12</th>\n",
              "      <td>3600</td>\n",
              "      <td>0</td>\n",
              "      <td>1</td>\n",
              "    </tr>\n",
              "  </tbody>\n",
              "</table>\n",
              "</div>"
            ],
            "text/plain": [
              "    Area  Dhaka  Khulna\n",
              "0   2600      1       0\n",
              "1   3000      1       0\n",
              "2   3200      1       0\n",
              "3   3600      1       0\n",
              "4   4000      1       0\n",
              "5   2600      0       0\n",
              "6   2800      0       0\n",
              "7   3300      0       0\n",
              "8   3600      0       0\n",
              "9   2600      0       1\n",
              "10  2900      0       1\n",
              "11  3100      0       1\n",
              "12  3600      0       1"
            ]
          },
          "metadata": {
            "tags": []
          },
          "execution_count": 55
        }
      ]
    },
    {
      "cell_type": "code",
      "metadata": {
        "colab": {
          "base_uri": "https://localhost:8080/"
        },
        "id": "4-smnBkcKyWV",
        "outputId": "a6e5238d-9db8-4788-f68e-3c4625643226"
      },
      "source": [
        "y = final.Price\n",
        "\n",
        "y"
      ],
      "execution_count": 57,
      "outputs": [
        {
          "output_type": "execute_result",
          "data": {
            "text/plain": [
              "0     550000\n",
              "1     565000\n",
              "2     610000\n",
              "3     680000\n",
              "4     725000\n",
              "5     585000\n",
              "6     615000\n",
              "7     650000\n",
              "8     710000\n",
              "9     575000\n",
              "10    600000\n",
              "11    620000\n",
              "12    695000\n",
              "Name: Price, dtype: int64"
            ]
          },
          "metadata": {
            "tags": []
          },
          "execution_count": 57
        }
      ]
    },
    {
      "cell_type": "code",
      "metadata": {
        "colab": {
          "base_uri": "https://localhost:8080/"
        },
        "id": "iOAhMLM2K3_l",
        "outputId": "d4db465a-33e8-4a68-f378-8605497ff81d"
      },
      "source": [
        "model.fit(x, y)"
      ],
      "execution_count": 58,
      "outputs": [
        {
          "output_type": "execute_result",
          "data": {
            "text/plain": [
              "LinearRegression(copy_X=True, fit_intercept=True, n_jobs=None, normalize=False)"
            ]
          },
          "metadata": {
            "tags": []
          },
          "execution_count": 58
        }
      ]
    },
    {
      "cell_type": "code",
      "metadata": {
        "colab": {
          "base_uri": "https://localhost:8080/"
        },
        "id": "4korSPdBK-UH",
        "outputId": "4ca89a6e-dfd9-4763-9f86-045f6884f183"
      },
      "source": [
        "# predict area price for Area=2700, Town=Dhaka\n",
        "\n",
        "model.predict([[2700, 1, 0]])"
      ],
      "execution_count": 59,
      "outputs": [
        {
          "output_type": "execute_result",
          "data": {
            "text/plain": [
              "array([552399.48398195])"
            ]
          },
          "metadata": {
            "tags": []
          },
          "execution_count": 59
        }
      ]
    },
    {
      "cell_type": "code",
      "metadata": {
        "colab": {
          "base_uri": "https://localhost:8080/"
        },
        "id": "Crn9OhXLLkhN",
        "outputId": "b108c9db-70d1-4f83-b472-e53870a89f74"
      },
      "source": [
        "# predict area price for Area=3000, Town=Khulna\n",
        "\n",
        "model.predict([[3000, 0, 1]])"
      ],
      "execution_count": 60,
      "outputs": [
        {
          "output_type": "execute_result",
          "data": {
            "text/plain": [
              "array([616155.12792948])"
            ]
          },
          "metadata": {
            "tags": []
          },
          "execution_count": 60
        }
      ]
    },
    {
      "cell_type": "code",
      "metadata": {
        "colab": {
          "base_uri": "https://localhost:8080/"
        },
        "id": "quFFs9RgL3VU",
        "outputId": "730b4e06-6312-4a0d-8fe2-8ba9cb2213f5"
      },
      "source": [
        "# predict area price for Area=3500, Town=Chittagong\n",
        "\n",
        "model.predict([[3500, 0, 0]])"
      ],
      "execution_count": 61,
      "outputs": [
        {
          "output_type": "execute_result",
          "data": {
            "text/plain": [
              "array([693931.41259943])"
            ]
          },
          "metadata": {
            "tags": []
          },
          "execution_count": 61
        }
      ]
    },
    {
      "cell_type": "code",
      "metadata": {
        "colab": {
          "base_uri": "https://localhost:8080/"
        },
        "id": "xjvtBiLGMRgL",
        "outputId": "ef7e5953-126b-4863-fb10-ce7d3210bee4"
      },
      "source": [
        "# How much Linear Regression model correct measured by score() function\n",
        "# in score function supply x\n",
        "# score() function predict value for all x data then compare y value\n",
        "# thus this function measured the correctness of a model\n",
        "\n",
        "model.score(x, y)"
      ],
      "execution_count": 62,
      "outputs": [
        {
          "output_type": "execute_result",
          "data": {
            "text/plain": [
              "0.9573929037221873"
            ]
          },
          "metadata": {
            "tags": []
          },
          "execution_count": 62
        }
      ]
    },
    {
      "cell_type": "code",
      "metadata": {
        "id": "_RrtIU18Uf8u"
      },
      "source": [
        "# start One-Hot Encoding\n",
        "\n",
        "# By ColumnTransformer transformers to columns of an array or pandas DataFrame\n",
        "# By specifying remainder='passthrough', all remaining columns that were not specified in transformers will be automatically passed through. \n",
        "\n",
        "from sklearn.preprocessing import OneHotEncoder\n",
        "from sklearn.compose import ColumnTransformer\n",
        "\n",
        "column = ColumnTransformer([('Town', OneHotEncoder(), [0])], remainder = 'passthrough')\n"
      ],
      "execution_count": 63,
      "outputs": []
    },
    {
      "cell_type": "code",
      "metadata": {
        "colab": {
          "base_uri": "https://localhost:8080/"
        },
        "id": "2_HDF21TaAPT",
        "outputId": "a527f9a0-36a4-44a0-c584-7a03f9f65a1f"
      },
      "source": [
        "# Now use one-hot encoder to create dummy variables for each of the town\n",
        "\n",
        "x = column.fit_transform(data[['Town', 'Area']])\n",
        "\n",
        "x"
      ],
      "execution_count": 71,
      "outputs": [
        {
          "output_type": "execute_result",
          "data": {
            "text/plain": [
              "array([[0.0e+00, 1.0e+00, 0.0e+00, 2.6e+03],\n",
              "       [0.0e+00, 1.0e+00, 0.0e+00, 3.0e+03],\n",
              "       [0.0e+00, 1.0e+00, 0.0e+00, 3.2e+03],\n",
              "       [0.0e+00, 1.0e+00, 0.0e+00, 3.6e+03],\n",
              "       [0.0e+00, 1.0e+00, 0.0e+00, 4.0e+03],\n",
              "       [1.0e+00, 0.0e+00, 0.0e+00, 2.6e+03],\n",
              "       [1.0e+00, 0.0e+00, 0.0e+00, 2.8e+03],\n",
              "       [1.0e+00, 0.0e+00, 0.0e+00, 3.3e+03],\n",
              "       [1.0e+00, 0.0e+00, 0.0e+00, 3.6e+03],\n",
              "       [0.0e+00, 0.0e+00, 1.0e+00, 2.6e+03],\n",
              "       [0.0e+00, 0.0e+00, 1.0e+00, 2.9e+03],\n",
              "       [0.0e+00, 0.0e+00, 1.0e+00, 3.1e+03],\n",
              "       [0.0e+00, 0.0e+00, 1.0e+00, 3.6e+03]])"
            ]
          },
          "metadata": {
            "tags": []
          },
          "execution_count": 71
        }
      ]
    },
    {
      "cell_type": "code",
      "metadata": {
        "id": "0zJhnd0cagrb",
        "colab": {
          "base_uri": "https://localhost:8080/"
        },
        "outputId": "82e72f9b-840f-404d-d8cf-95ebccc72bed"
      },
      "source": [
        "x = x[ : , 1 : ]\n",
        "\n",
        "x"
      ],
      "execution_count": 72,
      "outputs": [
        {
          "output_type": "execute_result",
          "data": {
            "text/plain": [
              "array([[1.0e+00, 0.0e+00, 2.6e+03],\n",
              "       [1.0e+00, 0.0e+00, 3.0e+03],\n",
              "       [1.0e+00, 0.0e+00, 3.2e+03],\n",
              "       [1.0e+00, 0.0e+00, 3.6e+03],\n",
              "       [1.0e+00, 0.0e+00, 4.0e+03],\n",
              "       [0.0e+00, 0.0e+00, 2.6e+03],\n",
              "       [0.0e+00, 0.0e+00, 2.8e+03],\n",
              "       [0.0e+00, 0.0e+00, 3.3e+03],\n",
              "       [0.0e+00, 0.0e+00, 3.6e+03],\n",
              "       [0.0e+00, 1.0e+00, 2.6e+03],\n",
              "       [0.0e+00, 1.0e+00, 2.9e+03],\n",
              "       [0.0e+00, 1.0e+00, 3.1e+03],\n",
              "       [0.0e+00, 1.0e+00, 3.6e+03]])"
            ]
          },
          "metadata": {
            "tags": []
          },
          "execution_count": 72
        }
      ]
    },
    {
      "cell_type": "code",
      "metadata": {
        "colab": {
          "base_uri": "https://localhost:8080/"
        },
        "id": "GCG8QqcdFJUL",
        "outputId": "45ef4f7d-e6bf-4eb3-b85c-6438be5f6409"
      },
      "source": [
        "y = data.Price.values\n",
        "\n",
        "y"
      ],
      "execution_count": 73,
      "outputs": [
        {
          "output_type": "execute_result",
          "data": {
            "text/plain": [
              "array([550000, 565000, 610000, 680000, 725000, 585000, 615000, 650000,\n",
              "       710000, 575000, 600000, 620000, 695000])"
            ]
          },
          "metadata": {
            "tags": []
          },
          "execution_count": 73
        }
      ]
    },
    {
      "cell_type": "code",
      "metadata": {
        "id": "xUVnqrFWFao7",
        "colab": {
          "base_uri": "https://localhost:8080/"
        },
        "outputId": "9155ed9e-9da8-4aa5-86f5-1dba1c8473cf"
      },
      "source": [
        "# Again create Linear Regression model object \n",
        "# Then train Linear Regression model by endcoding data which is get by one-hot encoding\n",
        "# then predict the price and compare above dummy variable price\n",
        "\n",
        "model_object = LinearRegression()\n",
        "model_object.fit(x, y)"
      ],
      "execution_count": 74,
      "outputs": [
        {
          "output_type": "execute_result",
          "data": {
            "text/plain": [
              "LinearRegression(copy_X=True, fit_intercept=True, n_jobs=None, normalize=False)"
            ]
          },
          "metadata": {
            "tags": []
          },
          "execution_count": 74
        }
      ]
    },
    {
      "cell_type": "code",
      "metadata": {
        "colab": {
          "base_uri": "https://localhost:8080/"
        },
        "id": "5ErEqq2RGEI-",
        "outputId": "805dfbf5-7c42-43e4-b788-2f4907dfd749"
      },
      "source": [
        "# predict area price for Area=2700, Town=Dhaka\n",
        "\n",
        "model_object.predict([[1, 0, 2700]])        # same result as dummy variable"
      ],
      "execution_count": 75,
      "outputs": [
        {
          "output_type": "execute_result",
          "data": {
            "text/plain": [
              "array([552399.48398194])"
            ]
          },
          "metadata": {
            "tags": []
          },
          "execution_count": 75
        }
      ]
    },
    {
      "cell_type": "code",
      "metadata": {
        "colab": {
          "base_uri": "https://localhost:8080/"
        },
        "id": "lXBPpGtdIC2k",
        "outputId": "f39eb5bf-3c29-42f5-804d-1d1b9fc2103e"
      },
      "source": [
        "# predict area price for Area=3000, Town=Khulna\n",
        "\n",
        "model_object.predict([[0, 1, 3000]])       # same result as dummy variable"
      ],
      "execution_count": 76,
      "outputs": [
        {
          "output_type": "execute_result",
          "data": {
            "text/plain": [
              "array([616155.12792948])"
            ]
          },
          "metadata": {
            "tags": []
          },
          "execution_count": 76
        }
      ]
    },
    {
      "cell_type": "code",
      "metadata": {
        "colab": {
          "base_uri": "https://localhost:8080/"
        },
        "id": "L3ubSGtiIOhx",
        "outputId": "ba416a97-7796-4588-b235-dd02d5bdefe7"
      },
      "source": [
        "# predict area price for Area=3500, Town=Chittagong\n",
        "\n",
        "model_object.predict([[0, 0, 3500]])       # same result as dummy variable"
      ],
      "execution_count": 77,
      "outputs": [
        {
          "output_type": "execute_result",
          "data": {
            "text/plain": [
              "array([693931.41259944])"
            ]
          },
          "metadata": {
            "tags": []
          },
          "execution_count": 77
        }
      ]
    }
  ]
}